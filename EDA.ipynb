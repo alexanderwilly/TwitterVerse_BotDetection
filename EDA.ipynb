{
 "cells": [
  {
   "cell_type": "code",
   "execution_count": 1,
   "id": "2c3fe4b4-351d-4f82-93c5-96c19ea064bb",
   "metadata": {},
   "outputs": [
    {
     "name": "stdout",
     "output_type": "stream",
     "text": [
      "Import Done!\n"
     ]
    }
   ],
   "source": [
    "import numpy as np\n",
    "import pandas as pd\n",
    "import matplotlib.pyplot as plt\n",
    "import seaborn as sns\n",
    "from tqdm import tqdm\n",
    "import time\n",
    "\n",
    "from sklearn.model_selection import train_test_split\n",
    "\n",
    "print('Import Done!')"
   ]
  },
  {
   "cell_type": "markdown",
   "id": "b8bae831-2412-460a-92d9-ba31f0d667a5",
   "metadata": {},
   "source": [
    "## Load Data"
   ]
  },
  {
   "cell_type": "code",
   "execution_count": 2,
   "id": "2b0324e7-3fc6-480e-a4ea-eb6e56fef9f9",
   "metadata": {},
   "outputs": [
    {
     "name": "stderr",
     "output_type": "stream",
     "text": [
      "26207it [00:00, 104339.23it/s]\n"
     ]
    },
    {
     "data": {
      "text/html": [
       "<div>\n",
       "<style scoped>\n",
       "    .dataframe tbody tr th:only-of-type {\n",
       "        vertical-align: middle;\n",
       "    }\n",
       "\n",
       "    .dataframe tbody tr th {\n",
       "        vertical-align: top;\n",
       "    }\n",
       "\n",
       "    .dataframe thead th {\n",
       "        text-align: right;\n",
       "    }\n",
       "</style>\n",
       "<table border=\"1\" class=\"dataframe\">\n",
       "  <thead>\n",
       "    <tr style=\"text-align: right;\">\n",
       "      <th></th>\n",
       "      <th>created_at</th>\n",
       "      <th>default_profile</th>\n",
       "      <th>default_profile_image</th>\n",
       "      <th>description</th>\n",
       "      <th>favourites_count</th>\n",
       "      <th>followers_count</th>\n",
       "      <th>friends_count</th>\n",
       "      <th>geo_enabled</th>\n",
       "      <th>id</th>\n",
       "      <th>lang</th>\n",
       "      <th>location</th>\n",
       "      <th>profile_background_image_url</th>\n",
       "      <th>profile_image_url</th>\n",
       "      <th>screen_name</th>\n",
       "      <th>statuses_count</th>\n",
       "      <th>verified</th>\n",
       "      <th>average_tweets_per_day</th>\n",
       "      <th>account_age_days</th>\n",
       "      <th>target</th>\n",
       "    </tr>\n",
       "  </thead>\n",
       "  <tbody>\n",
       "    <tr>\n",
       "      <th>0</th>\n",
       "      <td>2012-01-15 23:40:09</td>\n",
       "      <td>True</td>\n",
       "      <td>False</td>\n",
       "      <td>Cosplayer/Fitness lover. Come to me https://t....</td>\n",
       "      <td>74</td>\n",
       "      <td>7</td>\n",
       "      <td>0</td>\n",
       "      <td>False</td>\n",
       "      <td>465096524</td>\n",
       "      <td>en</td>\n",
       "      <td>unknown</td>\n",
       "      <td>http://abs.twimg.com/images/themes/theme1/bg.png</td>\n",
       "      <td>http://pbs.twimg.com/profile_images/9666745212...</td>\n",
       "      <td>reml5477</td>\n",
       "      <td>20</td>\n",
       "      <td>False</td>\n",
       "      <td>0.006</td>\n",
       "      <td>3138</td>\n",
       "      <td>1</td>\n",
       "    </tr>\n",
       "    <tr>\n",
       "      <th>1</th>\n",
       "      <td>2016-10-04 00:44:39</td>\n",
       "      <td>False</td>\n",
       "      <td>False</td>\n",
       "      <td>pobody’s nerfect</td>\n",
       "      <td>50443</td>\n",
       "      <td>164</td>\n",
       "      <td>590</td>\n",
       "      <td>True</td>\n",
       "      <td>783105517673648132</td>\n",
       "      <td>cy</td>\n",
       "      <td>she/her</td>\n",
       "      <td>http://abs.twimg.com/images/themes/theme1/bg.png</td>\n",
       "      <td>http://pbs.twimg.com/profile_images/1281752126...</td>\n",
       "      <td>kinlibra</td>\n",
       "      <td>6469</td>\n",
       "      <td>False</td>\n",
       "      <td>4.572</td>\n",
       "      <td>1415</td>\n",
       "      <td>0</td>\n",
       "    </tr>\n",
       "    <tr>\n",
       "      <th>2</th>\n",
       "      <td>2009-05-23 04:04:13</td>\n",
       "      <td>False</td>\n",
       "      <td>False</td>\n",
       "      <td>gracias por participar 🏅</td>\n",
       "      <td>9394</td>\n",
       "      <td>208</td>\n",
       "      <td>189</td>\n",
       "      <td>False</td>\n",
       "      <td>41970759</td>\n",
       "      <td>es</td>\n",
       "      <td>La diaspora</td>\n",
       "      <td>http://abs.twimg.com/images/themes/theme17/bg.gif</td>\n",
       "      <td>http://pbs.twimg.com/profile_images/1233811596...</td>\n",
       "      <td>_delaualau</td>\n",
       "      <td>30296</td>\n",
       "      <td>False</td>\n",
       "      <td>7.378</td>\n",
       "      <td>4106</td>\n",
       "      <td>0</td>\n",
       "    </tr>\n",
       "    <tr>\n",
       "      <th>3</th>\n",
       "      <td>2009-05-17 04:31:31</td>\n",
       "      <td>False</td>\n",
       "      <td>False</td>\n",
       "      <td>Stand Up Comedian/Actor from North Philadelphi...</td>\n",
       "      <td>46</td>\n",
       "      <td>66180</td>\n",
       "      <td>1090</td>\n",
       "      <td>True</td>\n",
       "      <td>40607946</td>\n",
       "      <td>en</td>\n",
       "      <td>Calabasas, CA</td>\n",
       "      <td>http://abs.twimg.com/images/themes/theme1/bg.png</td>\n",
       "      <td>http://pbs.twimg.com/profile_images/1184851104...</td>\n",
       "      <td>SpankHorton</td>\n",
       "      <td>164957</td>\n",
       "      <td>False</td>\n",
       "      <td>40.116</td>\n",
       "      <td>4112</td>\n",
       "      <td>0</td>\n",
       "    </tr>\n",
       "    <tr>\n",
       "      <th>4</th>\n",
       "      <td>2009-02-16 13:11:21</td>\n",
       "      <td>True</td>\n",
       "      <td>False</td>\n",
       "      <td>Assignment Editor at NBC10 and President of Ja...</td>\n",
       "      <td>1223</td>\n",
       "      <td>487</td>\n",
       "      <td>867</td>\n",
       "      <td>True</td>\n",
       "      <td>20983433</td>\n",
       "      <td>en</td>\n",
       "      <td>Jenkintown, PA</td>\n",
       "      <td>http://abs.twimg.com/images/themes/theme1/bg.png</td>\n",
       "      <td>http://pbs.twimg.com/profile_images/5234863934...</td>\n",
       "      <td>javelinjt</td>\n",
       "      <td>1752</td>\n",
       "      <td>False</td>\n",
       "      <td>0.417</td>\n",
       "      <td>4201</td>\n",
       "      <td>0</td>\n",
       "    </tr>\n",
       "  </tbody>\n",
       "</table>\n",
       "</div>"
      ],
      "text/plain": [
       "            created_at  default_profile  default_profile_image  \\\n",
       "0  2012-01-15 23:40:09             True                  False   \n",
       "1  2016-10-04 00:44:39            False                  False   \n",
       "2  2009-05-23 04:04:13            False                  False   \n",
       "3  2009-05-17 04:31:31            False                  False   \n",
       "4  2009-02-16 13:11:21             True                  False   \n",
       "\n",
       "                                         description  favourites_count  \\\n",
       "0  Cosplayer/Fitness lover. Come to me https://t....                74   \n",
       "1                                   pobody’s nerfect             50443   \n",
       "2                           gracias por participar 🏅              9394   \n",
       "3  Stand Up Comedian/Actor from North Philadelphi...                46   \n",
       "4  Assignment Editor at NBC10 and President of Ja...              1223   \n",
       "\n",
       "   followers_count  friends_count  geo_enabled                  id lang  \\\n",
       "0                7              0        False           465096524   en   \n",
       "1              164            590         True  783105517673648132   cy   \n",
       "2              208            189        False            41970759   es   \n",
       "3            66180           1090         True            40607946   en   \n",
       "4              487            867         True            20983433   en   \n",
       "\n",
       "         location                       profile_background_image_url  \\\n",
       "0         unknown   http://abs.twimg.com/images/themes/theme1/bg.png   \n",
       "1        she/her    http://abs.twimg.com/images/themes/theme1/bg.png   \n",
       "2     La diaspora  http://abs.twimg.com/images/themes/theme17/bg.gif   \n",
       "3   Calabasas, CA   http://abs.twimg.com/images/themes/theme1/bg.png   \n",
       "4  Jenkintown, PA   http://abs.twimg.com/images/themes/theme1/bg.png   \n",
       "\n",
       "                                   profile_image_url  screen_name  \\\n",
       "0  http://pbs.twimg.com/profile_images/9666745212...     reml5477   \n",
       "1  http://pbs.twimg.com/profile_images/1281752126...     kinlibra   \n",
       "2  http://pbs.twimg.com/profile_images/1233811596...   _delaualau   \n",
       "3  http://pbs.twimg.com/profile_images/1184851104...  SpankHorton   \n",
       "4  http://pbs.twimg.com/profile_images/5234863934...    javelinjt   \n",
       "\n",
       "   statuses_count  verified  average_tweets_per_day  account_age_days  target  \n",
       "0              20     False                   0.006              3138       1  \n",
       "1            6469     False                   4.572              1415       0  \n",
       "2           30296     False                   7.378              4106       0  \n",
       "3          164957     False                  40.116              4112       0  \n",
       "4            1752     False                   0.417              4201       0  "
      ]
     },
     "execution_count": 2,
     "metadata": {},
     "output_type": "execute_result"
    }
   ],
   "source": [
    "with tqdm() as bar:\n",
    "    # do not skip any of the rows, but update the progress bar instead\n",
    "    df = pd.read_csv('data/train.csv', skiprows=lambda x: bar.update(1) and False)\n",
    "\n",
    "df.head()"
   ]
  },
  {
   "cell_type": "markdown",
   "id": "99841451-2091-4665-96cd-efd24b64523f",
   "metadata": {},
   "source": [
    "## Train/Val/Test Split"
   ]
  },
  {
   "cell_type": "markdown",
   "id": "25d338c1-8680-436f-aa25-5cdd1a6ec7ac",
   "metadata": {},
   "source": [
    "The proportion of Train/Val/Test Split is:\n",
    "<ul>\n",
    "    <li>\n",
    "        Train: 70%\n",
    "    </li>\n",
    "    <li>\n",
    "        Val: 20%\n",
    "    </li>\n",
    "    <li>\n",
    "        Test: 10%\n",
    "    </li>\n",
    "</ul>"
   ]
  },
  {
   "cell_type": "code",
   "execution_count": 3,
   "id": "07f08e8b-547e-444a-9ad4-221fd352b470",
   "metadata": {},
   "outputs": [],
   "source": [
    "X = df.drop('target', axis = 1) \n",
    "y = df['target']"
   ]
  },
  {
   "cell_type": "code",
   "execution_count": 4,
   "id": "1cbed008-75aa-45e6-899d-838d8a8ed9f6",
   "metadata": {},
   "outputs": [],
   "source": [
    "# Initial split: 80% training, 20% validation & test\n",
    "X_train, X_temp, y_train, y_temp = train_test_split(X, y, test_size=0.2, random_state=1, stratify=y)\n",
    "\n",
    "# Second split: 10% validation, 10% test\n",
    "X_val, X_test, y_val, y_test = train_test_split(X_temp, y_temp, test_size=0.5, random_state=1, stratify=y_temp)"
   ]
  },
  {
   "cell_type": "markdown",
   "id": "8c58b283-cfc6-4d18-9285-ad07c84539df",
   "metadata": {},
   "source": [
    "## Exploratory Data Analysis"
   ]
  },
  {
   "cell_type": "code",
   "execution_count": 5,
   "id": "ad46d23c-2e27-45da-915e-5934dd099cd6",
   "metadata": {},
   "outputs": [
    {
     "data": {
      "text/html": [
       "<div>\n",
       "<style scoped>\n",
       "    .dataframe tbody tr th:only-of-type {\n",
       "        vertical-align: middle;\n",
       "    }\n",
       "\n",
       "    .dataframe tbody tr th {\n",
       "        vertical-align: top;\n",
       "    }\n",
       "\n",
       "    .dataframe thead th {\n",
       "        text-align: right;\n",
       "    }\n",
       "</style>\n",
       "<table border=\"1\" class=\"dataframe\">\n",
       "  <thead>\n",
       "    <tr style=\"text-align: right;\">\n",
       "      <th></th>\n",
       "      <th>created_at</th>\n",
       "      <th>default_profile</th>\n",
       "      <th>default_profile_image</th>\n",
       "      <th>description</th>\n",
       "      <th>favourites_count</th>\n",
       "      <th>followers_count</th>\n",
       "      <th>friends_count</th>\n",
       "      <th>geo_enabled</th>\n",
       "      <th>id</th>\n",
       "      <th>lang</th>\n",
       "      <th>location</th>\n",
       "      <th>profile_background_image_url</th>\n",
       "      <th>profile_image_url</th>\n",
       "      <th>screen_name</th>\n",
       "      <th>statuses_count</th>\n",
       "      <th>verified</th>\n",
       "      <th>average_tweets_per_day</th>\n",
       "      <th>account_age_days</th>\n",
       "      <th>target</th>\n",
       "    </tr>\n",
       "  </thead>\n",
       "  <tbody>\n",
       "    <tr>\n",
       "      <th>12800</th>\n",
       "      <td>2016-03-24 15:55:14</td>\n",
       "      <td>True</td>\n",
       "      <td>False</td>\n",
       "      <td>You'll turn out ordinary if you're not careful...</td>\n",
       "      <td>33315</td>\n",
       "      <td>317</td>\n",
       "      <td>360</td>\n",
       "      <td>True</td>\n",
       "      <td>713031428833828865</td>\n",
       "      <td>en</td>\n",
       "      <td>Nebraska, USA</td>\n",
       "      <td>NaN</td>\n",
       "      <td>http://pbs.twimg.com/profile_images/8681274423...</td>\n",
       "      <td>midwesternlivin</td>\n",
       "      <td>3126</td>\n",
       "      <td>False</td>\n",
       "      <td>1.944</td>\n",
       "      <td>1608</td>\n",
       "      <td>0</td>\n",
       "    </tr>\n",
       "    <tr>\n",
       "      <th>24611</th>\n",
       "      <td>2013-04-19 21:47:49</td>\n",
       "      <td>False</td>\n",
       "      <td>False</td>\n",
       "      <td>NaN</td>\n",
       "      <td>4537</td>\n",
       "      <td>82</td>\n",
       "      <td>835</td>\n",
       "      <td>False</td>\n",
       "      <td>1365481327</td>\n",
       "      <td>NaN</td>\n",
       "      <td>España</td>\n",
       "      <td>http://abs.twimg.com/images/themes/theme1/bg.png</td>\n",
       "      <td>http://pbs.twimg.com/profile_images/1066967277...</td>\n",
       "      <td>juanhmetal</td>\n",
       "      <td>3487</td>\n",
       "      <td>False</td>\n",
       "      <td>1.302</td>\n",
       "      <td>2678</td>\n",
       "      <td>0</td>\n",
       "    </tr>\n",
       "    <tr>\n",
       "      <th>25400</th>\n",
       "      <td>2009-03-10 20:45:17</td>\n",
       "      <td>False</td>\n",
       "      <td>False</td>\n",
       "      <td>Tenista/ Tennis player https://t.co/GFbv9Txek4...</td>\n",
       "      <td>273</td>\n",
       "      <td>1820590</td>\n",
       "      <td>125</td>\n",
       "      <td>True</td>\n",
       "      <td>23653153</td>\n",
       "      <td>en</td>\n",
       "      <td>Florianópolis, Brasil</td>\n",
       "      <td>http://abs.twimg.com/images/themes/theme1/bg.png</td>\n",
       "      <td>http://pbs.twimg.com/profile_images/1136630171...</td>\n",
       "      <td>gugakuerten</td>\n",
       "      <td>4443</td>\n",
       "      <td>True</td>\n",
       "      <td>1.063</td>\n",
       "      <td>4179</td>\n",
       "      <td>0</td>\n",
       "    </tr>\n",
       "    <tr>\n",
       "      <th>20148</th>\n",
       "      <td>2012-05-08 09:36:00</td>\n",
       "      <td>True</td>\n",
       "      <td>False</td>\n",
       "      <td>☼☾xvi // photography // ☽☼</td>\n",
       "      <td>76</td>\n",
       "      <td>27</td>\n",
       "      <td>0</td>\n",
       "      <td>False</td>\n",
       "      <td>574422621</td>\n",
       "      <td>en</td>\n",
       "      <td>unknown</td>\n",
       "      <td>http://abs.twimg.com/images/themes/theme1/bg.png</td>\n",
       "      <td>http://pbs.twimg.com/profile_images/5269345911...</td>\n",
       "      <td>tiffanylloyd018</td>\n",
       "      <td>204</td>\n",
       "      <td>False</td>\n",
       "      <td>0.067</td>\n",
       "      <td>3025</td>\n",
       "      <td>0</td>\n",
       "    </tr>\n",
       "    <tr>\n",
       "      <th>24284</th>\n",
       "      <td>2011-04-25 20:03:49</td>\n",
       "      <td>False</td>\n",
       "      <td>False</td>\n",
       "      <td>NaN</td>\n",
       "      <td>2906</td>\n",
       "      <td>135</td>\n",
       "      <td>0</td>\n",
       "      <td>False</td>\n",
       "      <td>287850643</td>\n",
       "      <td>NaN</td>\n",
       "      <td>unknown</td>\n",
       "      <td>http://abs.twimg.com/images/themes/theme1/bg.png</td>\n",
       "      <td>http://pbs.twimg.com/profile_images/8045759682...</td>\n",
       "      <td>alexsimons2</td>\n",
       "      <td>13754</td>\n",
       "      <td>False</td>\n",
       "      <td>4.042</td>\n",
       "      <td>3403</td>\n",
       "      <td>1</td>\n",
       "    </tr>\n",
       "  </tbody>\n",
       "</table>\n",
       "</div>"
      ],
      "text/plain": [
       "                created_at  default_profile  default_profile_image  \\\n",
       "12800  2016-03-24 15:55:14             True                  False   \n",
       "24611  2013-04-19 21:47:49            False                  False   \n",
       "25400  2009-03-10 20:45:17            False                  False   \n",
       "20148  2012-05-08 09:36:00             True                  False   \n",
       "24284  2011-04-25 20:03:49            False                  False   \n",
       "\n",
       "                                             description  favourites_count  \\\n",
       "12800  You'll turn out ordinary if you're not careful...             33315   \n",
       "24611                                                NaN              4537   \n",
       "25400  Tenista/ Tennis player https://t.co/GFbv9Txek4...               273   \n",
       "20148                         ☼☾xvi // photography // ☽☼                76   \n",
       "24284                                                NaN              2906   \n",
       "\n",
       "       followers_count  friends_count  geo_enabled                  id lang  \\\n",
       "12800              317            360         True  713031428833828865   en   \n",
       "24611               82            835        False          1365481327  NaN   \n",
       "25400          1820590            125         True            23653153   en   \n",
       "20148               27              0        False           574422621   en   \n",
       "24284              135              0        False           287850643  NaN   \n",
       "\n",
       "                    location  \\\n",
       "12800          Nebraska, USA   \n",
       "24611                 España   \n",
       "25400  Florianópolis, Brasil   \n",
       "20148                unknown   \n",
       "24284                unknown   \n",
       "\n",
       "                           profile_background_image_url  \\\n",
       "12800                                               NaN   \n",
       "24611  http://abs.twimg.com/images/themes/theme1/bg.png   \n",
       "25400  http://abs.twimg.com/images/themes/theme1/bg.png   \n",
       "20148  http://abs.twimg.com/images/themes/theme1/bg.png   \n",
       "24284  http://abs.twimg.com/images/themes/theme1/bg.png   \n",
       "\n",
       "                                       profile_image_url      screen_name  \\\n",
       "12800  http://pbs.twimg.com/profile_images/8681274423...  midwesternlivin   \n",
       "24611  http://pbs.twimg.com/profile_images/1066967277...       juanhmetal   \n",
       "25400  http://pbs.twimg.com/profile_images/1136630171...      gugakuerten   \n",
       "20148  http://pbs.twimg.com/profile_images/5269345911...  tiffanylloyd018   \n",
       "24284  http://pbs.twimg.com/profile_images/8045759682...      alexsimons2   \n",
       "\n",
       "       statuses_count  verified  average_tweets_per_day  account_age_days  \\\n",
       "12800            3126     False                   1.944              1608   \n",
       "24611            3487     False                   1.302              2678   \n",
       "25400            4443      True                   1.063              4179   \n",
       "20148             204     False                   0.067              3025   \n",
       "24284           13754     False                   4.042              3403   \n",
       "\n",
       "       target  \n",
       "12800       0  \n",
       "24611       0  \n",
       "25400       0  \n",
       "20148       0  \n",
       "24284       1  "
      ]
     },
     "execution_count": 5,
     "metadata": {},
     "output_type": "execute_result"
    }
   ],
   "source": [
    "df_train = X_train.copy()\n",
    "df_train['target'] = y_train\n",
    "\n",
    "df_train.head()"
   ]
  },
  {
   "cell_type": "code",
   "execution_count": 6,
   "id": "7db167f3-a8a9-4c17-b4a3-222bd5b2381b",
   "metadata": {},
   "outputs": [
    {
     "name": "stdout",
     "output_type": "stream",
     "text": [
      "<class 'pandas.core.frame.DataFrame'>\n",
      "Index: 20964 entries, 12800 to 10106\n",
      "Data columns (total 19 columns):\n",
      " #   Column                        Non-Null Count  Dtype  \n",
      "---  ------                        --------------  -----  \n",
      " 0   created_at                    20964 non-null  object \n",
      " 1   default_profile               20964 non-null  bool   \n",
      " 2   default_profile_image         20964 non-null  bool   \n",
      " 3   description                   16904 non-null  object \n",
      " 4   favourites_count              20964 non-null  int64  \n",
      " 5   followers_count               20964 non-null  int64  \n",
      " 6   friends_count                 20964 non-null  int64  \n",
      " 7   geo_enabled                   20964 non-null  bool   \n",
      " 8   id                            20964 non-null  int64  \n",
      " 9   lang                          16506 non-null  object \n",
      " 10  location                      20962 non-null  object \n",
      " 11  profile_background_image_url  18371 non-null  object \n",
      " 12  profile_image_url             20963 non-null  object \n",
      " 13  screen_name                   20964 non-null  object \n",
      " 14  statuses_count                20964 non-null  int64  \n",
      " 15  verified                      20964 non-null  bool   \n",
      " 16  average_tweets_per_day        20964 non-null  float64\n",
      " 17  account_age_days              20964 non-null  int64  \n",
      " 18  target                        20964 non-null  int64  \n",
      "dtypes: bool(4), float64(1), int64(7), object(7)\n",
      "memory usage: 2.6+ MB\n"
     ]
    }
   ],
   "source": [
    "# ====== DF Info ======\n",
    "df_train.info()"
   ]
  },
  {
   "cell_type": "markdown",
   "id": "6ea0b87b-393b-4324-95af-00beb09eecfe",
   "metadata": {},
   "source": [
    "<b>df_train consists of the following columns:</b>\n",
    "<ol>\n",
    "    <li>\n",
    "        <b>created_at</b>, The date and time when the Twitter account was created --> datetime object\n",
    "    </li>\n",
    "    <li>\n",
    "        <b>default_profile</b>, Indicates whether the user has a default profile settings --> boolean T/F\n",
    "    </li>\n",
    "    <li>\n",
    "        <b>default_profile_image</b>, Indicates whether the user has a default profile image --> boolean T/F\n",
    "    </li>\n",
    "    <li>\n",
    "        <b>description</b>, The user's profile description or bio --> string object\n",
    "    </li>\n",
    "    <li>\n",
    "        <b>favourites_count</b>, The number of tweets the user has liked --> integer\n",
    "    </li>\n",
    "    <li>\n",
    "        <b>followers_count</b>, The number of followers the user has --> integer\n",
    "    </li>\n",
    "    <li>\n",
    "        <b>friends_count</b>, The number of accounts the user is following --> integer\n",
    "    </li>\n",
    "    <li>\n",
    "        <b>geo_enabled</b>, Indicates whether the user has enabled location services --> boolean T/F\n",
    "    </li>\n",
    "    <li>\n",
    "        <b>id</b>, The unique identifier for the Twitter account --> integer\n",
    "    </li>\n",
    "    <li>\n",
    "        <b>lang</b>, The language preference set for the account --> string / category object\n",
    "    </li>\n",
    "    <li>\n",
    "        <b>location</b>, The location information provided by the user --> string object\n",
    "    </li>\n",
    "    <li>\n",
    "        <b>profile_background_image_url</b>, URL of the user's profile background image --> string object\n",
    "    </li>\n",
    "    <li>\n",
    "        <b>profile_image_url</b>, URL of the user's profile image --> string object\n",
    "    </li>\n",
    "    <li>\n",
    "        <b>screen_name</b>, The user's Twitter handle or username --> string object\n",
    "    </li>\n",
    "    <li>\n",
    "        <b>statuses_count</b>, The total number of tweets posted by the user --> integer\n",
    "    </li>\n",
    "    <li>\n",
    "        <b>verified</b>, Indicates whether the account is verified by Twitter --> boolean T/F\n",
    "    </li>\n",
    "    <li>\n",
    "        <b>average_tweets_per_day</b>, The average number of tweets posted per day --> decimal float\n",
    "    </li>\n",
    "    <li>\n",
    "        <b>account_age_days</b>, The age of the account in days --> integer\n",
    "    </li>\n",
    "    <li>\n",
    "        <b>target</b>, The classification label indicating whether the account is a bot or not --> boolean 0/1 \n",
    "    </li>\n",
    "</ol>"
   ]
  },
  {
   "cell_type": "code",
   "execution_count": 7,
   "id": "53a560e2-3f74-453d-a92e-1e3627e71bdb",
   "metadata": {},
   "outputs": [
    {
     "data": {
      "text/plain": [
       "created_at                         0\n",
       "default_profile                    0\n",
       "default_profile_image              0\n",
       "description                     4060\n",
       "favourites_count                   0\n",
       "followers_count                    0\n",
       "friends_count                      0\n",
       "geo_enabled                        0\n",
       "id                                 0\n",
       "lang                            4458\n",
       "location                           2\n",
       "profile_background_image_url    2593\n",
       "profile_image_url                  1\n",
       "screen_name                        0\n",
       "statuses_count                     0\n",
       "verified                           0\n",
       "average_tweets_per_day             0\n",
       "account_age_days                   0\n",
       "target                             0\n",
       "dtype: int64"
      ]
     },
     "execution_count": 7,
     "metadata": {},
     "output_type": "execute_result"
    }
   ],
   "source": [
    "# ====== checking null values ========\n",
    "df_train.isnull().sum()\n",
    "# found some empty values in: description, lang, profile_background_image_url, profile_image_url, location"
   ]
  },
  {
   "cell_type": "markdown",
   "id": "07f30309-9273-4545-9411-4d55bb0a66ff",
   "metadata": {},
   "source": [
    "### 1) created_at"
   ]
  },
  {
   "cell_type": "code",
   "execution_count": 8,
   "id": "f5468e04-9ca0-4b5c-8c8d-5d4829709453",
   "metadata": {},
   "outputs": [],
   "source": [
    "df_train['created_at'] = pd.to_datetime(df_train['created_at']) # convert to date time"
   ]
  },
  {
   "cell_type": "code",
   "execution_count": 9,
   "id": "197d39b9-0d28-4245-b8cc-5ec95126ea76",
   "metadata": {},
   "outputs": [
    {
     "data": {
      "text/plain": [
       "count                            20964\n",
       "mean     2012-05-14 07:34:03.905266176\n",
       "min                2006-07-13 09:05:49\n",
       "25%      2009-12-18 20:29:25.750000128\n",
       "50%                2011-10-27 22:40:25\n",
       "75%                2014-04-29 20:37:29\n",
       "max                2019-04-24 08:53:21\n",
       "Name: created_at, dtype: object"
      ]
     },
     "execution_count": 9,
     "metadata": {},
     "output_type": "execute_result"
    }
   ],
   "source": [
    "df_train['created_at'].describe() # this dataset consist of user data created between 2006 and 2019"
   ]
  },
  {
   "cell_type": "code",
   "execution_count": 10,
   "id": "ed18af1e-a75e-4bf0-bd59-a11e9eb6427b",
   "metadata": {
    "scrolled": true
   },
   "outputs": [
    {
     "data": {
      "text/html": [
       "<div>\n",
       "<style scoped>\n",
       "    .dataframe tbody tr th:only-of-type {\n",
       "        vertical-align: middle;\n",
       "    }\n",
       "\n",
       "    .dataframe tbody tr th {\n",
       "        vertical-align: top;\n",
       "    }\n",
       "\n",
       "    .dataframe thead th {\n",
       "        text-align: right;\n",
       "    }\n",
       "</style>\n",
       "<table border=\"1\" class=\"dataframe\">\n",
       "  <thead>\n",
       "    <tr style=\"text-align: right;\">\n",
       "      <th></th>\n",
       "      <th>created_at</th>\n",
       "      <th>target</th>\n",
       "    </tr>\n",
       "  </thead>\n",
       "  <tbody>\n",
       "    <tr>\n",
       "      <th>24284</th>\n",
       "      <td>2011-04-25 20:03:49</td>\n",
       "      <td>1</td>\n",
       "    </tr>\n",
       "    <tr>\n",
       "      <th>2770</th>\n",
       "      <td>2011-02-16 00:33:15</td>\n",
       "      <td>1</td>\n",
       "    </tr>\n",
       "    <tr>\n",
       "      <th>3711</th>\n",
       "      <td>2010-06-07 02:22:50</td>\n",
       "      <td>1</td>\n",
       "    </tr>\n",
       "    <tr>\n",
       "      <th>2085</th>\n",
       "      <td>2014-11-18 01:03:07</td>\n",
       "      <td>1</td>\n",
       "    </tr>\n",
       "    <tr>\n",
       "      <th>10098</th>\n",
       "      <td>2009-07-09 03:26:39</td>\n",
       "      <td>1</td>\n",
       "    </tr>\n",
       "    <tr>\n",
       "      <th>21780</th>\n",
       "      <td>2016-03-31 07:43:38</td>\n",
       "      <td>1</td>\n",
       "    </tr>\n",
       "    <tr>\n",
       "      <th>8381</th>\n",
       "      <td>2011-01-29 18:03:10</td>\n",
       "      <td>1</td>\n",
       "    </tr>\n",
       "    <tr>\n",
       "      <th>364</th>\n",
       "      <td>2013-10-16 03:49:08</td>\n",
       "      <td>1</td>\n",
       "    </tr>\n",
       "    <tr>\n",
       "      <th>9110</th>\n",
       "      <td>2010-08-31 13:49:33</td>\n",
       "      <td>1</td>\n",
       "    </tr>\n",
       "    <tr>\n",
       "      <th>18786</th>\n",
       "      <td>2017-06-21 10:52:37</td>\n",
       "      <td>1</td>\n",
       "    </tr>\n",
       "    <tr>\n",
       "      <th>24556</th>\n",
       "      <td>2011-06-26 21:16:12</td>\n",
       "      <td>1</td>\n",
       "    </tr>\n",
       "    <tr>\n",
       "      <th>3966</th>\n",
       "      <td>2012-11-28 22:33:41</td>\n",
       "      <td>1</td>\n",
       "    </tr>\n",
       "    <tr>\n",
       "      <th>18693</th>\n",
       "      <td>2017-02-22 21:46:14</td>\n",
       "      <td>1</td>\n",
       "    </tr>\n",
       "    <tr>\n",
       "      <th>6841</th>\n",
       "      <td>2017-01-21 02:26:58</td>\n",
       "      <td>1</td>\n",
       "    </tr>\n",
       "    <tr>\n",
       "      <th>13239</th>\n",
       "      <td>2009-11-25 16:55:52</td>\n",
       "      <td>1</td>\n",
       "    </tr>\n",
       "    <tr>\n",
       "      <th>16484</th>\n",
       "      <td>2010-08-23 16:07:55</td>\n",
       "      <td>1</td>\n",
       "    </tr>\n",
       "    <tr>\n",
       "      <th>1293</th>\n",
       "      <td>2011-12-07 02:17:18</td>\n",
       "      <td>1</td>\n",
       "    </tr>\n",
       "    <tr>\n",
       "      <th>15918</th>\n",
       "      <td>2015-07-28 13:40:44</td>\n",
       "      <td>1</td>\n",
       "    </tr>\n",
       "    <tr>\n",
       "      <th>21016</th>\n",
       "      <td>2010-06-05 21:07:39</td>\n",
       "      <td>1</td>\n",
       "    </tr>\n",
       "    <tr>\n",
       "      <th>18225</th>\n",
       "      <td>2011-08-29 02:19:31</td>\n",
       "      <td>1</td>\n",
       "    </tr>\n",
       "  </tbody>\n",
       "</table>\n",
       "</div>"
      ],
      "text/plain": [
       "               created_at  target\n",
       "24284 2011-04-25 20:03:49       1\n",
       "2770  2011-02-16 00:33:15       1\n",
       "3711  2010-06-07 02:22:50       1\n",
       "2085  2014-11-18 01:03:07       1\n",
       "10098 2009-07-09 03:26:39       1\n",
       "21780 2016-03-31 07:43:38       1\n",
       "8381  2011-01-29 18:03:10       1\n",
       "364   2013-10-16 03:49:08       1\n",
       "9110  2010-08-31 13:49:33       1\n",
       "18786 2017-06-21 10:52:37       1\n",
       "24556 2011-06-26 21:16:12       1\n",
       "3966  2012-11-28 22:33:41       1\n",
       "18693 2017-02-22 21:46:14       1\n",
       "6841  2017-01-21 02:26:58       1\n",
       "13239 2009-11-25 16:55:52       1\n",
       "16484 2010-08-23 16:07:55       1\n",
       "1293  2011-12-07 02:17:18       1\n",
       "15918 2015-07-28 13:40:44       1\n",
       "21016 2010-06-05 21:07:39       1\n",
       "18225 2011-08-29 02:19:31       1"
      ]
     },
     "execution_count": 10,
     "metadata": {},
     "output_type": "execute_result"
    }
   ],
   "source": [
    "df_train[df_train['target'] == 1][['created_at', 'target']].head(20)"
   ]
  },
  {
   "cell_type": "code",
   "execution_count": 11,
   "id": "765c7ee9-7f7a-4ebd-ac88-2455f8fd483e",
   "metadata": {
    "scrolled": true
   },
   "outputs": [
    {
     "data": {
      "text/html": [
       "<div>\n",
       "<style scoped>\n",
       "    .dataframe tbody tr th:only-of-type {\n",
       "        vertical-align: middle;\n",
       "    }\n",
       "\n",
       "    .dataframe tbody tr th {\n",
       "        vertical-align: top;\n",
       "    }\n",
       "\n",
       "    .dataframe thead th {\n",
       "        text-align: right;\n",
       "    }\n",
       "</style>\n",
       "<table border=\"1\" class=\"dataframe\">\n",
       "  <thead>\n",
       "    <tr style=\"text-align: right;\">\n",
       "      <th></th>\n",
       "      <th>created_at</th>\n",
       "      <th>target</th>\n",
       "    </tr>\n",
       "  </thead>\n",
       "  <tbody>\n",
       "    <tr>\n",
       "      <th>12800</th>\n",
       "      <td>2016-03-24 15:55:14</td>\n",
       "      <td>0</td>\n",
       "    </tr>\n",
       "    <tr>\n",
       "      <th>24611</th>\n",
       "      <td>2013-04-19 21:47:49</td>\n",
       "      <td>0</td>\n",
       "    </tr>\n",
       "    <tr>\n",
       "      <th>25400</th>\n",
       "      <td>2009-03-10 20:45:17</td>\n",
       "      <td>0</td>\n",
       "    </tr>\n",
       "    <tr>\n",
       "      <th>20148</th>\n",
       "      <td>2012-05-08 09:36:00</td>\n",
       "      <td>0</td>\n",
       "    </tr>\n",
       "    <tr>\n",
       "      <th>22592</th>\n",
       "      <td>2008-05-16 00:19:29</td>\n",
       "      <td>0</td>\n",
       "    </tr>\n",
       "    <tr>\n",
       "      <th>2101</th>\n",
       "      <td>2009-04-01 22:20:30</td>\n",
       "      <td>0</td>\n",
       "    </tr>\n",
       "    <tr>\n",
       "      <th>1029</th>\n",
       "      <td>2016-05-19 23:36:50</td>\n",
       "      <td>0</td>\n",
       "    </tr>\n",
       "    <tr>\n",
       "      <th>6117</th>\n",
       "      <td>2017-02-03 23:09:48</td>\n",
       "      <td>0</td>\n",
       "    </tr>\n",
       "    <tr>\n",
       "      <th>2913</th>\n",
       "      <td>2012-05-09 20:19:43</td>\n",
       "      <td>0</td>\n",
       "    </tr>\n",
       "    <tr>\n",
       "      <th>15398</th>\n",
       "      <td>2009-08-18 18:18:54</td>\n",
       "      <td>0</td>\n",
       "    </tr>\n",
       "    <tr>\n",
       "      <th>19118</th>\n",
       "      <td>2009-04-18 04:31:09</td>\n",
       "      <td>0</td>\n",
       "    </tr>\n",
       "    <tr>\n",
       "      <th>8247</th>\n",
       "      <td>2009-01-20 00:36:06</td>\n",
       "      <td>0</td>\n",
       "    </tr>\n",
       "    <tr>\n",
       "      <th>25470</th>\n",
       "      <td>2009-03-17 16:24:02</td>\n",
       "      <td>0</td>\n",
       "    </tr>\n",
       "    <tr>\n",
       "      <th>23285</th>\n",
       "      <td>2012-07-30 00:13:37</td>\n",
       "      <td>0</td>\n",
       "    </tr>\n",
       "    <tr>\n",
       "      <th>15075</th>\n",
       "      <td>2010-11-05 15:53:54</td>\n",
       "      <td>0</td>\n",
       "    </tr>\n",
       "    <tr>\n",
       "      <th>13262</th>\n",
       "      <td>2012-04-07 15:20:51</td>\n",
       "      <td>0</td>\n",
       "    </tr>\n",
       "    <tr>\n",
       "      <th>21644</th>\n",
       "      <td>2010-03-08 16:59:43</td>\n",
       "      <td>0</td>\n",
       "    </tr>\n",
       "    <tr>\n",
       "      <th>24938</th>\n",
       "      <td>2009-04-11 01:49:01</td>\n",
       "      <td>0</td>\n",
       "    </tr>\n",
       "    <tr>\n",
       "      <th>7362</th>\n",
       "      <td>2010-09-02 14:15:53</td>\n",
       "      <td>0</td>\n",
       "    </tr>\n",
       "    <tr>\n",
       "      <th>15897</th>\n",
       "      <td>2010-09-08 00:30:47</td>\n",
       "      <td>0</td>\n",
       "    </tr>\n",
       "  </tbody>\n",
       "</table>\n",
       "</div>"
      ],
      "text/plain": [
       "               created_at  target\n",
       "12800 2016-03-24 15:55:14       0\n",
       "24611 2013-04-19 21:47:49       0\n",
       "25400 2009-03-10 20:45:17       0\n",
       "20148 2012-05-08 09:36:00       0\n",
       "22592 2008-05-16 00:19:29       0\n",
       "2101  2009-04-01 22:20:30       0\n",
       "1029  2016-05-19 23:36:50       0\n",
       "6117  2017-02-03 23:09:48       0\n",
       "2913  2012-05-09 20:19:43       0\n",
       "15398 2009-08-18 18:18:54       0\n",
       "19118 2009-04-18 04:31:09       0\n",
       "8247  2009-01-20 00:36:06       0\n",
       "25470 2009-03-17 16:24:02       0\n",
       "23285 2012-07-30 00:13:37       0\n",
       "15075 2010-11-05 15:53:54       0\n",
       "13262 2012-04-07 15:20:51       0\n",
       "21644 2010-03-08 16:59:43       0\n",
       "24938 2009-04-11 01:49:01       0\n",
       "7362  2010-09-02 14:15:53       0\n",
       "15897 2010-09-08 00:30:47       0"
      ]
     },
     "execution_count": 11,
     "metadata": {},
     "output_type": "execute_result"
    }
   ],
   "source": [
    "df_train[df_train['target'] == 0][['created_at', 'target']].head(20)"
   ]
  },
  {
   "cell_type": "markdown",
   "id": "9688da26-a15e-4e59-815e-91b4167d49ce",
   "metadata": {},
   "source": [
    "No futher transformation will be done for column `created_at` individually, there is no pattern between bot and non-bot in this column"
   ]
  },
  {
   "cell_type": "markdown",
   "id": "b19d2d25-518f-4bba-82d6-4e17d5cf1bd6",
   "metadata": {},
   "source": [
    "### 2) default_profile"
   ]
  },
  {
   "cell_type": "code",
   "execution_count": 12,
   "id": "f16302f1-2128-43b2-b67c-8b49e398b5a2",
   "metadata": {},
   "outputs": [],
   "source": [
    "df_train['default_profile'] = df_train['default_profile'].astype(bool) # convert to boolean, if not done"
   ]
  },
  {
   "cell_type": "code",
   "execution_count": 13,
   "id": "dfc38d25-2d2e-4f06-9354-3d3e0d3b13c4",
   "metadata": {},
   "outputs": [
    {
     "data": {
      "text/plain": [
       "default_profile\n",
       "False    12145\n",
       "True      8819\n",
       "Name: count, dtype: int64"
      ]
     },
     "execution_count": 13,
     "metadata": {},
     "output_type": "execute_result"
    }
   ],
   "source": [
    "df_train['default_profile'].value_counts()"
   ]
  },
  {
   "cell_type": "code",
   "execution_count": 14,
   "id": "51f13223-3f0a-47b8-9172-d359b7f252c8",
   "metadata": {},
   "outputs": [
    {
     "name": "stdout",
     "output_type": "stream",
     "text": [
      "Total rows: 20964\n",
      "\n",
      "Number of bots captured on default profile settings: 4388\n",
      "Number of bots captured on non-default profile settings: 2638\n",
      "\n",
      "Number of real user captured on default profile settings: 16576\n",
      "Number of real user captured on non-default profile settings: 18326\n",
      "\n",
      "62.454% of the bots captured on default profile settings\n"
     ]
    }
   ],
   "source": [
    "n_rows = df_train.shape[0]\n",
    "n_bots = df_train['target'].sum()\n",
    "\n",
    "print(\"Total rows:\", n_rows)\n",
    "print()\n",
    "print(\"Number of bots captured on default profile settings:\", df_train[df_train['default_profile'] == True]['target'].sum())\n",
    "print(\"Number of bots captured on non-default profile settings:\", df_train[df_train['default_profile'] == False]['target'].sum())\n",
    "print()\n",
    "print(\"Number of real user captured on default profile settings:\", n_rows - df_train[df_train['default_profile'] == True]['target'].sum())\n",
    "print(\"Number of real user captured on non-default profile settings:\", n_rows - df_train[df_train['default_profile'] == False]['target'].sum())\n",
    "print()\n",
    "print('%.3f%% of the bots captured on default profile settings' % (df_train[df_train['default_profile'] == True]['target'].sum()/n_bots*100))"
   ]
  },
  {
   "cell_type": "markdown",
   "id": "7dc5b295-55fa-4748-9225-6b6d5d33d299",
   "metadata": {},
   "source": [
    "### 3) default_profile_image"
   ]
  },
  {
   "cell_type": "code",
   "execution_count": 15,
   "id": "af5167e0-c1ab-4425-8312-e417160159e5",
   "metadata": {},
   "outputs": [],
   "source": [
    "df_train['default_profile_image'] = df_train['default_profile_image'].astype(bool) # convert to boolean, if not done"
   ]
  },
  {
   "cell_type": "code",
   "execution_count": 16,
   "id": "7f3267e5-e261-41da-8f95-bdaba9b6c990",
   "metadata": {},
   "outputs": [
    {
     "data": {
      "text/plain": [
       "default_profile_image\n",
       "False    20661\n",
       "True       303\n",
       "Name: count, dtype: int64"
      ]
     },
     "execution_count": 16,
     "metadata": {},
     "output_type": "execute_result"
    }
   ],
   "source": [
    "df_train['default_profile_image'].value_counts() "
   ]
  },
  {
   "cell_type": "code",
   "execution_count": 17,
   "id": "16707a30-10b0-4722-a8c3-b53ebd441c09",
   "metadata": {},
   "outputs": [
    {
     "name": "stdout",
     "output_type": "stream",
     "text": [
      "Total rows: 20964\n",
      "\n",
      "Number of bots captured on default profile image: 212\n",
      "Number of bots captured on non-default profile image: 6814\n",
      "\n",
      "Number of real user captured on default profile image: 20752\n",
      "Number of real user captured on non-default profile image: 14150\n",
      "\n",
      "3.017% of the bots captured on default profile image\n"
     ]
    }
   ],
   "source": [
    "n_rows = df_train.shape[0]\n",
    "n_bots = df_train['target'].sum()\n",
    "\n",
    "print(\"Total rows:\", n_rows)\n",
    "print()\n",
    "print(\"Number of bots captured on default profile image:\", df_train[df_train['default_profile_image'] == True]['target'].sum())\n",
    "print(\"Number of bots captured on non-default profile image:\", df_train[df_train['default_profile_image'] == False]['target'].sum())\n",
    "print()\n",
    "print(\"Number of real user captured on default profile image:\", n_rows - df_train[df_train['default_profile_image'] == True]['target'].sum())\n",
    "print(\"Number of real user captured on non-default profile image:\", n_rows - df_train[df_train['default_profile_image'] == False]['target'].sum())\n",
    "print()\n",
    "print('%.3f%% of the bots captured on default profile image' % (df_train[df_train['default_profile_image'] == True]['target'].sum()/n_bots*100))"
   ]
  },
  {
   "cell_type": "markdown",
   "id": "95b58d01-6e03-4f46-aadb-6d74dfcc8e8f",
   "metadata": {},
   "source": [
    "### 4) description"
   ]
  },
  {
   "cell_type": "code",
   "execution_count": null,
   "id": "a355992e-9a11-416a-b677-aceb966365a1",
   "metadata": {},
   "outputs": [],
   "source": []
  },
  {
   "cell_type": "markdown",
   "id": "0b0c558e-5bf3-4903-9a49-cebdee3e8902",
   "metadata": {},
   "source": [
    "### 5) favourites_count"
   ]
  },
  {
   "cell_type": "code",
   "execution_count": 18,
   "id": "f4b82e7d-b12c-43a8-8aeb-172f4e5286f5",
   "metadata": {},
   "outputs": [],
   "source": [
    "df_train['favourites_count'] = df_train['favourites_count'].astype(int) # convert to boolean, if not done"
   ]
  },
  {
   "cell_type": "code",
   "execution_count": 19,
   "id": "8ff9fbe5-a3a2-4539-97e9-ab898120e413",
   "metadata": {
    "scrolled": true
   },
   "outputs": [
    {
     "data": {
      "image/png": "[encoded data removed]",
      "text/plain": [
       "<Figure size 640x480 with 1 Axes>"
      ]
     },
     "metadata": {},
     "output_type": "display_data"
    },
    {
     "data": {
      "image/png": "[encoded data removed]",
      "text/plain": [
       "<Figure size 640x480 with 1 Axes>"
      ]
     },
     "metadata": {},
     "output_type": "display_data"
    }
   ],
   "source": [
    "df_train['favourites_count'].plot(kind='box')\n",
    "plt.show()\n",
    "\n",
    "df_train[df_train['favourites_count'] < 20000]['favourites_count'].plot(kind='box')\n",
    "plt.show() # the data is right skewed"
   ]
  },
  {
   "cell_type": "code",
   "execution_count": 20,
   "id": "338b20e8-2816-46a9-b180-9d748c331c3c",
   "metadata": {},
   "outputs": [
    {
     "data": {
      "text/plain": [
       "count      7026.000000\n",
       "mean       4349.146456\n",
       "std       23776.743466\n",
       "min           0.000000\n",
       "25%         130.000000\n",
       "50%        1109.500000\n",
       "75%        2226.750000\n",
       "max      839929.000000\n",
       "Name: favourites_count, dtype: float64"
      ]
     },
     "execution_count": 20,
     "metadata": {},
     "output_type": "execute_result"
    }
   ],
   "source": [
    "df_train[df_train['target'] == 1]['favourites_count'].describe() # bots relatively has lower favourites count"
   ]
  },
  {
   "cell_type": "code",
   "execution_count": 21,
   "id": "92c69815-2f63-4a83-ad2e-f72e47521260",
   "metadata": {},
   "outputs": [
    {
     "data": {
      "text/plain": [
       "count     13938.000000\n",
       "mean      16007.601234\n",
       "std       36827.903409\n",
       "min           0.000000\n",
       "25%         651.250000\n",
       "50%        3569.500000\n",
       "75%       15024.500000\n",
       "max      697525.000000\n",
       "Name: favourites_count, dtype: float64"
      ]
     },
     "execution_count": 21,
     "metadata": {},
     "output_type": "execute_result"
    }
   ],
   "source": [
    "df_train[df_train['target'] == 0]['favourites_count'].describe()"
   ]
  },
  {
   "cell_type": "code",
   "execution_count": 22,
   "id": "bcf6a7b5-a739-4ffa-9fcc-77253cc16ec4",
   "metadata": {},
   "outputs": [
    {
     "data": {
      "text/plain": [
       "<Axes: ylabel='favourites_count'>"
      ]
     },
     "execution_count": 22,
     "metadata": {},
     "output_type": "execute_result"
    },
    {
     "data": {
      "image/png": "[encoded data removed]",
      "text/plain": [
       "<Figure size 1000x600 with 1 Axes>"
      ]
     },
     "metadata": {},
     "output_type": "display_data"
    }
   ],
   "source": [
    "plt.figure(figsize=(10, 6))\n",
    "sns.stripplot(\n",
    "    data=df_train,\n",
    "    y='favourites_count',\n",
    "    hue='target',\n",
    "    dodge=True,\n",
    "    jitter=0.25,\n",
    "    size=4\n",
    ")"
   ]
  },
  {
   "cell_type": "markdown",
   "id": "8c6d6b4d-f5a4-492d-bae8-950667d02b96",
   "metadata": {},
   "source": [
    "Bots relatively has lower `favourites_count` than real user, but not really a good feature if solely rely on this column. Feature cross is probably needed. <br/> Furthermore, the values of `favourites_count` is right skewed and need to be transformed (e.g. with log transformed)."
   ]
  },
  {
   "cell_type": "markdown",
   "id": "a0858f38-50a9-4a14-80f6-7b249392211c",
   "metadata": {},
   "source": [
    "### 6) followers_count"
   ]
  },
  {
   "cell_type": "code",
   "execution_count": null,
   "id": "1cb5bd5d-f61c-44df-81b8-071c1c065f37",
   "metadata": {},
   "outputs": [],
   "source": []
  },
  {
   "cell_type": "markdown",
   "id": "bc85b87b-f1ea-41af-917a-13d7d08544dc",
   "metadata": {},
   "source": [
    "### 7) friends_count"
   ]
  },
  {
   "cell_type": "code",
   "execution_count": null,
   "id": "5c5a1f63-2c20-4155-bf13-9f4472cde55f",
   "metadata": {},
   "outputs": [],
   "source": []
  },
  {
   "cell_type": "markdown",
   "id": "7556667a-290d-4609-90a0-d1dcb4477f35",
   "metadata": {},
   "source": [
    "### 8) geo_enabled"
   ]
  },
  {
   "cell_type": "code",
   "execution_count": null,
   "id": "d655e148-a357-4b42-bd19-28343ea535cd",
   "metadata": {},
   "outputs": [],
   "source": []
  },
  {
   "cell_type": "markdown",
   "id": "91f0958a-8eec-4e09-a159-2c034632d11c",
   "metadata": {},
   "source": [
    "### 9) id"
   ]
  },
  {
   "cell_type": "code",
   "execution_count": null,
   "id": "c7d51722-5310-4a7f-a77f-7bb9512a7437",
   "metadata": {},
   "outputs": [],
   "source": []
  },
  {
   "cell_type": "markdown",
   "id": "7da76b3c-ceee-40d4-acbe-b2971013f5c5",
   "metadata": {},
   "source": [
    "### 10) lang"
   ]
  },
  {
   "cell_type": "code",
   "execution_count": null,
   "id": "d931c38a-c713-4de7-a913-0e53b4d98a8e",
   "metadata": {},
   "outputs": [],
   "source": []
  },
  {
   "cell_type": "markdown",
   "id": "9a827a69-ba7e-44d1-aa93-3984df711254",
   "metadata": {},
   "source": [
    "### 11) location"
   ]
  },
  {
   "cell_type": "code",
   "execution_count": null,
   "id": "705087e9-9edb-4639-8113-f5a473a5d55a",
   "metadata": {},
   "outputs": [],
   "source": []
  },
  {
   "cell_type": "markdown",
   "id": "d2b9d994-0329-4f9d-82f9-1bed9ab4149b",
   "metadata": {},
   "source": [
    "### 12) profile_background_image_url"
   ]
  },
  {
   "cell_type": "code",
   "execution_count": null,
   "id": "9d8d513a-435a-4481-8fbb-f07790396aa4",
   "metadata": {},
   "outputs": [],
   "source": []
  },
  {
   "cell_type": "markdown",
   "id": "c7415841-3e10-499d-acbc-a1276f7bf322",
   "metadata": {},
   "source": [
    "### 13) profile_image_url"
   ]
  },
  {
   "cell_type": "code",
   "execution_count": null,
   "id": "6b9a9eb0-cccd-4dcc-b70b-35e15138a44f",
   "metadata": {},
   "outputs": [],
   "source": []
  },
  {
   "cell_type": "markdown",
   "id": "592ac874-96db-4d27-80a9-6366c638fcef",
   "metadata": {},
   "source": [
    "### 14) screen_name"
   ]
  },
  {
   "cell_type": "code",
   "execution_count": null,
   "id": "46eb04b2-f88a-44be-8ee0-6ee0fb276450",
   "metadata": {},
   "outputs": [],
   "source": []
  },
  {
   "cell_type": "markdown",
   "id": "c45b5812-4b3e-4d13-a80c-7ae92b336a66",
   "metadata": {},
   "source": [
    "### 15) statuses_count"
   ]
  },
  {
   "cell_type": "code",
   "execution_count": null,
   "id": "aac8e87e-acd6-4fdf-95f3-40c94bb6fcfa",
   "metadata": {},
   "outputs": [],
   "source": []
  },
  {
   "cell_type": "markdown",
   "id": "1ec54259-9240-4594-9d64-093d7f43700a",
   "metadata": {},
   "source": [
    "### 16) verified"
   ]
  },
  {
   "cell_type": "code",
   "execution_count": null,
   "id": "5d7fcb47-45db-41a5-b915-4bdf7d96aa21",
   "metadata": {},
   "outputs": [],
   "source": []
  },
  {
   "cell_type": "markdown",
   "id": "c13cd726-2f34-498b-b1a5-20a0d2496e93",
   "metadata": {},
   "source": [
    "### 17) average_tweets_per_day"
   ]
  },
  {
   "cell_type": "code",
   "execution_count": null,
   "id": "d182e42e-573f-41f7-836f-41cd52d02929",
   "metadata": {},
   "outputs": [],
   "source": []
  },
  {
   "cell_type": "markdown",
   "id": "1a68afcc-6de2-48b3-8300-93d729a71cc1",
   "metadata": {},
   "source": [
    "### 18) account_age_days"
   ]
  },
  {
   "cell_type": "code",
   "execution_count": null,
   "id": "3c5045ea-943b-4ef2-936d-8fee009cfadd",
   "metadata": {},
   "outputs": [],
   "source": []
  },
  {
   "cell_type": "code",
   "execution_count": null,
   "id": "6c0bf42f-0c98-405e-8e2a-5271174d8c79",
   "metadata": {},
   "outputs": [],
   "source": []
  },
  {
   "cell_type": "code",
   "execution_count": null,
   "id": "31fa367d-5495-46e8-a717-ae8ecd31326a",
   "metadata": {},
   "outputs": [],
   "source": []
  }
 ],
 "metadata": {
  "kernelspec": {
   "display_name": "Python 3 (ipykernel)",
   "language": "python",
   "name": "python3"
  },
  "language_info": {
   "codemirror_mode": {
    "name": "ipython",
    "version": 3
   },
   "file_extension": ".py",
   "mimetype": "text/x-python",
   "name": "python",
   "nbconvert_exporter": "python",
   "pygments_lexer": "ipython3",
   "version": "3.12.11"
  }
 },
 "nbformat": 4,
 "nbformat_minor": 5
}
