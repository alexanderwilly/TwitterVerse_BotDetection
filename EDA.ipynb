{
 "cells": [
  {
   "cell_type": "code",
   "execution_count": 1,
   "id": "2c3fe4b4-351d-4f82-93c5-96c19ea064bb",
   "metadata": {},
   "outputs": [
    {
     "name": "stdout",
     "output_type": "stream",
     "text": [
      "Import Done!\n"
     ]
    }
   ],
   "source": [
    "import numpy as np\n",
    "import pandas as pd\n",
    "import matplotlib.pyplot as plt\n",
    "import seaborn as sns\n",
    "from tqdm import tqdm\n",
    "import time\n",
    "import re\n",
    "\n",
    "from sklearn.model_selection import train_test_split\n",
    "\n",
    "print('Import Done!')"
   ]
  },
  {
   "cell_type": "markdown",
   "id": "b8bae831-2412-460a-92d9-ba31f0d667a5",
   "metadata": {},
   "source": [
    "## Load Data"
   ]
  },
  {
   "cell_type": "code",
   "execution_count": 2,
   "id": "2b0324e7-3fc6-480e-a4ea-eb6e56fef9f9",
   "metadata": {},
   "outputs": [
    {
     "name": "stderr",
     "output_type": "stream",
     "text": [
      "26207it [00:00, 91361.73it/s] \n"
     ]
    },
    {
     "data": {
      "text/html": [
       "<div>\n",
       "<style scoped>\n",
       "    .dataframe tbody tr th:only-of-type {\n",
       "        vertical-align: middle;\n",
       "    }\n",
       "\n",
       "    .dataframe tbody tr th {\n",
       "        vertical-align: top;\n",
       "    }\n",
       "\n",
       "    .dataframe thead th {\n",
       "        text-align: right;\n",
       "    }\n",
       "</style>\n",
       "<table border=\"1\" class=\"dataframe\">\n",
       "  <thead>\n",
       "    <tr style=\"text-align: right;\">\n",
       "      <th></th>\n",
       "      <th>created_at</th>\n",
       "      <th>default_profile</th>\n",
       "      <th>default_profile_image</th>\n",
       "      <th>description</th>\n",
       "      <th>favourites_count</th>\n",
       "      <th>followers_count</th>\n",
       "      <th>friends_count</th>\n",
       "      <th>geo_enabled</th>\n",
       "      <th>id</th>\n",
       "      <th>lang</th>\n",
       "      <th>location</th>\n",
       "      <th>profile_background_image_url</th>\n",
       "      <th>profile_image_url</th>\n",
       "      <th>screen_name</th>\n",
       "      <th>statuses_count</th>\n",
       "      <th>verified</th>\n",
       "      <th>average_tweets_per_day</th>\n",
       "      <th>account_age_days</th>\n",
       "      <th>target</th>\n",
       "    </tr>\n",
       "  </thead>\n",
       "  <tbody>\n",
       "    <tr>\n",
       "      <th>0</th>\n",
       "      <td>2012-01-15 23:40:09</td>\n",
       "      <td>True</td>\n",
       "      <td>False</td>\n",
       "      <td>Cosplayer/Fitness lover. Come to me https://t....</td>\n",
       "      <td>74</td>\n",
       "      <td>7</td>\n",
       "      <td>0</td>\n",
       "      <td>False</td>\n",
       "      <td>465096524</td>\n",
       "      <td>en</td>\n",
       "      <td>unknown</td>\n",
       "      <td>http://abs.twimg.com/images/themes/theme1/bg.png</td>\n",
       "      <td>http://pbs.twimg.com/profile_images/9666745212...</td>\n",
       "      <td>reml5477</td>\n",
       "      <td>20</td>\n",
       "      <td>False</td>\n",
       "      <td>0.006</td>\n",
       "      <td>3138</td>\n",
       "      <td>1</td>\n",
       "    </tr>\n",
       "    <tr>\n",
       "      <th>1</th>\n",
       "      <td>2016-10-04 00:44:39</td>\n",
       "      <td>False</td>\n",
       "      <td>False</td>\n",
       "      <td>pobody’s nerfect</td>\n",
       "      <td>50443</td>\n",
       "      <td>164</td>\n",
       "      <td>590</td>\n",
       "      <td>True</td>\n",
       "      <td>783105517673648132</td>\n",
       "      <td>cy</td>\n",
       "      <td>she/her</td>\n",
       "      <td>http://abs.twimg.com/images/themes/theme1/bg.png</td>\n",
       "      <td>http://pbs.twimg.com/profile_images/1281752126...</td>\n",
       "      <td>kinlibra</td>\n",
       "      <td>6469</td>\n",
       "      <td>False</td>\n",
       "      <td>4.572</td>\n",
       "      <td>1415</td>\n",
       "      <td>0</td>\n",
       "    </tr>\n",
       "    <tr>\n",
       "      <th>2</th>\n",
       "      <td>2009-05-23 04:04:13</td>\n",
       "      <td>False</td>\n",
       "      <td>False</td>\n",
       "      <td>gracias por participar 🏅</td>\n",
       "      <td>9394</td>\n",
       "      <td>208</td>\n",
       "      <td>189</td>\n",
       "      <td>False</td>\n",
       "      <td>41970759</td>\n",
       "      <td>es</td>\n",
       "      <td>La diaspora</td>\n",
       "      <td>http://abs.twimg.com/images/themes/theme17/bg.gif</td>\n",
       "      <td>http://pbs.twimg.com/profile_images/1233811596...</td>\n",
       "      <td>_delaualau</td>\n",
       "      <td>30296</td>\n",
       "      <td>False</td>\n",
       "      <td>7.378</td>\n",
       "      <td>4106</td>\n",
       "      <td>0</td>\n",
       "    </tr>\n",
       "    <tr>\n",
       "      <th>3</th>\n",
       "      <td>2009-05-17 04:31:31</td>\n",
       "      <td>False</td>\n",
       "      <td>False</td>\n",
       "      <td>Stand Up Comedian/Actor from North Philadelphi...</td>\n",
       "      <td>46</td>\n",
       "      <td>66180</td>\n",
       "      <td>1090</td>\n",
       "      <td>True</td>\n",
       "      <td>40607946</td>\n",
       "      <td>en</td>\n",
       "      <td>Calabasas, CA</td>\n",
       "      <td>http://abs.twimg.com/images/themes/theme1/bg.png</td>\n",
       "      <td>http://pbs.twimg.com/profile_images/1184851104...</td>\n",
       "      <td>SpankHorton</td>\n",
       "      <td>164957</td>\n",
       "      <td>False</td>\n",
       "      <td>40.116</td>\n",
       "      <td>4112</td>\n",
       "      <td>0</td>\n",
       "    </tr>\n",
       "    <tr>\n",
       "      <th>4</th>\n",
       "      <td>2009-02-16 13:11:21</td>\n",
       "      <td>True</td>\n",
       "      <td>False</td>\n",
       "      <td>Assignment Editor at NBC10 and President of Ja...</td>\n",
       "      <td>1223</td>\n",
       "      <td>487</td>\n",
       "      <td>867</td>\n",
       "      <td>True</td>\n",
       "      <td>20983433</td>\n",
       "      <td>en</td>\n",
       "      <td>Jenkintown, PA</td>\n",
       "      <td>http://abs.twimg.com/images/themes/theme1/bg.png</td>\n",
       "      <td>http://pbs.twimg.com/profile_images/5234863934...</td>\n",
       "      <td>javelinjt</td>\n",
       "      <td>1752</td>\n",
       "      <td>False</td>\n",
       "      <td>0.417</td>\n",
       "      <td>4201</td>\n",
       "      <td>0</td>\n",
       "    </tr>\n",
       "  </tbody>\n",
       "</table>\n",
       "</div>"
      ],
      "text/plain": [
       "            created_at  default_profile  default_profile_image  \\\n",
       "0  2012-01-15 23:40:09             True                  False   \n",
       "1  2016-10-04 00:44:39            False                  False   \n",
       "2  2009-05-23 04:04:13            False                  False   \n",
       "3  2009-05-17 04:31:31            False                  False   \n",
       "4  2009-02-16 13:11:21             True                  False   \n",
       "\n",
       "                                         description  favourites_count  \\\n",
       "0  Cosplayer/Fitness lover. Come to me https://t....                74   \n",
       "1                                   pobody’s nerfect             50443   \n",
       "2                           gracias por participar 🏅              9394   \n",
       "3  Stand Up Comedian/Actor from North Philadelphi...                46   \n",
       "4  Assignment Editor at NBC10 and President of Ja...              1223   \n",
       "\n",
       "   followers_count  friends_count  geo_enabled                  id lang  \\\n",
       "0                7              0        False           465096524   en   \n",
       "1              164            590         True  783105517673648132   cy   \n",
       "2              208            189        False            41970759   es   \n",
       "3            66180           1090         True            40607946   en   \n",
       "4              487            867         True            20983433   en   \n",
       "\n",
       "         location                       profile_background_image_url  \\\n",
       "0         unknown   http://abs.twimg.com/images/themes/theme1/bg.png   \n",
       "1        she/her    http://abs.twimg.com/images/themes/theme1/bg.png   \n",
       "2     La diaspora  http://abs.twimg.com/images/themes/theme17/bg.gif   \n",
       "3   Calabasas, CA   http://abs.twimg.com/images/themes/theme1/bg.png   \n",
       "4  Jenkintown, PA   http://abs.twimg.com/images/themes/theme1/bg.png   \n",
       "\n",
       "                                   profile_image_url  screen_name  \\\n",
       "0  http://pbs.twimg.com/profile_images/9666745212...     reml5477   \n",
       "1  http://pbs.twimg.com/profile_images/1281752126...     kinlibra   \n",
       "2  http://pbs.twimg.com/profile_images/1233811596...   _delaualau   \n",
       "3  http://pbs.twimg.com/profile_images/1184851104...  SpankHorton   \n",
       "4  http://pbs.twimg.com/profile_images/5234863934...    javelinjt   \n",
       "\n",
       "   statuses_count  verified  average_tweets_per_day  account_age_days  target  \n",
       "0              20     False                   0.006              3138       1  \n",
       "1            6469     False                   4.572              1415       0  \n",
       "2           30296     False                   7.378              4106       0  \n",
       "3          164957     False                  40.116              4112       0  \n",
       "4            1752     False                   0.417              4201       0  "
      ]
     },
     "execution_count": 2,
     "metadata": {},
     "output_type": "execute_result"
    }
   ],
   "source": [
    "with tqdm() as bar:\n",
    "    # do not skip any of the rows, but update the progress bar instead\n",
    "    df = pd.read_csv('data/train.csv', skiprows=lambda x: bar.update(1) and False)\n",
    "\n",
    "df.head()"
   ]
  },
  {
   "cell_type": "markdown",
   "id": "99841451-2091-4665-96cd-efd24b64523f",
   "metadata": {},
   "source": [
    "## Train/Val/Test Split"
   ]
  },
  {
   "cell_type": "markdown",
   "id": "25d338c1-8680-436f-aa25-5cdd1a6ec7ac",
   "metadata": {},
   "source": [
    "The proportion of Train/Val/Test Split is:\n",
    "<ul>\n",
    "    <li>\n",
    "        Train: 70%\n",
    "    </li>\n",
    "    <li>\n",
    "        Val: 20%\n",
    "    </li>\n",
    "    <li>\n",
    "        Test: 10%\n",
    "    </li>\n",
    "</ul>"
   ]
  },
  {
   "cell_type": "code",
   "execution_count": 3,
   "id": "07f08e8b-547e-444a-9ad4-221fd352b470",
   "metadata": {},
   "outputs": [],
   "source": [
    "X = df.drop('target', axis = 1) \n",
    "y = df['target']"
   ]
  },
  {
   "cell_type": "code",
   "execution_count": 4,
   "id": "1cbed008-75aa-45e6-899d-838d8a8ed9f6",
   "metadata": {},
   "outputs": [],
   "source": [
    "# Initial split: 80% training, 20% validation & test\n",
    "X_train, X_temp, y_train, y_temp = train_test_split(X, y, test_size=0.2, random_state=1, stratify=y)\n",
    "\n",
    "# Second split: 10% validation, 10% test\n",
    "X_val, X_test, y_val, y_test = train_test_split(X_temp, y_temp, test_size=0.5, random_state=1, stratify=y_temp)"
   ]
  },
  {
   "cell_type": "markdown",
   "id": "8c58b283-cfc6-4d18-9285-ad07c84539df",
   "metadata": {},
   "source": [
    "## Exploratory Data Analysis"
   ]
  },
  {
   "cell_type": "code",
   "execution_count": 5,
   "id": "ad46d23c-2e27-45da-915e-5934dd099cd6",
   "metadata": {},
   "outputs": [
    {
     "data": {
      "text/html": [
       "<div>\n",
       "<style scoped>\n",
       "    .dataframe tbody tr th:only-of-type {\n",
       "        vertical-align: middle;\n",
       "    }\n",
       "\n",
       "    .dataframe tbody tr th {\n",
       "        vertical-align: top;\n",
       "    }\n",
       "\n",
       "    .dataframe thead th {\n",
       "        text-align: right;\n",
       "    }\n",
       "</style>\n",
       "<table border=\"1\" class=\"dataframe\">\n",
       "  <thead>\n",
       "    <tr style=\"text-align: right;\">\n",
       "      <th></th>\n",
       "      <th>created_at</th>\n",
       "      <th>default_profile</th>\n",
       "      <th>default_profile_image</th>\n",
       "      <th>description</th>\n",
       "      <th>favourites_count</th>\n",
       "      <th>followers_count</th>\n",
       "      <th>friends_count</th>\n",
       "      <th>geo_enabled</th>\n",
       "      <th>id</th>\n",
       "      <th>lang</th>\n",
       "      <th>location</th>\n",
       "      <th>profile_background_image_url</th>\n",
       "      <th>profile_image_url</th>\n",
       "      <th>screen_name</th>\n",
       "      <th>statuses_count</th>\n",
       "      <th>verified</th>\n",
       "      <th>average_tweets_per_day</th>\n",
       "      <th>account_age_days</th>\n",
       "      <th>target</th>\n",
       "    </tr>\n",
       "  </thead>\n",
       "  <tbody>\n",
       "    <tr>\n",
       "      <th>12800</th>\n",
       "      <td>2016-03-24 15:55:14</td>\n",
       "      <td>True</td>\n",
       "      <td>False</td>\n",
       "      <td>You'll turn out ordinary if you're not careful...</td>\n",
       "      <td>33315</td>\n",
       "      <td>317</td>\n",
       "      <td>360</td>\n",
       "      <td>True</td>\n",
       "      <td>713031428833828865</td>\n",
       "      <td>en</td>\n",
       "      <td>Nebraska, USA</td>\n",
       "      <td>NaN</td>\n",
       "      <td>http://pbs.twimg.com/profile_images/8681274423...</td>\n",
       "      <td>midwesternlivin</td>\n",
       "      <td>3126</td>\n",
       "      <td>False</td>\n",
       "      <td>1.944</td>\n",
       "      <td>1608</td>\n",
       "      <td>0</td>\n",
       "    </tr>\n",
       "    <tr>\n",
       "      <th>24611</th>\n",
       "      <td>2013-04-19 21:47:49</td>\n",
       "      <td>False</td>\n",
       "      <td>False</td>\n",
       "      <td>NaN</td>\n",
       "      <td>4537</td>\n",
       "      <td>82</td>\n",
       "      <td>835</td>\n",
       "      <td>False</td>\n",
       "      <td>1365481327</td>\n",
       "      <td>NaN</td>\n",
       "      <td>España</td>\n",
       "      <td>http://abs.twimg.com/images/themes/theme1/bg.png</td>\n",
       "      <td>http://pbs.twimg.com/profile_images/1066967277...</td>\n",
       "      <td>juanhmetal</td>\n",
       "      <td>3487</td>\n",
       "      <td>False</td>\n",
       "      <td>1.302</td>\n",
       "      <td>2678</td>\n",
       "      <td>0</td>\n",
       "    </tr>\n",
       "    <tr>\n",
       "      <th>25400</th>\n",
       "      <td>2009-03-10 20:45:17</td>\n",
       "      <td>False</td>\n",
       "      <td>False</td>\n",
       "      <td>Tenista/ Tennis player https://t.co/GFbv9Txek4...</td>\n",
       "      <td>273</td>\n",
       "      <td>1820590</td>\n",
       "      <td>125</td>\n",
       "      <td>True</td>\n",
       "      <td>23653153</td>\n",
       "      <td>en</td>\n",
       "      <td>Florianópolis, Brasil</td>\n",
       "      <td>http://abs.twimg.com/images/themes/theme1/bg.png</td>\n",
       "      <td>http://pbs.twimg.com/profile_images/1136630171...</td>\n",
       "      <td>gugakuerten</td>\n",
       "      <td>4443</td>\n",
       "      <td>True</td>\n",
       "      <td>1.063</td>\n",
       "      <td>4179</td>\n",
       "      <td>0</td>\n",
       "    </tr>\n",
       "    <tr>\n",
       "      <th>20148</th>\n",
       "      <td>2012-05-08 09:36:00</td>\n",
       "      <td>True</td>\n",
       "      <td>False</td>\n",
       "      <td>☼☾xvi // photography // ☽☼</td>\n",
       "      <td>76</td>\n",
       "      <td>27</td>\n",
       "      <td>0</td>\n",
       "      <td>False</td>\n",
       "      <td>574422621</td>\n",
       "      <td>en</td>\n",
       "      <td>unknown</td>\n",
       "      <td>http://abs.twimg.com/images/themes/theme1/bg.png</td>\n",
       "      <td>http://pbs.twimg.com/profile_images/5269345911...</td>\n",
       "      <td>tiffanylloyd018</td>\n",
       "      <td>204</td>\n",
       "      <td>False</td>\n",
       "      <td>0.067</td>\n",
       "      <td>3025</td>\n",
       "      <td>0</td>\n",
       "    </tr>\n",
       "    <tr>\n",
       "      <th>24284</th>\n",
       "      <td>2011-04-25 20:03:49</td>\n",
       "      <td>False</td>\n",
       "      <td>False</td>\n",
       "      <td>NaN</td>\n",
       "      <td>2906</td>\n",
       "      <td>135</td>\n",
       "      <td>0</td>\n",
       "      <td>False</td>\n",
       "      <td>287850643</td>\n",
       "      <td>NaN</td>\n",
       "      <td>unknown</td>\n",
       "      <td>http://abs.twimg.com/images/themes/theme1/bg.png</td>\n",
       "      <td>http://pbs.twimg.com/profile_images/8045759682...</td>\n",
       "      <td>alexsimons2</td>\n",
       "      <td>13754</td>\n",
       "      <td>False</td>\n",
       "      <td>4.042</td>\n",
       "      <td>3403</td>\n",
       "      <td>1</td>\n",
       "    </tr>\n",
       "  </tbody>\n",
       "</table>\n",
       "</div>"
      ],
      "text/plain": [
       "                created_at  default_profile  default_profile_image  \\\n",
       "12800  2016-03-24 15:55:14             True                  False   \n",
       "24611  2013-04-19 21:47:49            False                  False   \n",
       "25400  2009-03-10 20:45:17            False                  False   \n",
       "20148  2012-05-08 09:36:00             True                  False   \n",
       "24284  2011-04-25 20:03:49            False                  False   \n",
       "\n",
       "                                             description  favourites_count  \\\n",
       "12800  You'll turn out ordinary if you're not careful...             33315   \n",
       "24611                                                NaN              4537   \n",
       "25400  Tenista/ Tennis player https://t.co/GFbv9Txek4...               273   \n",
       "20148                         ☼☾xvi // photography // ☽☼                76   \n",
       "24284                                                NaN              2906   \n",
       "\n",
       "       followers_count  friends_count  geo_enabled                  id lang  \\\n",
       "12800              317            360         True  713031428833828865   en   \n",
       "24611               82            835        False          1365481327  NaN   \n",
       "25400          1820590            125         True            23653153   en   \n",
       "20148               27              0        False           574422621   en   \n",
       "24284              135              0        False           287850643  NaN   \n",
       "\n",
       "                    location  \\\n",
       "12800          Nebraska, USA   \n",
       "24611                 España   \n",
       "25400  Florianópolis, Brasil   \n",
       "20148                unknown   \n",
       "24284                unknown   \n",
       "\n",
       "                           profile_background_image_url  \\\n",
       "12800                                               NaN   \n",
       "24611  http://abs.twimg.com/images/themes/theme1/bg.png   \n",
       "25400  http://abs.twimg.com/images/themes/theme1/bg.png   \n",
       "20148  http://abs.twimg.com/images/themes/theme1/bg.png   \n",
       "24284  http://abs.twimg.com/images/themes/theme1/bg.png   \n",
       "\n",
       "                                       profile_image_url      screen_name  \\\n",
       "12800  http://pbs.twimg.com/profile_images/8681274423...  midwesternlivin   \n",
       "24611  http://pbs.twimg.com/profile_images/1066967277...       juanhmetal   \n",
       "25400  http://pbs.twimg.com/profile_images/1136630171...      gugakuerten   \n",
       "20148  http://pbs.twimg.com/profile_images/5269345911...  tiffanylloyd018   \n",
       "24284  http://pbs.twimg.com/profile_images/8045759682...      alexsimons2   \n",
       "\n",
       "       statuses_count  verified  average_tweets_per_day  account_age_days  \\\n",
       "12800            3126     False                   1.944              1608   \n",
       "24611            3487     False                   1.302              2678   \n",
       "25400            4443      True                   1.063              4179   \n",
       "20148             204     False                   0.067              3025   \n",
       "24284           13754     False                   4.042              3403   \n",
       "\n",
       "       target  \n",
       "12800       0  \n",
       "24611       0  \n",
       "25400       0  \n",
       "20148       0  \n",
       "24284       1  "
      ]
     },
     "execution_count": 5,
     "metadata": {},
     "output_type": "execute_result"
    }
   ],
   "source": [
    "df_train = X_train.copy()\n",
    "df_train['target'] = y_train\n",
    "\n",
    "df_train.head()"
   ]
  },
  {
   "cell_type": "code",
   "execution_count": 6,
   "id": "7db167f3-a8a9-4c17-b4a3-222bd5b2381b",
   "metadata": {},
   "outputs": [
    {
     "name": "stdout",
     "output_type": "stream",
     "text": [
      "<class 'pandas.core.frame.DataFrame'>\n",
      "Index: 20964 entries, 12800 to 10106\n",
      "Data columns (total 19 columns):\n",
      " #   Column                        Non-Null Count  Dtype  \n",
      "---  ------                        --------------  -----  \n",
      " 0   created_at                    20964 non-null  object \n",
      " 1   default_profile               20964 non-null  bool   \n",
      " 2   default_profile_image         20964 non-null  bool   \n",
      " 3   description                   16904 non-null  object \n",
      " 4   favourites_count              20964 non-null  int64  \n",
      " 5   followers_count               20964 non-null  int64  \n",
      " 6   friends_count                 20964 non-null  int64  \n",
      " 7   geo_enabled                   20964 non-null  bool   \n",
      " 8   id                            20964 non-null  int64  \n",
      " 9   lang                          16506 non-null  object \n",
      " 10  location                      20962 non-null  object \n",
      " 11  profile_background_image_url  18371 non-null  object \n",
      " 12  profile_image_url             20963 non-null  object \n",
      " 13  screen_name                   20964 non-null  object \n",
      " 14  statuses_count                20964 non-null  int64  \n",
      " 15  verified                      20964 non-null  bool   \n",
      " 16  average_tweets_per_day        20964 non-null  float64\n",
      " 17  account_age_days              20964 non-null  int64  \n",
      " 18  target                        20964 non-null  int64  \n",
      "dtypes: bool(4), float64(1), int64(7), object(7)\n",
      "memory usage: 2.6+ MB\n"
     ]
    }
   ],
   "source": [
    "# ====== DF Info ======\n",
    "df_train.info()"
   ]
  },
  {
   "cell_type": "markdown",
   "id": "6ea0b87b-393b-4324-95af-00beb09eecfe",
   "metadata": {},
   "source": [
    "<b>df_train consists of the following columns:</b>\n",
    "<ol>\n",
    "    <li>\n",
    "        <b>created_at</b>, The date and time when the Twitter account was created --> datetime object\n",
    "    </li>\n",
    "    <li>\n",
    "        <b>default_profile</b>, Indicates whether the user has a default profile settings --> boolean T/F\n",
    "    </li>\n",
    "    <li>\n",
    "        <b>default_profile_image</b>, Indicates whether the user has a default profile image --> boolean T/F\n",
    "    </li>\n",
    "    <li>\n",
    "        <b>description</b>, The user's profile description or bio --> string object\n",
    "    </li>\n",
    "    <li>\n",
    "        <b>favourites_count</b>, The number of tweets the user has liked --> integer\n",
    "    </li>\n",
    "    <li>\n",
    "        <b>followers_count</b>, The number of followers the user has --> integer\n",
    "    </li>\n",
    "    <li>\n",
    "        <b>friends_count</b>, The number of accounts the user is following --> integer\n",
    "    </li>\n",
    "    <li>\n",
    "        <b>geo_enabled</b>, Indicates whether the user has enabled location services --> boolean T/F\n",
    "    </li>\n",
    "    <li>\n",
    "        <b>id</b>, The unique identifier for the Twitter account --> integer\n",
    "    </li>\n",
    "    <li>\n",
    "        <b>lang</b>, The language preference set for the account --> string / category object\n",
    "    </li>\n",
    "    <li>\n",
    "        <b>location</b>, The location information provided by the user --> string object\n",
    "    </li>\n",
    "    <li>\n",
    "        <b>profile_background_image_url</b>, URL of the user's profile background image --> string object\n",
    "    </li>\n",
    "    <li>\n",
    "        <b>profile_image_url</b>, URL of the user's profile image --> string object\n",
    "    </li>\n",
    "    <li>\n",
    "        <b>screen_name</b>, The user's Twitter handle or username --> string object\n",
    "    </li>\n",
    "    <li>\n",
    "        <b>statuses_count</b>, The total number of tweets posted by the user --> integer\n",
    "    </li>\n",
    "    <li>\n",
    "        <b>verified</b>, Indicates whether the account is verified by Twitter --> boolean T/F\n",
    "    </li>\n",
    "    <li>\n",
    "        <b>average_tweets_per_day</b>, The average number of tweets posted per day --> decimal float\n",
    "    </li>\n",
    "    <li>\n",
    "        <b>account_age_days</b>, The age of the account in days --> integer\n",
    "    </li>\n",
    "    <li>\n",
    "        <b>target</b>, The classification label indicating whether the account is a bot or not --> boolean 0/1 \n",
    "    </li>\n",
    "</ol>"
   ]
  },
  {
   "cell_type": "code",
   "execution_count": 7,
   "id": "53a560e2-3f74-453d-a92e-1e3627e71bdb",
   "metadata": {},
   "outputs": [
    {
     "data": {
      "text/plain": [
       "created_at                         0\n",
       "default_profile                    0\n",
       "default_profile_image              0\n",
       "description                     4060\n",
       "favourites_count                   0\n",
       "followers_count                    0\n",
       "friends_count                      0\n",
       "geo_enabled                        0\n",
       "id                                 0\n",
       "lang                            4458\n",
       "location                           2\n",
       "profile_background_image_url    2593\n",
       "profile_image_url                  1\n",
       "screen_name                        0\n",
       "statuses_count                     0\n",
       "verified                           0\n",
       "average_tweets_per_day             0\n",
       "account_age_days                   0\n",
       "target                             0\n",
       "dtype: int64"
      ]
     },
     "execution_count": 7,
     "metadata": {},
     "output_type": "execute_result"
    }
   ],
   "source": [
    "# ====== checking null values ========\n",
    "df_train.isnull().sum()\n",
    "# found some empty values in: description, lang, profile_background_image_url, profile_image_url, location"
   ]
  },
  {
   "cell_type": "markdown",
   "id": "07f30309-9273-4545-9411-4d55bb0a66ff",
   "metadata": {},
   "source": [
    "### 1) created_at"
   ]
  },
  {
   "cell_type": "code",
   "execution_count": 8,
   "id": "f5468e04-9ca0-4b5c-8c8d-5d4829709453",
   "metadata": {},
   "outputs": [],
   "source": [
    "df_train['created_at'] = pd.to_datetime(df_train['created_at']) # convert to date time"
   ]
  },
  {
   "cell_type": "code",
   "execution_count": 9,
   "id": "197d39b9-0d28-4245-b8cc-5ec95126ea76",
   "metadata": {},
   "outputs": [
    {
     "data": {
      "text/plain": [
       "count                            20964\n",
       "mean     2012-05-14 07:34:03.905266176\n",
       "min                2006-07-13 09:05:49\n",
       "25%      2009-12-18 20:29:25.750000128\n",
       "50%                2011-10-27 22:40:25\n",
       "75%                2014-04-29 20:37:29\n",
       "max                2019-04-24 08:53:21\n",
       "Name: created_at, dtype: object"
      ]
     },
     "execution_count": 9,
     "metadata": {},
     "output_type": "execute_result"
    }
   ],
   "source": [
    "df_train['created_at'].describe() # this dataset consist of user data created between 2006 and 2019"
   ]
  },
  {
   "cell_type": "code",
   "execution_count": 10,
   "id": "ed18af1e-a75e-4bf0-bd59-a11e9eb6427b",
   "metadata": {
    "scrolled": true
   },
   "outputs": [
    {
     "data": {
      "text/html": [
       "<div>\n",
       "<style scoped>\n",
       "    .dataframe tbody tr th:only-of-type {\n",
       "        vertical-align: middle;\n",
       "    }\n",
       "\n",
       "    .dataframe tbody tr th {\n",
       "        vertical-align: top;\n",
       "    }\n",
       "\n",
       "    .dataframe thead th {\n",
       "        text-align: right;\n",
       "    }\n",
       "</style>\n",
       "<table border=\"1\" class=\"dataframe\">\n",
       "  <thead>\n",
       "    <tr style=\"text-align: right;\">\n",
       "      <th></th>\n",
       "      <th>created_at</th>\n",
       "      <th>target</th>\n",
       "    </tr>\n",
       "  </thead>\n",
       "  <tbody>\n",
       "    <tr>\n",
       "      <th>24284</th>\n",
       "      <td>2011-04-25 20:03:49</td>\n",
       "      <td>1</td>\n",
       "    </tr>\n",
       "    <tr>\n",
       "      <th>2770</th>\n",
       "      <td>2011-02-16 00:33:15</td>\n",
       "      <td>1</td>\n",
       "    </tr>\n",
       "    <tr>\n",
       "      <th>3711</th>\n",
       "      <td>2010-06-07 02:22:50</td>\n",
       "      <td>1</td>\n",
       "    </tr>\n",
       "    <tr>\n",
       "      <th>2085</th>\n",
       "      <td>2014-11-18 01:03:07</td>\n",
       "      <td>1</td>\n",
       "    </tr>\n",
       "    <tr>\n",
       "      <th>10098</th>\n",
       "      <td>2009-07-09 03:26:39</td>\n",
       "      <td>1</td>\n",
       "    </tr>\n",
       "    <tr>\n",
       "      <th>21780</th>\n",
       "      <td>2016-03-31 07:43:38</td>\n",
       "      <td>1</td>\n",
       "    </tr>\n",
       "    <tr>\n",
       "      <th>8381</th>\n",
       "      <td>2011-01-29 18:03:10</td>\n",
       "      <td>1</td>\n",
       "    </tr>\n",
       "    <tr>\n",
       "      <th>364</th>\n",
       "      <td>2013-10-16 03:49:08</td>\n",
       "      <td>1</td>\n",
       "    </tr>\n",
       "    <tr>\n",
       "      <th>9110</th>\n",
       "      <td>2010-08-31 13:49:33</td>\n",
       "      <td>1</td>\n",
       "    </tr>\n",
       "    <tr>\n",
       "      <th>18786</th>\n",
       "      <td>2017-06-21 10:52:37</td>\n",
       "      <td>1</td>\n",
       "    </tr>\n",
       "    <tr>\n",
       "      <th>24556</th>\n",
       "      <td>2011-06-26 21:16:12</td>\n",
       "      <td>1</td>\n",
       "    </tr>\n",
       "    <tr>\n",
       "      <th>3966</th>\n",
       "      <td>2012-11-28 22:33:41</td>\n",
       "      <td>1</td>\n",
       "    </tr>\n",
       "    <tr>\n",
       "      <th>18693</th>\n",
       "      <td>2017-02-22 21:46:14</td>\n",
       "      <td>1</td>\n",
       "    </tr>\n",
       "    <tr>\n",
       "      <th>6841</th>\n",
       "      <td>2017-01-21 02:26:58</td>\n",
       "      <td>1</td>\n",
       "    </tr>\n",
       "    <tr>\n",
       "      <th>13239</th>\n",
       "      <td>2009-11-25 16:55:52</td>\n",
       "      <td>1</td>\n",
       "    </tr>\n",
       "    <tr>\n",
       "      <th>16484</th>\n",
       "      <td>2010-08-23 16:07:55</td>\n",
       "      <td>1</td>\n",
       "    </tr>\n",
       "    <tr>\n",
       "      <th>1293</th>\n",
       "      <td>2011-12-07 02:17:18</td>\n",
       "      <td>1</td>\n",
       "    </tr>\n",
       "    <tr>\n",
       "      <th>15918</th>\n",
       "      <td>2015-07-28 13:40:44</td>\n",
       "      <td>1</td>\n",
       "    </tr>\n",
       "    <tr>\n",
       "      <th>21016</th>\n",
       "      <td>2010-06-05 21:07:39</td>\n",
       "      <td>1</td>\n",
       "    </tr>\n",
       "    <tr>\n",
       "      <th>18225</th>\n",
       "      <td>2011-08-29 02:19:31</td>\n",
       "      <td>1</td>\n",
       "    </tr>\n",
       "  </tbody>\n",
       "</table>\n",
       "</div>"
      ],
      "text/plain": [
       "               created_at  target\n",
       "24284 2011-04-25 20:03:49       1\n",
       "2770  2011-02-16 00:33:15       1\n",
       "3711  2010-06-07 02:22:50       1\n",
       "2085  2014-11-18 01:03:07       1\n",
       "10098 2009-07-09 03:26:39       1\n",
       "21780 2016-03-31 07:43:38       1\n",
       "8381  2011-01-29 18:03:10       1\n",
       "364   2013-10-16 03:49:08       1\n",
       "9110  2010-08-31 13:49:33       1\n",
       "18786 2017-06-21 10:52:37       1\n",
       "24556 2011-06-26 21:16:12       1\n",
       "3966  2012-11-28 22:33:41       1\n",
       "18693 2017-02-22 21:46:14       1\n",
       "6841  2017-01-21 02:26:58       1\n",
       "13239 2009-11-25 16:55:52       1\n",
       "16484 2010-08-23 16:07:55       1\n",
       "1293  2011-12-07 02:17:18       1\n",
       "15918 2015-07-28 13:40:44       1\n",
       "21016 2010-06-05 21:07:39       1\n",
       "18225 2011-08-29 02:19:31       1"
      ]
     },
     "execution_count": 10,
     "metadata": {},
     "output_type": "execute_result"
    }
   ],
   "source": [
    "df_train[df_train['target'] == 1][['created_at', 'target']].head(20)"
   ]
  },
  {
   "cell_type": "code",
   "execution_count": 11,
   "id": "765c7ee9-7f7a-4ebd-ac88-2455f8fd483e",
   "metadata": {
    "scrolled": true
   },
   "outputs": [
    {
     "data": {
      "text/html": [
       "<div>\n",
       "<style scoped>\n",
       "    .dataframe tbody tr th:only-of-type {\n",
       "        vertical-align: middle;\n",
       "    }\n",
       "\n",
       "    .dataframe tbody tr th {\n",
       "        vertical-align: top;\n",
       "    }\n",
       "\n",
       "    .dataframe thead th {\n",
       "        text-align: right;\n",
       "    }\n",
       "</style>\n",
       "<table border=\"1\" class=\"dataframe\">\n",
       "  <thead>\n",
       "    <tr style=\"text-align: right;\">\n",
       "      <th></th>\n",
       "      <th>created_at</th>\n",
       "      <th>target</th>\n",
       "    </tr>\n",
       "  </thead>\n",
       "  <tbody>\n",
       "    <tr>\n",
       "      <th>12800</th>\n",
       "      <td>2016-03-24 15:55:14</td>\n",
       "      <td>0</td>\n",
       "    </tr>\n",
       "    <tr>\n",
       "      <th>24611</th>\n",
       "      <td>2013-04-19 21:47:49</td>\n",
       "      <td>0</td>\n",
       "    </tr>\n",
       "    <tr>\n",
       "      <th>25400</th>\n",
       "      <td>2009-03-10 20:45:17</td>\n",
       "      <td>0</td>\n",
       "    </tr>\n",
       "    <tr>\n",
       "      <th>20148</th>\n",
       "      <td>2012-05-08 09:36:00</td>\n",
       "      <td>0</td>\n",
       "    </tr>\n",
       "    <tr>\n",
       "      <th>22592</th>\n",
       "      <td>2008-05-16 00:19:29</td>\n",
       "      <td>0</td>\n",
       "    </tr>\n",
       "    <tr>\n",
       "      <th>2101</th>\n",
       "      <td>2009-04-01 22:20:30</td>\n",
       "      <td>0</td>\n",
       "    </tr>\n",
       "    <tr>\n",
       "      <th>1029</th>\n",
       "      <td>2016-05-19 23:36:50</td>\n",
       "      <td>0</td>\n",
       "    </tr>\n",
       "    <tr>\n",
       "      <th>6117</th>\n",
       "      <td>2017-02-03 23:09:48</td>\n",
       "      <td>0</td>\n",
       "    </tr>\n",
       "    <tr>\n",
       "      <th>2913</th>\n",
       "      <td>2012-05-09 20:19:43</td>\n",
       "      <td>0</td>\n",
       "    </tr>\n",
       "    <tr>\n",
       "      <th>15398</th>\n",
       "      <td>2009-08-18 18:18:54</td>\n",
       "      <td>0</td>\n",
       "    </tr>\n",
       "    <tr>\n",
       "      <th>19118</th>\n",
       "      <td>2009-04-18 04:31:09</td>\n",
       "      <td>0</td>\n",
       "    </tr>\n",
       "    <tr>\n",
       "      <th>8247</th>\n",
       "      <td>2009-01-20 00:36:06</td>\n",
       "      <td>0</td>\n",
       "    </tr>\n",
       "    <tr>\n",
       "      <th>25470</th>\n",
       "      <td>2009-03-17 16:24:02</td>\n",
       "      <td>0</td>\n",
       "    </tr>\n",
       "    <tr>\n",
       "      <th>23285</th>\n",
       "      <td>2012-07-30 00:13:37</td>\n",
       "      <td>0</td>\n",
       "    </tr>\n",
       "    <tr>\n",
       "      <th>15075</th>\n",
       "      <td>2010-11-05 15:53:54</td>\n",
       "      <td>0</td>\n",
       "    </tr>\n",
       "    <tr>\n",
       "      <th>13262</th>\n",
       "      <td>2012-04-07 15:20:51</td>\n",
       "      <td>0</td>\n",
       "    </tr>\n",
       "    <tr>\n",
       "      <th>21644</th>\n",
       "      <td>2010-03-08 16:59:43</td>\n",
       "      <td>0</td>\n",
       "    </tr>\n",
       "    <tr>\n",
       "      <th>24938</th>\n",
       "      <td>2009-04-11 01:49:01</td>\n",
       "      <td>0</td>\n",
       "    </tr>\n",
       "    <tr>\n",
       "      <th>7362</th>\n",
       "      <td>2010-09-02 14:15:53</td>\n",
       "      <td>0</td>\n",
       "    </tr>\n",
       "    <tr>\n",
       "      <th>15897</th>\n",
       "      <td>2010-09-08 00:30:47</td>\n",
       "      <td>0</td>\n",
       "    </tr>\n",
       "  </tbody>\n",
       "</table>\n",
       "</div>"
      ],
      "text/plain": [
       "               created_at  target\n",
       "12800 2016-03-24 15:55:14       0\n",
       "24611 2013-04-19 21:47:49       0\n",
       "25400 2009-03-10 20:45:17       0\n",
       "20148 2012-05-08 09:36:00       0\n",
       "22592 2008-05-16 00:19:29       0\n",
       "2101  2009-04-01 22:20:30       0\n",
       "1029  2016-05-19 23:36:50       0\n",
       "6117  2017-02-03 23:09:48       0\n",
       "2913  2012-05-09 20:19:43       0\n",
       "15398 2009-08-18 18:18:54       0\n",
       "19118 2009-04-18 04:31:09       0\n",
       "8247  2009-01-20 00:36:06       0\n",
       "25470 2009-03-17 16:24:02       0\n",
       "23285 2012-07-30 00:13:37       0\n",
       "15075 2010-11-05 15:53:54       0\n",
       "13262 2012-04-07 15:20:51       0\n",
       "21644 2010-03-08 16:59:43       0\n",
       "24938 2009-04-11 01:49:01       0\n",
       "7362  2010-09-02 14:15:53       0\n",
       "15897 2010-09-08 00:30:47       0"
      ]
     },
     "execution_count": 11,
     "metadata": {},
     "output_type": "execute_result"
    }
   ],
   "source": [
    "df_train[df_train['target'] == 0][['created_at', 'target']].head(20)"
   ]
  },
  {
   "cell_type": "markdown",
   "id": "9688da26-a15e-4e59-815e-91b4167d49ce",
   "metadata": {},
   "source": [
    "No futher transformation will be done for column `created_at` individually, there is no pattern between bot and non-bot in this column"
   ]
  },
  {
   "cell_type": "markdown",
   "id": "b19d2d25-518f-4bba-82d6-4e17d5cf1bd6",
   "metadata": {},
   "source": [
    "### 2) default_profile"
   ]
  },
  {
   "cell_type": "code",
   "execution_count": 12,
   "id": "f16302f1-2128-43b2-b67c-8b49e398b5a2",
   "metadata": {},
   "outputs": [],
   "source": [
    "df_train['default_profile'] = df_train['default_profile'].astype(bool) # convert to boolean, if not done"
   ]
  },
  {
   "cell_type": "code",
   "execution_count": 13,
   "id": "dfc38d25-2d2e-4f06-9354-3d3e0d3b13c4",
   "metadata": {},
   "outputs": [
    {
     "data": {
      "text/plain": [
       "default_profile\n",
       "False    12145\n",
       "True      8819\n",
       "Name: count, dtype: int64"
      ]
     },
     "execution_count": 13,
     "metadata": {},
     "output_type": "execute_result"
    }
   ],
   "source": [
    "df_train['default_profile'].value_counts()"
   ]
  },
  {
   "cell_type": "code",
   "execution_count": 14,
   "id": "51f13223-3f0a-47b8-9172-d359b7f252c8",
   "metadata": {},
   "outputs": [
    {
     "name": "stdout",
     "output_type": "stream",
     "text": [
      "Total rows: 20964\n",
      "\n",
      "Number of bots captured on default profile settings: 4388\n",
      "Number of bots captured on non-default profile settings: 2638\n",
      "\n",
      "Number of real user captured on default profile settings: 16576\n",
      "Number of real user captured on non-default profile settings: 18326\n",
      "\n",
      "62.454% of the bots captured on default profile settings\n"
     ]
    }
   ],
   "source": [
    "n_rows = df_train.shape[0]\n",
    "n_bots = df_train['target'].sum()\n",
    "\n",
    "print(\"Total rows:\", n_rows)\n",
    "print()\n",
    "print(\"Number of bots captured on default profile settings:\", df_train[df_train['default_profile'] == True]['target'].sum())\n",
    "print(\"Number of bots captured on non-default profile settings:\", df_train[df_train['default_profile'] == False]['target'].sum())\n",
    "print()\n",
    "print(\"Number of real user captured on default profile settings:\", n_rows - df_train[df_train['default_profile'] == True]['target'].sum())\n",
    "print(\"Number of real user captured on non-default profile settings:\", n_rows - df_train[df_train['default_profile'] == False]['target'].sum())\n",
    "print()\n",
    "print('%.3f%% of the bots captured on default profile settings' % (df_train[df_train['default_profile'] == True]['target'].sum()/n_bots*100))"
   ]
  },
  {
   "cell_type": "markdown",
   "id": "7dc5b295-55fa-4748-9225-6b6d5d33d299",
   "metadata": {},
   "source": [
    "### 3) default_profile_image"
   ]
  },
  {
   "cell_type": "code",
   "execution_count": 15,
   "id": "af5167e0-c1ab-4425-8312-e417160159e5",
   "metadata": {},
   "outputs": [],
   "source": [
    "df_train['default_profile_image'] = df_train['default_profile_image'].astype(bool) # convert to boolean, if not done"
   ]
  },
  {
   "cell_type": "code",
   "execution_count": 16,
   "id": "7f3267e5-e261-41da-8f95-bdaba9b6c990",
   "metadata": {},
   "outputs": [
    {
     "data": {
      "text/plain": [
       "default_profile_image\n",
       "False    20661\n",
       "True       303\n",
       "Name: count, dtype: int64"
      ]
     },
     "execution_count": 16,
     "metadata": {},
     "output_type": "execute_result"
    }
   ],
   "source": [
    "df_train['default_profile_image'].value_counts() "
   ]
  },
  {
   "cell_type": "code",
   "execution_count": 17,
   "id": "16707a30-10b0-4722-a8c3-b53ebd441c09",
   "metadata": {},
   "outputs": [
    {
     "name": "stdout",
     "output_type": "stream",
     "text": [
      "Total rows: 20964\n",
      "\n",
      "Number of bots captured on default profile image: 212\n",
      "Number of bots captured on non-default profile image: 6814\n",
      "\n",
      "Number of real user captured on default profile image: 20752\n",
      "Number of real user captured on non-default profile image: 14150\n",
      "\n",
      "3.017% of the bots captured on default profile image\n"
     ]
    }
   ],
   "source": [
    "n_rows = df_train.shape[0]\n",
    "n_bots = df_train['target'].sum()\n",
    "\n",
    "print(\"Total rows:\", n_rows)\n",
    "print()\n",
    "print(\"Number of bots captured on default profile image:\", df_train[df_train['default_profile_image'] == True]['target'].sum())\n",
    "print(\"Number of bots captured on non-default profile image:\", df_train[df_train['default_profile_image'] == False]['target'].sum())\n",
    "print()\n",
    "print(\"Number of real user captured on default profile image:\", n_rows - df_train[df_train['default_profile_image'] == True]['target'].sum())\n",
    "print(\"Number of real user captured on non-default profile image:\", n_rows - df_train[df_train['default_profile_image'] == False]['target'].sum())\n",
    "print()\n",
    "print('%.3f%% of the bots captured on default profile image' % (df_train[df_train['default_profile_image'] == True]['target'].sum()/n_bots*100))"
   ]
  },
  {
   "cell_type": "markdown",
   "id": "95b58d01-6e03-4f46-aadb-6d74dfcc8e8f",
   "metadata": {},
   "source": [
    "### 4) description"
   ]
  },
  {
   "cell_type": "code",
   "execution_count": null,
   "id": "a355992e-9a11-416a-b677-aceb966365a1",
   "metadata": {},
   "outputs": [],
   "source": []
  },
  {
   "cell_type": "markdown",
   "id": "0b0c558e-5bf3-4903-9a49-cebdee3e8902",
   "metadata": {},
   "source": [
    "### 5) favourites_count"
   ]
  },
  {
   "cell_type": "code",
   "execution_count": 18,
   "id": "f4b82e7d-b12c-43a8-8aeb-172f4e5286f5",
   "metadata": {},
   "outputs": [],
   "source": [
    "df_train['favourites_count'] = df_train['favourites_count'].astype(int) # convert to int, if not done"
   ]
  },
  {
   "cell_type": "code",
   "execution_count": 19,
   "id": "8ff9fbe5-a3a2-4539-97e9-ab898120e413",
   "metadata": {
    "scrolled": true
   },
   "outputs": [
    {
     "data": {
      "image/png": "[encoded data removed]",
      "text/plain": [
       "<Figure size 640x480 with 1 Axes>"
      ]
     },
     "metadata": {},
     "output_type": "display_data"
    },
    {
     "data": {
      "image/png": "[encoded data removed]",
      "text/plain": [
       "<Figure size 640x480 with 1 Axes>"
      ]
     },
     "metadata": {},
     "output_type": "display_data"
    }
   ],
   "source": [
    "df_train['favourites_count'].plot(kind='box')\n",
    "plt.show()\n",
    "\n",
    "df_train[df_train['favourites_count'] < 20000]['favourites_count'].plot(kind='box')\n",
    "plt.show() # the data is right skewed"
   ]
  },
  {
   "cell_type": "code",
   "execution_count": 20,
   "id": "338b20e8-2816-46a9-b180-9d748c331c3c",
   "metadata": {},
   "outputs": [
    {
     "data": {
      "text/plain": [
       "count      7026.000000\n",
       "mean       4349.146456\n",
       "std       23776.743466\n",
       "min           0.000000\n",
       "25%         130.000000\n",
       "50%        1109.500000\n",
       "75%        2226.750000\n",
       "max      839929.000000\n",
       "Name: favourites_count, dtype: float64"
      ]
     },
     "execution_count": 20,
     "metadata": {},
     "output_type": "execute_result"
    }
   ],
   "source": [
    "df_train[df_train['target'] == 1]['favourites_count'].describe() # bots relatively has lower favourites count"
   ]
  },
  {
   "cell_type": "code",
   "execution_count": 21,
   "id": "92c69815-2f63-4a83-ad2e-f72e47521260",
   "metadata": {},
   "outputs": [
    {
     "data": {
      "text/plain": [
       "count     13938.000000\n",
       "mean      16007.601234\n",
       "std       36827.903409\n",
       "min           0.000000\n",
       "25%         651.250000\n",
       "50%        3569.500000\n",
       "75%       15024.500000\n",
       "max      697525.000000\n",
       "Name: favourites_count, dtype: float64"
      ]
     },
     "execution_count": 21,
     "metadata": {},
     "output_type": "execute_result"
    }
   ],
   "source": [
    "df_train[df_train['target'] == 0]['favourites_count'].describe()"
   ]
  },
  {
   "cell_type": "code",
   "execution_count": 22,
   "id": "bcf6a7b5-a739-4ffa-9fcc-77253cc16ec4",
   "metadata": {
    "scrolled": true
   },
   "outputs": [
    {
     "data": {
      "text/plain": [
       "<Axes: ylabel='favourites_count'>"
      ]
     },
     "execution_count": 22,
     "metadata": {},
     "output_type": "execute_result"
    },
    {
     "data": {
      "image/png": "[encoded data removed]",
      "text/plain": [
       "<Figure size 1000x600 with 1 Axes>"
      ]
     },
     "metadata": {},
     "output_type": "display_data"
    }
   ],
   "source": [
    "plt.figure(figsize=(10, 6))\n",
    "sns.stripplot(\n",
    "    data=df_train,\n",
    "    y='favourites_count',\n",
    "    hue='target',\n",
    "    dodge=True,\n",
    "    jitter=0.25,\n",
    "    size=4\n",
    ")"
   ]
  },
  {
   "cell_type": "markdown",
   "id": "8c6d6b4d-f5a4-492d-bae8-950667d02b96",
   "metadata": {},
   "source": [
    "Bots relatively has lower `favourites_count` than real user, but not really a good feature if solely rely on this column. Feature cross is probably needed. <br/> Furthermore, the values of `favourites_count` is right skewed and need to be transformed (e.g. with log transformed)."
   ]
  },
  {
   "cell_type": "markdown",
   "id": "a0858f38-50a9-4a14-80f6-7b249392211c",
   "metadata": {},
   "source": [
    "### 6) followers_count"
   ]
  },
  {
   "cell_type": "code",
   "execution_count": 23,
   "id": "1cb5bd5d-f61c-44df-81b8-071c1c065f37",
   "metadata": {},
   "outputs": [],
   "source": [
    "df_train['followers_count'] = df_train['followers_count'].astype(int) # convert to int, if not done"
   ]
  },
  {
   "cell_type": "code",
   "execution_count": 24,
   "id": "79ce195c-192f-4564-889f-fe679d8718e4",
   "metadata": {
    "scrolled": true
   },
   "outputs": [
    {
     "data": {
      "image/png": "[encoded data removed]",
      "text/plain": [
       "<Figure size 640x480 with 1 Axes>"
      ]
     },
     "metadata": {},
     "output_type": "display_data"
    },
    {
     "data": {
      "image/png": "[encoded data removed]",
      "text/plain": [
       "<Figure size 640x480 with 1 Axes>"
      ]
     },
     "metadata": {},
     "output_type": "display_data"
    }
   ],
   "source": [
    "df_train['followers_count'].plot(kind='box')\n",
    "plt.show()\n",
    "\n",
    "df_train[df_train['followers_count'] < 10000]['followers_count'].plot(kind='box')\n",
    "plt.show() # the data is right skewed"
   ]
  },
  {
   "cell_type": "code",
   "execution_count": 25,
   "id": "fdc23ef0-5d44-4910-8d96-84046346517b",
   "metadata": {},
   "outputs": [
    {
     "data": {
      "text/plain": [
       "count    7.026000e+03\n",
       "mean     7.496559e+04\n",
       "std      1.074677e+06\n",
       "min      0.000000e+00\n",
       "25%      8.000000e+00\n",
       "50%      2.500000e+01\n",
       "75%      1.967500e+02\n",
       "max      4.955794e+07\n",
       "Name: followers_count, dtype: float64"
      ]
     },
     "execution_count": 25,
     "metadata": {},
     "output_type": "execute_result"
    }
   ],
   "source": [
    "df_train[df_train['target'] == 1]['followers_count'].describe()"
   ]
  },
  {
   "cell_type": "code",
   "execution_count": 26,
   "id": "ebe53a18-4b68-46bf-9759-1c127746fc06",
   "metadata": {},
   "outputs": [
    {
     "data": {
      "text/plain": [
       "count    1.393800e+04\n",
       "mean     5.388496e+05\n",
       "std      3.082214e+06\n",
       "min      0.000000e+00\n",
       "25%      1.800000e+02\n",
       "50%      1.020500e+03\n",
       "75%      7.525700e+04\n",
       "max      1.216415e+08\n",
       "Name: followers_count, dtype: float64"
      ]
     },
     "execution_count": 26,
     "metadata": {},
     "output_type": "execute_result"
    }
   ],
   "source": [
    "df_train[df_train['target'] == 0]['followers_count'].describe()"
   ]
  },
  {
   "cell_type": "code",
   "execution_count": 27,
   "id": "eff3584c-57c2-4afc-8cf7-d629f6926ceb",
   "metadata": {
    "scrolled": true
   },
   "outputs": [
    {
     "data": {
      "text/plain": [
       "<Axes: ylabel='followers_count'>"
      ]
     },
     "execution_count": 27,
     "metadata": {},
     "output_type": "execute_result"
    },
    {
     "data": {
      "image/png": "[encoded data removed]",
      "text/plain": [
       "<Figure size 1000x600 with 1 Axes>"
      ]
     },
     "metadata": {},
     "output_type": "display_data"
    }
   ],
   "source": [
    "plt.figure(figsize=(10, 6))\n",
    "sns.stripplot(\n",
    "    data=df_train,\n",
    "    y='followers_count',\n",
    "    hue='target',\n",
    "    dodge=True,\n",
    "    jitter=0.25,\n",
    "    size=4\n",
    ")"
   ]
  },
  {
   "cell_type": "markdown",
   "id": "b17dee28-dc25-41b0-af78-48d374aa0547",
   "metadata": {},
   "source": [
    "Bots relatively has lower `followers_count` than real user, but not really a good feature if solely rely on this column. Feature cross is probably needed. <br/> Furthermore, the values of `followers_count` is right skewed and need to be transformed (e.g. with log transformed)."
   ]
  },
  {
   "cell_type": "markdown",
   "id": "bc85b87b-f1ea-41af-917a-13d7d08544dc",
   "metadata": {},
   "source": [
    "### 7) friends_count"
   ]
  },
  {
   "cell_type": "code",
   "execution_count": 28,
   "id": "5c5a1f63-2c20-4155-bf13-9f4472cde55f",
   "metadata": {},
   "outputs": [],
   "source": [
    "df_train['friends_count'] = df_train['friends_count'].astype(int) # convert to int, if not done"
   ]
  },
  {
   "cell_type": "code",
   "execution_count": 29,
   "id": "e6ccaf3b-7061-4379-a0d3-8c795491a618",
   "metadata": {
    "scrolled": true
   },
   "outputs": [
    {
     "data": {
      "image/png": "[encoded data removed]",
      "text/plain": [
       "<Figure size 640x480 with 1 Axes>"
      ]
     },
     "metadata": {},
     "output_type": "display_data"
    },
    {
     "data": {
      "image/png": "[encoded data removed]",
      "text/plain": [
       "<Figure size 640x480 with 1 Axes>"
      ]
     },
     "metadata": {},
     "output_type": "display_data"
    }
   ],
   "source": [
    "df_train['friends_count'].plot(kind='box')\n",
    "plt.show()\n",
    "\n",
    "df_train[df_train['friends_count'] < 10000]['friends_count'].plot(kind='box')\n",
    "plt.show() # the data is right skewed"
   ]
  },
  {
   "cell_type": "code",
   "execution_count": 30,
   "id": "4a4a2283-da67-4398-bf3a-a2c9ba0f8b0c",
   "metadata": {},
   "outputs": [
    {
     "data": {
      "text/plain": [
       "count    7.026000e+03\n",
       "mean     4.746586e+03\n",
       "std      4.821320e+04\n",
       "min      0.000000e+00\n",
       "25%      0.000000e+00\n",
       "50%      2.900000e+01\n",
       "75%      2.550000e+02\n",
       "max      1.473166e+06\n",
       "Name: friends_count, dtype: float64"
      ]
     },
     "execution_count": 30,
     "metadata": {},
     "output_type": "execute_result"
    }
   ],
   "source": [
    "df_train[df_train['target'] == 1]['friends_count'].describe()"
   ]
  },
  {
   "cell_type": "code",
   "execution_count": 31,
   "id": "3270539a-7926-464d-87a2-069e88efc90a",
   "metadata": {},
   "outputs": [
    {
     "data": {
      "text/plain": [
       "count    1.393800e+04\n",
       "mean     4.148421e+03\n",
       "std      4.443670e+04\n",
       "min      0.000000e+00\n",
       "25%      1.700000e+02\n",
       "50%      4.650000e+02\n",
       "75%      1.116000e+03\n",
       "max      1.641962e+06\n",
       "Name: friends_count, dtype: float64"
      ]
     },
     "execution_count": 31,
     "metadata": {},
     "output_type": "execute_result"
    }
   ],
   "source": [
    "df_train[df_train['target'] == 0]['friends_count'].describe()"
   ]
  },
  {
   "cell_type": "code",
   "execution_count": 32,
   "id": "7fa1072e-f0af-427a-9cf5-a0ea848597b9",
   "metadata": {},
   "outputs": [
    {
     "data": {
      "text/plain": [
       "<Axes: ylabel='friends_count'>"
      ]
     },
     "execution_count": 32,
     "metadata": {},
     "output_type": "execute_result"
    },
    {
     "data": {
      "image/png": "[encoded data removed]",
      "text/plain": [
       "<Figure size 1000x600 with 1 Axes>"
      ]
     },
     "metadata": {},
     "output_type": "display_data"
    }
   ],
   "source": [
    "plt.figure(figsize=(10, 6))\n",
    "sns.stripplot(\n",
    "    data=df_train[df_train['friends_count']< 10000],\n",
    "    y='friends_count',\n",
    "    hue='target',\n",
    "    dodge=True,\n",
    "    jitter=0.25,\n",
    "    size=4\n",
    ")"
   ]
  },
  {
   "cell_type": "markdown",
   "id": "3f9da557-0364-4a70-b64e-6ab51f76bca9",
   "metadata": {},
   "source": [
    "Bots relatively has lower `friends_count` than real user, but not really a good feature if solely rely on this column. Feature cross is probably needed. <br/> Furthermore, the values of `friends_count` is right skewed and need to be transformed (e.g. with log transformed)."
   ]
  },
  {
   "cell_type": "markdown",
   "id": "7556667a-290d-4609-90a0-d1dcb4477f35",
   "metadata": {},
   "source": [
    "### 8) geo_enabled"
   ]
  },
  {
   "cell_type": "code",
   "execution_count": 33,
   "id": "d655e148-a357-4b42-bd19-28343ea535cd",
   "metadata": {},
   "outputs": [],
   "source": [
    "df_train['geo_enabled'] = df_train['geo_enabled'].astype(bool) # convert to boolean, if not done"
   ]
  },
  {
   "cell_type": "code",
   "execution_count": 34,
   "id": "54e4b72a-9e88-4412-adb4-7f82ed95b7b8",
   "metadata": {},
   "outputs": [
    {
     "data": {
      "text/plain": [
       "geo_enabled\n",
       "False    11530\n",
       "True      9434\n",
       "Name: count, dtype: int64"
      ]
     },
     "execution_count": 34,
     "metadata": {},
     "output_type": "execute_result"
    }
   ],
   "source": [
    "df_train['geo_enabled'].value_counts()"
   ]
  },
  {
   "cell_type": "code",
   "execution_count": 35,
   "id": "a68e50a7-623c-4f6f-8856-89fc3ef1be03",
   "metadata": {},
   "outputs": [
    {
     "name": "stdout",
     "output_type": "stream",
     "text": [
      "Total rows: 20964\n",
      "\n",
      "Number of bots captured has enabled location services: 1476\n",
      "Number of bots captured has not enabled location services: 5550\n",
      "\n",
      "Number of real user captured has enabled location services: 19488\n",
      "Number of real user captured has not enabled location services: 15414\n",
      "\n",
      "21.008% of the bots captured has enabled location services\n"
     ]
    }
   ],
   "source": [
    "n_rows = df_train.shape[0]\n",
    "n_bots = df_train['target'].sum()\n",
    "\n",
    "print(\"Total rows:\", n_rows)\n",
    "print()\n",
    "print(\"Number of bots captured has enabled location services:\", df_train[df_train['geo_enabled'] == True]['target'].sum())\n",
    "print(\"Number of bots captured has not enabled location services:\", df_train[df_train['geo_enabled'] == False]['target'].sum())\n",
    "print()\n",
    "print(\"Number of real user captured has enabled location services:\", n_rows - df_train[df_train['geo_enabled'] == True]['target'].sum())\n",
    "print(\"Number of real user captured has not enabled location services:\", n_rows - df_train[df_train['geo_enabled'] == False]['target'].sum())\n",
    "print()\n",
    "print('%.3f%% of the bots captured has enabled location services' % (df_train[df_train['geo_enabled'] == True]['target'].sum()/n_bots*100))"
   ]
  },
  {
   "cell_type": "markdown",
   "id": "91f0958a-8eec-4e09-a159-2c034632d11c",
   "metadata": {},
   "source": [
    "### 9) id"
   ]
  },
  {
   "cell_type": "code",
   "execution_count": 36,
   "id": "c7d51722-5310-4a7f-a77f-7bb9512a7437",
   "metadata": {},
   "outputs": [
    {
     "data": {
      "text/plain": [
       "id\n",
       "713031428833828865    1\n",
       "1365481327            1\n",
       "23653153              1\n",
       "574422621             1\n",
       "287850643             1\n",
       "                     ..\n",
       "1427001162            1\n",
       "256597786             1\n",
       "835545088373604352    1\n",
       "198013804             1\n",
       "94348985              1\n",
       "Name: count, Length: 20964, dtype: int64"
      ]
     },
     "execution_count": 36,
     "metadata": {},
     "output_type": "execute_result"
    }
   ],
   "source": [
    "df_train['id'].value_counts()"
   ]
  },
  {
   "cell_type": "markdown",
   "id": "238ebec3-3478-4b36-b73d-384c9e0702db",
   "metadata": {},
   "source": [
    "Since all values in feature `id` are unique, therefore this feature will be dropped and will not be used for model prediction. "
   ]
  },
  {
   "cell_type": "markdown",
   "id": "7da76b3c-ceee-40d4-acbe-b2971013f5c5",
   "metadata": {},
   "source": [
    "### 10) lang"
   ]
  },
  {
   "cell_type": "code",
   "execution_count": 37,
   "id": "d931c38a-c713-4de7-a913-0e53b4d98a8e",
   "metadata": {},
   "outputs": [
    {
     "name": "stdout",
     "output_type": "stream",
     "text": [
      "num of unknown values: 4458\n",
      "num of unknown values: 0\n"
     ]
    }
   ],
   "source": [
    "print(\"num of unknown values:\", df_train['lang'].isnull().sum())\n",
    "\n",
    "df_train['lang'] = df_train['lang'].fillna('na')\n",
    "print(\"num of unknown values:\", df_train['lang'].isnull().sum())"
   ]
  },
  {
   "cell_type": "code",
   "execution_count": 38,
   "id": "f9bbf789-4e6f-4bf0-81ab-f2cf6b434464",
   "metadata": {
    "scrolled": true
   },
   "outputs": [
    {
     "data": {
      "text/plain": [
       "lang\n",
       "en       11976\n",
       "na        4458\n",
       "es         659\n",
       "pt         395\n",
       "it         358\n",
       "ar         341\n",
       "de         308\n",
       "fr         238\n",
       "ja         212\n",
       "af         189\n",
       "id         173\n",
       "ru         142\n",
       "tl         122\n",
       "tr         121\n",
       "sw         111\n",
       "ca         105\n",
       "da          92\n",
       "no          92\n",
       "cy          90\n",
       "nl          86\n",
       "ro          82\n",
       "sv          69\n",
       "so          68\n",
       "zh-cn       58\n",
       "ko          57\n",
       "et          52\n",
       "fi          43\n",
       "vi          34\n",
       "pl          34\n",
       "sl          26\n",
       "hr          24\n",
       "hu          20\n",
       "lt          19\n",
       "sk          18\n",
       "sq          15\n",
       "th          14\n",
       "el          12\n",
       "bg           9\n",
       "fa           8\n",
       "mk           7\n",
       "uk           6\n",
       "cs           5\n",
       "hi           5\n",
       "ur           3\n",
       "lv           3\n",
       "zh-tw        2\n",
       "he           1\n",
       "pa           1\n",
       "ne           1\n",
       "Name: count, dtype: int64"
      ]
     },
     "execution_count": 38,
     "metadata": {},
     "output_type": "execute_result"
    }
   ],
   "source": [
    "df_train['lang'] = df_train['lang'].astype('category')\n",
    "df_train['lang'].value_counts() # lots of small values"
   ]
  },
  {
   "cell_type": "code",
   "execution_count": 39,
   "id": "57242f72-b01a-444f-972b-8dd5c03763fb",
   "metadata": {},
   "outputs": [
    {
     "data": {
      "image/png": "[encoded data removed]",
      "text/plain": [
       "<Figure size 1200x500 with 1 Axes>"
      ]
     },
     "metadata": {},
     "output_type": "display_data"
    }
   ],
   "source": [
    "df_train['lang'].value_counts().plot(kind='bar', figsize=(12, 5))\n",
    "plt.title('Language Distribution')\n",
    "plt.xlabel('Language')\n",
    "plt.ylabel('Count')\n",
    "plt.xticks(rotation=45)\n",
    "plt.tight_layout()\n",
    "plt.show()"
   ]
  },
  {
   "cell_type": "code",
   "execution_count": 40,
   "id": "f2652347-d095-4c72-b98c-763b67453d00",
   "metadata": {
    "scrolled": true
   },
   "outputs": [
    {
     "data": {
      "text/plain": [
       "lang\n",
       "en       9007\n",
       "na       1951\n",
       "es        495\n",
       "pt        278\n",
       "it        261\n",
       "de        234\n",
       "fr        178\n",
       "ru        129\n",
       "ar        118\n",
       "id        112\n",
       "ja        110\n",
       "tl         93\n",
       "ca         86\n",
       "tr         78\n",
       "da         71\n",
       "af         67\n",
       "ro         67\n",
       "nl         66\n",
       "no         66\n",
       "sv         53\n",
       "cy         49\n",
       "so         42\n",
       "sw         39\n",
       "et         37\n",
       "fi         26\n",
       "vi         25\n",
       "pl         23\n",
       "hr         21\n",
       "hu         19\n",
       "ko         19\n",
       "lt         16\n",
       "sl         15\n",
       "sk         12\n",
       "sq         12\n",
       "zh-cn      11\n",
       "th         10\n",
       "bg          8\n",
       "mk          7\n",
       "uk          6\n",
       "cs          5\n",
       "el          5\n",
       "fa          3\n",
       "lv          3\n",
       "hi          2\n",
       "he          1\n",
       "ur          1\n",
       "ne          1\n",
       "pa          0\n",
       "zh-tw       0\n",
       "Name: count, dtype: int64"
      ]
     },
     "execution_count": 40,
     "metadata": {},
     "output_type": "execute_result"
    }
   ],
   "source": [
    "df_train[df_train['target'] == 0]['lang'].value_counts()"
   ]
  },
  {
   "cell_type": "code",
   "execution_count": 41,
   "id": "980c7478-520d-4c78-8131-e22207f09574",
   "metadata": {
    "scrolled": true
   },
   "outputs": [
    {
     "data": {
      "text/plain": [
       "lang\n",
       "en       2969\n",
       "na       2507\n",
       "ar        223\n",
       "es        164\n",
       "af        122\n",
       "pt        117\n",
       "ja        102\n",
       "it         97\n",
       "de         74\n",
       "sw         72\n",
       "id         61\n",
       "fr         60\n",
       "zh-cn      47\n",
       "tr         43\n",
       "cy         41\n",
       "ko         38\n",
       "tl         29\n",
       "no         26\n",
       "so         26\n",
       "da         21\n",
       "nl         20\n",
       "ca         19\n",
       "fi         17\n",
       "sv         16\n",
       "et         15\n",
       "ro         15\n",
       "ru         13\n",
       "sl         11\n",
       "pl         11\n",
       "vi          9\n",
       "el          7\n",
       "sk          6\n",
       "fa          5\n",
       "th          4\n",
       "sq          3\n",
       "lt          3\n",
       "hi          3\n",
       "hr          3\n",
       "zh-tw       2\n",
       "ur          2\n",
       "bg          1\n",
       "hu          1\n",
       "pa          1\n",
       "he          0\n",
       "cs          0\n",
       "mk          0\n",
       "ne          0\n",
       "lv          0\n",
       "uk          0\n",
       "Name: count, dtype: int64"
      ]
     },
     "execution_count": 41,
     "metadata": {},
     "output_type": "execute_result"
    }
   ],
   "source": [
    "df_train[df_train['target'] == 1]['lang'].value_counts()"
   ]
  },
  {
   "cell_type": "markdown",
   "id": "67abd3b3-3d29-4f87-805f-438bfb56f833",
   "metadata": {},
   "source": [
    "In feature `lang` exists languages in small values, will be bucketized as part of preprocessing. Interestingly, more than 50% of na value (language preference was not indicated) are bots."
   ]
  },
  {
   "cell_type": "markdown",
   "id": "9a827a69-ba7e-44d1-aa93-3984df711254",
   "metadata": {},
   "source": [
    "### 11) location"
   ]
  },
  {
   "cell_type": "code",
   "execution_count": 42,
   "id": "ade908cf-1d5b-4050-b0dd-5cf54d2d6310",
   "metadata": {},
   "outputs": [
    {
     "data": {
      "text/plain": [
       "location\n",
       "unknown                      7390\n",
       "Los Angeles, CA               297\n",
       "New York, NY                  192\n",
       "United States                 142\n",
       "Los Angeles                   125\n",
       "                             ... \n",
       "At the crib dog                 1\n",
       "SEEKING SALVATION               1\n",
       "Never touching the ground       1\n",
       "Granada Hills, CA               1\n",
       "20 | she/her | lesbian          1\n",
       "Name: count, Length: 7349, dtype: int64"
      ]
     },
     "execution_count": 42,
     "metadata": {},
     "output_type": "execute_result"
    }
   ],
   "source": [
    "df_train['location'].value_counts()"
   ]
  },
  {
   "cell_type": "code",
   "execution_count": 43,
   "id": "705087e9-9edb-4639-8113-f5a473a5d55a",
   "metadata": {},
   "outputs": [
    {
     "name": "stdout",
     "output_type": "stream",
     "text": [
      "num of unknown values: 2\n",
      "num of unknown values: 0\n"
     ]
    }
   ],
   "source": [
    "print(\"num of unknown values:\", df_train['location'].isnull().sum())\n",
    "\n",
    "df_train['location'] = df_train['location'].fillna('unknown') # fill with unknown values as 'unknown'\n",
    "print(\"num of unknown values:\", df_train['location'].isnull().sum())"
   ]
  },
  {
   "cell_type": "code",
   "execution_count": 44,
   "id": "08a503fb-ca8b-4ce0-be92-13bbce321676",
   "metadata": {},
   "outputs": [
    {
     "data": {
      "text/plain": [
       "location\n",
       "unknown            3577\n",
       "Los Angeles, CA      25\n",
       "New York, NY         22\n",
       "United States        21\n",
       "Brasil               19\n",
       "                   ... \n",
       "Muskegon, MI          1\n",
       "Harrisburg            1\n",
       "West Carson, CA       1\n",
       "서핑벨벳                  1\n",
       "NEW YORK              1\n",
       "Name: count, Length: 2447, dtype: int64"
      ]
     },
     "execution_count": 44,
     "metadata": {},
     "output_type": "execute_result"
    }
   ],
   "source": [
    "df_train[df_train['target'] == 1]['location'].value_counts()"
   ]
  },
  {
   "cell_type": "code",
   "execution_count": 45,
   "id": "f48ae94c-fcb6-400b-ae4c-58acbe9d0dc4",
   "metadata": {},
   "outputs": [
    {
     "data": {
      "text/plain": [
       "location\n",
       "unknown             3815\n",
       "Los Angeles, CA      272\n",
       "New York, NY         170\n",
       "United States        121\n",
       "Los Angeles          114\n",
       "                    ... \n",
       "avex-management.       1\n",
       "Beirut- Lebanon        1\n",
       "Venezuela†             1\n",
       "nyc/seoul              1\n",
       "Hereford, TX           1\n",
       "Name: count, Length: 5439, dtype: int64"
      ]
     },
     "execution_count": 45,
     "metadata": {},
     "output_type": "execute_result"
    }
   ],
   "source": [
    "df_train[df_train['target'] == 0]['location'].value_counts()"
   ]
  },
  {
   "cell_type": "code",
   "execution_count": null,
   "id": "7a052da0-9b15-4390-9758-4b91d40472d9",
   "metadata": {},
   "outputs": [],
   "source": []
  },
  {
   "cell_type": "markdown",
   "id": "d2b9d994-0329-4f9d-82f9-1bed9ab4149b",
   "metadata": {},
   "source": [
    "### 12) profile_background_image_url"
   ]
  },
  {
   "cell_type": "code",
   "execution_count": 46,
   "id": "9d8d513a-435a-4481-8fbb-f07790396aa4",
   "metadata": {},
   "outputs": [
    {
     "data": {
      "text/plain": [
       "profile_background_image_url\n",
       "http://abs.twimg.com/images/themes/theme1/bg.png     12115\n",
       "http://abs.twimg.com/images/themes/theme14/bg.gif     1266\n",
       "http://abs.twimg.com/images/themes/theme9/bg.gif       940\n",
       "http://abs.twimg.com/images/themes/theme10/bg.gif      528\n",
       "http://abs.twimg.com/images/themes/theme15/bg.png      478\n",
       "http://abs.twimg.com/images/themes/theme4/bg.gif       389\n",
       "http://abs.twimg.com/images/themes/theme18/bg.gif      331\n",
       "http://abs.twimg.com/images/themes/theme5/bg.gif       328\n",
       "http://abs.twimg.com/images/themes/theme11/bg.gif      291\n",
       "http://abs.twimg.com/images/themes/theme7/bg.gif       202\n",
       "http://abs.twimg.com/images/themes/theme6/bg.gif       194\n",
       "http://abs.twimg.com/images/themes/theme13/bg.gif      185\n",
       "http://abs.twimg.com/images/themes/theme2/bg.gif       185\n",
       "http://abs.twimg.com/images/themes/theme17/bg.gif      171\n",
       "http://abs.twimg.com/images/themes/theme3/bg.gif       170\n",
       "http://abs.twimg.com/images/themes/theme19/bg.gif      164\n",
       "http://abs.twimg.com/images/themes/theme16/bg.gif      154\n",
       "http://abs.twimg.com/images/themes/theme12/bg.gif      154\n",
       "http://abs.twimg.com/images/themes/theme8/bg.gif       116\n",
       "http://abs.twimg.com/images/themes/theme20/bg.png       10\n",
       "Name: count, dtype: int64"
      ]
     },
     "execution_count": 46,
     "metadata": {},
     "output_type": "execute_result"
    }
   ],
   "source": [
    "df_train['profile_background_image_url'].value_counts()"
   ]
  },
  {
   "cell_type": "code",
   "execution_count": 47,
   "id": "29042dd7-c934-4ecc-abc8-59222eda5f46",
   "metadata": {},
   "outputs": [
    {
     "name": "stdout",
     "output_type": "stream",
     "text": [
      "num of unknown values: 2593\n",
      "num of unknown values: 0\n"
     ]
    }
   ],
   "source": [
    "print(\"num of unknown values:\", df_train['profile_background_image_url'].isnull().sum())\n",
    "\n",
    "df_train['profile_background_image_url'] = df_train['profile_background_image_url'].fillna('na') # fill with unknown values as 'unknown'\n",
    "print(\"num of unknown values:\", df_train['profile_background_image_url'].isnull().sum())"
   ]
  },
  {
   "cell_type": "code",
   "execution_count": 48,
   "id": "7ff458ef-e7b3-4ee5-8441-06f2b0d08c23",
   "metadata": {},
   "outputs": [
    {
     "data": {
      "text/plain": [
       "profile_background_image_url\n",
       "http://abs.twimg.com/images/themes/theme1/bg.png     4580\n",
       "na                                                   1252\n",
       "http://abs.twimg.com/images/themes/theme14/bg.gif     217\n",
       "http://abs.twimg.com/images/themes/theme9/bg.gif      154\n",
       "http://abs.twimg.com/images/themes/theme10/bg.gif     115\n",
       "http://abs.twimg.com/images/themes/theme4/bg.gif       98\n",
       "http://abs.twimg.com/images/themes/theme15/bg.png      78\n",
       "http://abs.twimg.com/images/themes/theme18/bg.gif      70\n",
       "http://abs.twimg.com/images/themes/theme5/bg.gif       70\n",
       "http://abs.twimg.com/images/themes/theme11/bg.gif      56\n",
       "http://abs.twimg.com/images/themes/theme13/bg.gif      43\n",
       "http://abs.twimg.com/images/themes/theme7/bg.gif       37\n",
       "http://abs.twimg.com/images/themes/theme19/bg.gif      36\n",
       "http://abs.twimg.com/images/themes/theme6/bg.gif       36\n",
       "http://abs.twimg.com/images/themes/theme2/bg.gif       34\n",
       "http://abs.twimg.com/images/themes/theme12/bg.gif      32\n",
       "http://abs.twimg.com/images/themes/theme3/bg.gif       31\n",
       "http://abs.twimg.com/images/themes/theme8/bg.gif       31\n",
       "http://abs.twimg.com/images/themes/theme16/bg.gif      30\n",
       "http://abs.twimg.com/images/themes/theme17/bg.gif      25\n",
       "http://abs.twimg.com/images/themes/theme20/bg.png       1\n",
       "Name: count, dtype: int64"
      ]
     },
     "execution_count": 48,
     "metadata": {},
     "output_type": "execute_result"
    }
   ],
   "source": [
    "df_train[df_train['target']==1]['profile_background_image_url'].value_counts()"
   ]
  },
  {
   "cell_type": "code",
   "execution_count": 49,
   "id": "6e06ba06-08a9-4de2-b83c-f7909079170e",
   "metadata": {},
   "outputs": [
    {
     "data": {
      "text/plain": [
       "profile_background_image_url\n",
       "http://abs.twimg.com/images/themes/theme1/bg.png     7535\n",
       "na                                                   1341\n",
       "http://abs.twimg.com/images/themes/theme14/bg.gif    1049\n",
       "http://abs.twimg.com/images/themes/theme9/bg.gif      786\n",
       "http://abs.twimg.com/images/themes/theme10/bg.gif     413\n",
       "http://abs.twimg.com/images/themes/theme15/bg.png     400\n",
       "http://abs.twimg.com/images/themes/theme4/bg.gif      291\n",
       "http://abs.twimg.com/images/themes/theme18/bg.gif     261\n",
       "http://abs.twimg.com/images/themes/theme5/bg.gif      258\n",
       "http://abs.twimg.com/images/themes/theme11/bg.gif     235\n",
       "http://abs.twimg.com/images/themes/theme7/bg.gif      165\n",
       "http://abs.twimg.com/images/themes/theme6/bg.gif      158\n",
       "http://abs.twimg.com/images/themes/theme2/bg.gif      151\n",
       "http://abs.twimg.com/images/themes/theme17/bg.gif     146\n",
       "http://abs.twimg.com/images/themes/theme13/bg.gif     142\n",
       "http://abs.twimg.com/images/themes/theme3/bg.gif      139\n",
       "http://abs.twimg.com/images/themes/theme19/bg.gif     128\n",
       "http://abs.twimg.com/images/themes/theme16/bg.gif     124\n",
       "http://abs.twimg.com/images/themes/theme12/bg.gif     122\n",
       "http://abs.twimg.com/images/themes/theme8/bg.gif       85\n",
       "http://abs.twimg.com/images/themes/theme20/bg.png       9\n",
       "Name: count, dtype: int64"
      ]
     },
     "execution_count": 49,
     "metadata": {},
     "output_type": "execute_result"
    }
   ],
   "source": [
    "df_train[df_train['target']==0]['profile_background_image_url'].value_counts()"
   ]
  },
  {
   "cell_type": "code",
   "execution_count": null,
   "id": "c7cc5c80-a263-4f83-ac71-0aa83b21b6e8",
   "metadata": {},
   "outputs": [],
   "source": []
  },
  {
   "cell_type": "markdown",
   "id": "c7415841-3e10-499d-acbc-a1276f7bf322",
   "metadata": {},
   "source": [
    "### 13) profile_image_url"
   ]
  },
  {
   "cell_type": "code",
   "execution_count": 50,
   "id": "ded1bd83-ae33-4a2b-a572-31dba7a25a14",
   "metadata": {},
   "outputs": [
    {
     "data": {
      "text/plain": [
       "profile_image_url\n",
       "http://abs.twimg.com/sticky/default_profile_images/default_profile_normal.png    303\n",
       "http://pbs.twimg.com/profile_images/1284326929873723395/Pv6iTm0Q_normal.jpg        1\n",
       "http://pbs.twimg.com/profile_images/871204917385375744/sasyVV_M_normal.jpg         1\n",
       "http://pbs.twimg.com/profile_images/1144679115221536768/NatXEY3i_normal.jpg        1\n",
       "http://pbs.twimg.com/profile_images/1253867407774384129/RZ682LQY_normal.jpg        1\n",
       "                                                                                ... \n",
       "http://pbs.twimg.com/profile_images/968010930796756992/15mgqPbD_normal.jpg         1\n",
       "http://pbs.twimg.com/profile_images/476537671234228224/fb3p542t_normal.jpeg        1\n",
       "http://pbs.twimg.com/profile_images/817716640141942785/QSVnvT4L_normal.jpg         1\n",
       "http://pbs.twimg.com/profile_images/975627376506867712/1ptMiKR9_normal.jpg         1\n",
       "http://pbs.twimg.com/profile_images/750184930617864192/WFeTh42I_normal.jpg         1\n",
       "Name: count, Length: 20661, dtype: int64"
      ]
     },
     "execution_count": 50,
     "metadata": {},
     "output_type": "execute_result"
    }
   ],
   "source": [
    "df_train['profile_image_url'].value_counts()"
   ]
  },
  {
   "cell_type": "code",
   "execution_count": 51,
   "id": "6b9a9eb0-cccd-4dcc-b70b-35e15138a44f",
   "metadata": {},
   "outputs": [
    {
     "name": "stdout",
     "output_type": "stream",
     "text": [
      "num of unknown values: 1\n",
      "num of unknown values: 0\n"
     ]
    }
   ],
   "source": [
    "print(\"num of unknown values:\", df_train['profile_image_url'].isnull().sum())\n",
    "\n",
    "df_train['profile_image_url'] = df_train['profile_image_url'].fillna(df_train['profile_image_url'].mode()[0]) # fill with unknown values as 'unknown'\n",
    "\n",
    "print(\"num of unknown values:\", df_train['profile_image_url'].isnull().sum())"
   ]
  },
  {
   "cell_type": "code",
   "execution_count": 52,
   "id": "d3dd606e-ccaf-4211-9c7a-05313061b218",
   "metadata": {},
   "outputs": [
    {
     "data": {
      "text/plain": [
       "profile_image_url\n",
       "http://abs.twimg.com/sticky/default_profile_images/default_profile_normal.png    213\n",
       "http://pbs.twimg.com/profile_images/1758245984/879_normal.jpg                      1\n",
       "http://pbs.twimg.com/profile_images/2581398856/stilettos_normal.jpg                1\n",
       "http://pbs.twimg.com/profile_images/804943923919646720/9JoGqHoA_normal.jpg         1\n",
       "http://pbs.twimg.com/profile_images/854850230528991233/MkoL8fQ5_normal.jpg         1\n",
       "                                                                                ... \n",
       "http://pbs.twimg.com/profile_images/776782303355932672/j3ADud9H_normal.jpg         1\n",
       "http://pbs.twimg.com/profile_images/1278301735216467969/kjHCqtyJ_normal.jpg        1\n",
       "http://pbs.twimg.com/profile_images/879512593450381313/pmheoZ3U_normal.jpg         1\n",
       "http://pbs.twimg.com/profile_images/1290489159849619458/EVhR4fEs_normal.jpg        1\n",
       "http://pbs.twimg.com/profile_images/877803132830584833/k2-BNc_V_normal.jpg         1\n",
       "Name: count, Length: 6814, dtype: int64"
      ]
     },
     "execution_count": 52,
     "metadata": {},
     "output_type": "execute_result"
    }
   ],
   "source": [
    "df_train[df_train['target']==1]['profile_image_url'].value_counts()"
   ]
  },
  {
   "cell_type": "code",
   "execution_count": 53,
   "id": "8b5aae8e-8234-44f7-ab16-0d6fec98af9d",
   "metadata": {},
   "outputs": [
    {
     "data": {
      "text/plain": [
       "profile_image_url\n",
       "http://abs.twimg.com/sticky/default_profile_images/default_profile_normal.png    91\n",
       "http://pbs.twimg.com/profile_images/1029964211236024321/gxKwNoUj_normal.jpg       1\n",
       "http://pbs.twimg.com/profile_images/1027933141745520640/QbrGR7RG_normal.jpg       1\n",
       "http://pbs.twimg.com/profile_images/1250999856451121158/nuyYXw1q_normal.jpg       1\n",
       "http://pbs.twimg.com/profile_images/949790871771320320/WZ102KQr_normal.jpg        1\n",
       "                                                                                 ..\n",
       "http://pbs.twimg.com/profile_images/1294495165751742466/YgOVCX7b_normal.jpg       1\n",
       "http://pbs.twimg.com/profile_images/892699620727554049/g5CVgANz_normal.jpg        1\n",
       "http://pbs.twimg.com/profile_images/661252831337439232/EqxzNjvu_normal.jpg        1\n",
       "http://pbs.twimg.com/profile_images/537380898321494016/tnxs8nai_normal.jpeg       1\n",
       "http://pbs.twimg.com/profile_images/1244250020678942720/Y4mGqDoO_normal.jpg       1\n",
       "Name: count, Length: 13848, dtype: int64"
      ]
     },
     "execution_count": 53,
     "metadata": {},
     "output_type": "execute_result"
    }
   ],
   "source": [
    "df_train[df_train['target']==0]['profile_image_url'].value_counts()"
   ]
  },
  {
   "cell_type": "markdown",
   "id": "31e29ffe-2440-4185-8882-d54b0bf7c039",
   "metadata": {},
   "source": [
    "Some of the bots uses default profile picture in feature `profile_image_url`. However, need to perform feature cross for better prediction."
   ]
  },
  {
   "cell_type": "markdown",
   "id": "592ac874-96db-4d27-80a9-6366c638fcef",
   "metadata": {},
   "source": [
    "### 14) screen_name"
   ]
  },
  {
   "cell_type": "code",
   "execution_count": 54,
   "id": "46eb04b2-f88a-44be-8ee0-6ee0fb276450",
   "metadata": {},
   "outputs": [
    {
     "data": {
      "text/plain": [
       "screen_name\n",
       "midwesternlivin    1\n",
       "juanhmetal         1\n",
       "gugakuerten        1\n",
       "tiffanylloyd018    1\n",
       "alexsimons2        1\n",
       "                  ..\n",
       "NevaehStarlee      1\n",
       "d0nhy0n            1\n",
       "zeel1314           1\n",
       "21h32              1\n",
       "TeessideJon        1\n",
       "Name: count, Length: 20964, dtype: int64"
      ]
     },
     "execution_count": 54,
     "metadata": {},
     "output_type": "execute_result"
    }
   ],
   "source": [
    "df_train['screen_name'].value_counts()"
   ]
  },
  {
   "cell_type": "code",
   "execution_count": 55,
   "id": "0fb9ad93-ca27-422f-905d-c326eef9fd0a",
   "metadata": {},
   "outputs": [
    {
     "data": {
      "text/plain": [
       "array(['alexsimons2', 'CocaCola_Korea', 'coinhealth1', ..., 'd0nhy0n',\n",
       "       'zeel1314', 'TeessideJon'], shape=(7026,), dtype=object)"
      ]
     },
     "execution_count": 55,
     "metadata": {},
     "output_type": "execute_result"
    }
   ],
   "source": [
    "df_train[df_train['target']==1]['screen_name'].unique()"
   ]
  },
  {
   "cell_type": "code",
   "execution_count": 56,
   "id": "49a80506-2c55-49f2-9068-9001c78d7414",
   "metadata": {},
   "outputs": [
    {
     "data": {
      "text/plain": [
       "array(['midwesternlivin', 'juanhmetal', 'gugakuerten', ..., 'Nom13',\n",
       "       'ceonyc', '21h32'], shape=(13938,), dtype=object)"
      ]
     },
     "execution_count": 56,
     "metadata": {},
     "output_type": "execute_result"
    }
   ],
   "source": [
    "df_train[df_train['target']==0]['screen_name'].unique()"
   ]
  },
  {
   "cell_type": "code",
   "execution_count": 57,
   "id": "d45f56c6-2e60-4d77-805b-5f22042dfca6",
   "metadata": {
    "scrolled": true
   },
   "outputs": [
    {
     "data": {
      "text/plain": [
       "['alexsimons2',\n",
       " 'CocaCola_Korea',\n",
       " 'coinhealth1',\n",
       " 'Johnquigley24',\n",
       " 'Luna_Tix',\n",
       " 'augurelt',\n",
       " 'sheharyar1234',\n",
       " 'DerekChinLi',\n",
       " 'A___sakush07',\n",
       " 'ubezivttspqpf11',\n",
       " 'officialzanardi',\n",
       " 'InfoSecHotSpot',\n",
       " 'lamara_zhdanova',\n",
       " 'jnkfoodjnkie',\n",
       " 'Cam4',\n",
       " 'ialexanderwu',\n",
       " 'eriolroy',\n",
       " 'Gretsnig',\n",
       " 'mittifrae',\n",
       " 'savukinass',\n",
       " 'harmonywhispers',\n",
       " 'taylorparker97',\n",
       " 'rlherschy',\n",
       " 'RoyalVietNam',\n",
       " 'Jenni4597',\n",
       " 'guhaimin',\n",
       " 'Sumforall',\n",
       " 'MGVishnu',\n",
       " 'khergert',\n",
       " 'elizargolubev',\n",
       " 'weekinpharma',\n",
       " 'jfredysrivas',\n",
       " 'okimaul93976242',\n",
       " 'arghhhhh12',\n",
       " 'BryanKilvinski',\n",
       " 'Snapronni',\n",
       " 'Xaviersawake',\n",
       " 'daiwei08',\n",
       " 'bautistalouis7',\n",
       " 'Za_17w',\n",
       " 'rointy',\n",
       " 'GO1fXFAv7ZuMSYG',\n",
       " 'MovieProducer7',\n",
       " 'stqswkijzcp2745',\n",
       " 'LorriesYeung',\n",
       " 'sandinojones',\n",
       " 'larson_cardwell',\n",
       " 'ActSciBot',\n",
       " 'seopinkvelvet',\n",
       " 'anna_mohney',\n",
       " 'Hendy42',\n",
       " 'I080066',\n",
       " 'xy8539158',\n",
       " 'antonartdb',\n",
       " 'hailingvigilant',\n",
       " 'abovdainfluence',\n",
       " 'ohthick',\n",
       " 'findyourreps',\n",
       " 'sarahzhou4',\n",
       " 'almetaposchet21',\n",
       " '0gn',\n",
       " 'among_stars_',\n",
       " 'TrevorRisdon',\n",
       " 'manoharalle',\n",
       " 'dydrmLinda',\n",
       " 'gokar2241',\n",
       " 'Gobbobot',\n",
       " 'MaxRossi2015',\n",
       " 'desiMausam',\n",
       " 'JournalDuGeek',\n",
       " 'wikitimelines',\n",
       " 'iembot_tbw',\n",
       " 'WhosThatPokebot',\n",
       " 'dadx10',\n",
       " 'zvenislavazhda3',\n",
       " 'FoolsGoldMag',\n",
       " 'bieke007',\n",
       " 'elisabettadelog',\n",
       " 'nicksand25',\n",
       " 'cyrilou2410',\n",
       " 'eitango8',\n",
       " 'UrbanskiMichel',\n",
       " 'monicaaaaah728',\n",
       " 'newberryts1',\n",
       " 'BaronessDupont',\n",
       " 'pilote13',\n",
       " 'StylingIconz',\n",
       " 'John_Jonny_00',\n",
       " 'Deadspin',\n",
       " 'perezj_210',\n",
       " 'Maskedcrafts',\n",
       " 'jonyreean1',\n",
       " 'RandFloyd',\n",
       " 'tango_latte',\n",
       " 'tsbrforum',\n",
       " '1212GMJ1212',\n",
       " 'RazerbladesX',\n",
       " 'souza_bob',\n",
       " 'jd3260',\n",
       " 'worldnews_5',\n",
       " '_blackobs',\n",
       " 'changblue5',\n",
       " 'Zacaria49681300',\n",
       " 'JasperShark',\n",
       " 'aerith_bot_',\n",
       " 'kia0725',\n",
       " '_OutToSea_',\n",
       " 'jfwong',\n",
       " 'andresmmo',\n",
       " 'a371771',\n",
       " 'Shakshi_Shah',\n",
       " 'RTtheBEST',\n",
       " 'adelew021',\n",
       " 'Jacob_C_Dunbar',\n",
       " 'Palmettospeed21',\n",
       " 'Mei_Kat_',\n",
       " 'duygusevinir',\n",
       " 'jeff_gluck',\n",
       " 'HeyItsMartty',\n",
       " 'kizzie_leech',\n",
       " 'buyopuyo',\n",
       " 'timcarlsson',\n",
       " 'mfvkejcebssk101',\n",
       " 'jwolfphillisp',\n",
       " 'kgclmpdycajm171',\n",
       " 'Akhiles92702103',\n",
       " 'Gano2k6',\n",
       " 'pedescoll98',\n",
       " 'thespamboxmd',\n",
       " 'BCAthletics',\n",
       " 'ocnqgevbqoxh251',\n",
       " 'mushr3q',\n",
       " 'lynnvandeweyer',\n",
       " 'Elena19971864',\n",
       " 'aHnaeMoriParfum',\n",
       " 'MARIACARMINATI1',\n",
       " 'KBdgrf8xAlabuOU',\n",
       " 'iekiek1984',\n",
       " 'Stephen_WW',\n",
       " 'perclickcash',\n",
       " 'ChopBoards',\n",
       " 'i7promptbot',\n",
       " 'Life2High',\n",
       " 'unfollow_this0',\n",
       " 'dramadevil_bot',\n",
       " 'JhosisVlogs',\n",
       " 'mu2060',\n",
       " 'SayfaTim',\n",
       " 'CamillOuw',\n",
       " 'OmarDaCosta',\n",
       " 'kbrynfor20',\n",
       " 'gldwill',\n",
       " 'LoveKibby',\n",
       " 'xheartxluke',\n",
       " 'cctwssbyp1836',\n",
       " 'AuspiciousItems',\n",
       " 'SuePattersonC21',\n",
       " 'Domix_Aus',\n",
       " 'ErikGriggs',\n",
       " 'ploadinggggg',\n",
       " 'LenexarkMa',\n",
       " 'feehTenac',\n",
       " 'jxfinktixv1200',\n",
       " 'newbiehome',\n",
       " 'DistinctlyD',\n",
       " 'natellafedosee4',\n",
       " 'alnaif1199',\n",
       " 'benproc',\n",
       " 'kidcasper10',\n",
       " 'sophies97',\n",
       " 'allali2012',\n",
       " 'CatholicTweet1',\n",
       " 'AsapTwelvyy',\n",
       " 'susan_wu543',\n",
       " 'mooreorless16',\n",
       " 'LinCCCCCC',\n",
       " 'Hamici_khun',\n",
       " 'nataliegalpern',\n",
       " 'badger19741974',\n",
       " 'uurek',\n",
       " 'Jodo_Jojo',\n",
       " 'EnglandKirkland',\n",
       " 'billionbyron',\n",
       " 'toddlercouncil',\n",
       " 'AlfredoC6',\n",
       " '_listen',\n",
       " 'jsdonahue11',\n",
       " 'mikhailoc7do',\n",
       " 'Vox_Plus',\n",
       " 'Chucks_N_Charge',\n",
       " 'IUPUI',\n",
       " 'boochikim',\n",
       " 'hanenhanin6',\n",
       " 'epifanijaksyon2',\n",
       " 'Paraiso54',\n",
       " 'hopkins808',\n",
       " 'scotthfowler',\n",
       " 'ouzhouhupq',\n",
       " 'lin90577',\n",
       " 'maleekfrenzy',\n",
       " 'ManishThakur88',\n",
       " 'louiloudlowa',\n",
       " 'dodoroirene',\n",
       " 'cchristensen',\n",
       " 'Eldavinn_3FA',\n",
       " 'Atikaniedzz',\n",
       " 'estiella1618',\n",
       " 'sararesende2',\n",
       " 'Kafanews',\n",
       " 'alpiedeldeporte',\n",
       " 'ross13581',\n",
       " 'AgentSmith47',\n",
       " 'OneLoveBoulder',\n",
       " 'dprimo3',\n",
       " 'ytzekrve1901',\n",
       " 'Juliasegurax',\n",
       " 'JoeyGavinelli',\n",
       " '2TEN90Brewing',\n",
       " 'pantherxp',\n",
       " 'bennettjames92',\n",
       " 'Linus_van_Pelt_',\n",
       " 'gjhf_bootle',\n",
       " 'jeanetteja55n48',\n",
       " 'dhqnwo',\n",
       " 'SoniaPoletti1',\n",
       " 'zaynagault1',\n",
       " 'alanwang8209',\n",
       " 'LoveAnnie_',\n",
       " 'dmitriydnxzh',\n",
       " 'KainCoppsCollin',\n",
       " 'masfrancesco',\n",
       " 'SareyanEliza',\n",
       " 'gaocmike',\n",
       " 'DenisRaney',\n",
       " 'KeganLuiz',\n",
       " 'OMERAHAMAD',\n",
       " 'Joii_ps',\n",
       " 'BrooklynParkMLS',\n",
       " 'heydtex',\n",
       " 'GeoArmenta',\n",
       " 'jeremyrl_ae',\n",
       " 'bwhitman26',\n",
       " 'BalataReving',\n",
       " 'musn88813',\n",
       " '48Jerk',\n",
       " 'AraceliPennin10',\n",
       " 'andreas_walka',\n",
       " 'rllzINS',\n",
       " 'forestgen',\n",
       " 'she_BRI_zayy',\n",
       " 'islasdaddy',\n",
       " 'DeborahLKostek',\n",
       " 'JesusdelRioPosa',\n",
       " 'tinyspires',\n",
       " 'tjqzyibcsgr1602',\n",
       " 'Millennial_momm',\n",
       " 'IlaryBlacks',\n",
       " 'goldway2013',\n",
       " 'JitsWeb',\n",
       " 'Bessie7o7',\n",
       " 'MStruttura',\n",
       " 'AvdeevErmey',\n",
       " '_anastasia_37',\n",
       " 'EE_Boutique',\n",
       " 'zhemcom',\n",
       " 'jjang_mini',\n",
       " 'Clotilde',\n",
       " 'JHollisStyles',\n",
       " 'samoc347_sam',\n",
       " 'hiphop2321',\n",
       " 'y315643613',\n",
       " 'Miguel_931',\n",
       " 'DanielGennaoui',\n",
       " 'MoncheteOrtega',\n",
       " 'lettersofshai',\n",
       " 'MiseUe459SMoulA',\n",
       " 'LizzieRoBo',\n",
       " 'Daniel4279',\n",
       " 'marsherman',\n",
       " 'Maryam_Dadar',\n",
       " 'edgarponce1985',\n",
       " 'juantorrealva',\n",
       " 'ocumleler',\n",
       " 'dilloncrysel',\n",
       " 'willtribble3',\n",
       " 'JaynesLawanna',\n",
       " 'CarsonValos',\n",
       " 'KODES69',\n",
       " 'BaumannLang',\n",
       " 'will_nihues',\n",
       " 'Clara_Collazos',\n",
       " 'HaikuMurakami',\n",
       " 'faithcharity7',\n",
       " 'KirstzDimple',\n",
       " 'lhtyxxzkmmozb71',\n",
       " 'SXMUrbanView',\n",
       " 'dr_mljc',\n",
       " 'Kingkuma96',\n",
       " 'CellularLove',\n",
       " 'jinks123matt',\n",
       " 'SpOnJaLeO',\n",
       " 'kimbateman2009',\n",
       " 'superman153740',\n",
       " 'MaryW57305382',\n",
       " 'maskkong',\n",
       " 'Billy11171',\n",
       " 'FuckYeahRivas',\n",
       " 'GGezPZez',\n",
       " 'JuliaOliveiras',\n",
       " 'mvpsos9',\n",
       " 'Fxlkes',\n",
       " 'satalymike',\n",
       " 'ExpeditionClube',\n",
       " 'DementevSadofiy',\n",
       " 'Jazzevangelist',\n",
       " 'happyhappydb',\n",
       " 'FlNELINEHARRY',\n",
       " 'GloriaWestlake',\n",
       " 'sabybaby14',\n",
       " 'ajayvajayjay',\n",
       " 'epjstroeuhlv131',\n",
       " 'iawVacv7rdmr6oq',\n",
       " 'katatzyna',\n",
       " 'tengpeng99',\n",
       " 'stanislavd1tel',\n",
       " 'Charozar555d',\n",
       " 'anisa_joline',\n",
       " 'fajarirawan759',\n",
       " 'ByronErnest',\n",
       " 'iam_zeromi',\n",
       " 'stevomac1989',\n",
       " 'RealGunrnr',\n",
       " 'botmakingart',\n",
       " 'Niecie007',\n",
       " 'brokencyde09',\n",
       " 'murtuzaikram',\n",
       " 'satonaoya',\n",
       " 'fleadanxd',\n",
       " 'ChuckieNorrisie',\n",
       " 'Loy_Tian1121',\n",
       " 'three_shape_bot',\n",
       " 'froggiecheer',\n",
       " 'str8midwest',\n",
       " 'Luckyss77',\n",
       " 'rascalhead_lulu',\n",
       " 'thewoodofa',\n",
       " 'KIIMLye4YN6j5Az',\n",
       " 'Drimian1',\n",
       " 'justinestes30',\n",
       " 'cutielady1',\n",
       " 'AttalusMusic',\n",
       " 'sundbal',\n",
       " 'flatfish0203',\n",
       " 'Nappy2TheRoot',\n",
       " 'DannyGibson58',\n",
       " 'logginlebedev86',\n",
       " 'VickiDossSmith',\n",
       " 'PBothnerMusic',\n",
       " '_gabrielwhat',\n",
       " 'eike_humor',\n",
       " 'ivangomez97',\n",
       " 'vinogradovarev5',\n",
       " 'gonegonems',\n",
       " 'birdbot4',\n",
       " 'ePtegetufti',\n",
       " 'ueomvzvyc534',\n",
       " 'roseyb320',\n",
       " 'AlphaCaelum45',\n",
       " 'Boston_Jobsite',\n",
       " 'mesmerinion',\n",
       " 'calcio_q8',\n",
       " 'JojoSuh',\n",
       " 'icots_io',\n",
       " 'leimostar',\n",
       " 'crisberdiaz1',\n",
       " 'BoxOfInsanity',\n",
       " 'paintnumbersbot',\n",
       " 'Khalid0728',\n",
       " 'amywang31218',\n",
       " 'lhg1eReuflYSN3j',\n",
       " 'BuzzFeedQuiz',\n",
       " 'ycvarxvavhivu21',\n",
       " 'minimazesolver',\n",
       " 'GialloAmetista',\n",
       " 'MICKIEMIKE1972',\n",
       " 'donorschamps',\n",
       " 'Raaaaaaaaachel',\n",
       " 'BeerAlien',\n",
       " 'RVExti',\n",
       " 'ShahramAmirehsa',\n",
       " 'Smoothiebot',\n",
       " 'misspennyXlane',\n",
       " 'brinadeasy',\n",
       " 'MORAISTQV',\n",
       " 'ithri2012',\n",
       " 'gettophilosophy',\n",
       " 'bens_world',\n",
       " 'manukalaris89',\n",
       " 'WerMagMich',\n",
       " '78_bands',\n",
       " 'gqxwqfuum1604',\n",
       " '2011Libbys',\n",
       " 'l4christ',\n",
       " 'Lizzie_Powell',\n",
       " 'PixelMonsterBot',\n",
       " 'PatriaDigital',\n",
       " 'SabrinnaWu',\n",
       " 'arindam60',\n",
       " 'Col0905Dpl',\n",
       " 'cristia70844305',\n",
       " 'natdakat',\n",
       " 'EmileeKay0901',\n",
       " 'brenna_hendin',\n",
       " 'Jaime_A_Sommers',\n",
       " 'uretim_hatasi',\n",
       " 'catsdogscats',\n",
       " 'Daniela76256500',\n",
       " 'OrtizAddi',\n",
       " 'wezeefbaby',\n",
       " 'JuicyAmpik',\n",
       " 'Gianniontheroad',\n",
       " 'jeatzs',\n",
       " 'xeonarno',\n",
       " 'ldh9721',\n",
       " 'SarahPfankuchen',\n",
       " 'badgalririUK',\n",
       " 'emojiatlas',\n",
       " 'bullyginge',\n",
       " 'aikopink517',\n",
       " 'ls_morejon',\n",
       " 'BeWarmers',\n",
       " 'Stzzap',\n",
       " 'rorr573',\n",
       " 'Mario64894139',\n",
       " 'shivamwritehere',\n",
       " 'xuelinnn',\n",
       " 'precure_screens',\n",
       " 'salas_tomiko',\n",
       " 'god__',\n",
       " '1RishabhMehra',\n",
       " 'brlsu24',\n",
       " 'Anabeatrizbrit5',\n",
       " 'MangrumTaylor',\n",
       " 'osxthemes',\n",
       " 'alexaguilaroja',\n",
       " 'celenago_SDVX',\n",
       " 'Emojiforest',\n",
       " 'damarapo03h75b',\n",
       " 'Darlene7212',\n",
       " 'uynoukemirrd101',\n",
       " 'leeyee85',\n",
       " 'Danilo260',\n",
       " 'jrumpire',\n",
       " 'BrandonBrahh',\n",
       " '9689f2884b8e4d6',\n",
       " 'EmoDaBarber',\n",
       " 'Wangchewc',\n",
       " 'gh158',\n",
       " 'FarmworkerYouth',\n",
       " 'sharechina',\n",
       " 'kingcarlos3',\n",
       " 'empis_99',\n",
       " 'VOSTamericas',\n",
       " 'Diletta123',\n",
       " 'PINTATSPRAYP',\n",
       " 'KaneNosh',\n",
       " 'aothitis',\n",
       " 'gpilly',\n",
       " 'dafermalabares',\n",
       " 'yearProgressHeb',\n",
       " 'roastbeef1976',\n",
       " 'BergmannKord',\n",
       " 'LaurenECSheeran',\n",
       " 'tonymarseno',\n",
       " 'CrashFever_PR',\n",
       " 'BethannBourne',\n",
       " 'je_skywalker',\n",
       " 'bridgiebearxx',\n",
       " 'kristaljwilkins',\n",
       " 'xxxiceSR',\n",
       " 'leo_jia',\n",
       " 's_putra88',\n",
       " 'DiaveL_aDRy',\n",
       " 'akarmeryem',\n",
       " 'macielbea_',\n",
       " 'LaNoticiaViral',\n",
       " 'Uniquesoulntn',\n",
       " 'ahlimalakipsg',\n",
       " 'vladimirdookl',\n",
       " 'kiranvemus',\n",
       " 'dingyixuan',\n",
       " 'NBA',\n",
       " 'eykler',\n",
       " 'fhldesignsuk',\n",
       " 'avgustinsergee2',\n",
       " 'HeyJFong',\n",
       " 'artassignbot',\n",
       " 'luv415',\n",
       " 'Ana63Annick',\n",
       " 'ladyamandinhac',\n",
       " 'MultiAlumniWill',\n",
       " 'CHSissues101',\n",
       " 'paulbaughman27',\n",
       " 'LadyLisaDepp1',\n",
       " 'RobPetroff989',\n",
       " 'hoxwwgqwq1351',\n",
       " 'abb1413',\n",
       " 'doudoubryant',\n",
       " 'mnsongguy',\n",
       " 'healingmidae',\n",
       " 'PheonixMaria',\n",
       " 'HobbsJeri',\n",
       " 'FabianPicom',\n",
       " 'famousduos',\n",
       " 'mrrosson',\n",
       " 'thetinygallery',\n",
       " 'traderaeiou',\n",
       " 'BuddaO_o',\n",
       " 'lyfoan_li',\n",
       " 'hfljkj',\n",
       " 'cdarwin',\n",
       " 'Consu_burgos',\n",
       " 'Austinumoh',\n",
       " 'LucaMolteni4',\n",
       " 'bangbangwang319',\n",
       " 'shentsukuyo',\n",
       " 'iyjzkfpxt2271',\n",
       " 'dinajill',\n",
       " 'Only1Goldy',\n",
       " 'beluquintero99',\n",
       " 'bhcosmetics',\n",
       " 'pumbaabean',\n",
       " 'PaintNames',\n",
       " 'HTC_OliviaW',\n",
       " 'AlbinkaSavina',\n",
       " '1894Manual',\n",
       " 'poota080',\n",
       " 'zkf613',\n",
       " 'djmhqjhuiivp241',\n",
       " 'MRunea',\n",
       " 'E1btZd2WXQuESpD',\n",
       " 'eybjqqhrvu72',\n",
       " 'S43qaPepuTCvR1F',\n",
       " 'mcwhorter_buffy',\n",
       " 'claspa62',\n",
       " 'J54324',\n",
       " 'soccerGuru6',\n",
       " 'CuYj6ErsN3tbmyJ',\n",
       " 'imosisfmeymnl11',\n",
       " 'rhgjsxbydonrim1',\n",
       " 'ou_game',\n",
       " 'SIKATSAY',\n",
       " 'colinz226',\n",
       " 'dyadyadivan',\n",
       " 'alrmoanci',\n",
       " 'LensRealitp',\n",
       " 'doradoudou7',\n",
       " 'ngleclerc',\n",
       " 'yanlv1983',\n",
       " 'WillBsTronda',\n",
       " 'AislanLeal',\n",
       " 'doorsateight',\n",
       " 'sahem778',\n",
       " 'aa_jon',\n",
       " 'malupcial',\n",
       " 'xxxdroxypro',\n",
       " '13maja13',\n",
       " 'WritersBlockBot',\n",
       " 'AbundantLifeSp',\n",
       " 'dinamalarweb',\n",
       " 'Deronus',\n",
       " 'DHPRECORDS',\n",
       " 'funky_1973',\n",
       " 'richard_SMDC',\n",
       " 'Sunlight_Bot',\n",
       " 'POETRYGURL',\n",
       " 'nonexisting11w',\n",
       " 'Saif_Bin01',\n",
       " 'healthandus',\n",
       " 'OyunMerkezi0',\n",
       " 'hysoo777',\n",
       " 'yesyesitsjj',\n",
       " 'KydroOfficial',\n",
       " 'AndromedaBot',\n",
       " 'SexoyLefa',\n",
       " 'sasham2sqvolkov',\n",
       " 'sandyc1772',\n",
       " 'ethercoinschile',\n",
       " 'AnonExecutive',\n",
       " 'bru_couto',\n",
       " 'b00stgod',\n",
       " 'brunagarcez08',\n",
       " 'Jwarasunabi',\n",
       " 'ArgaamIM',\n",
       " 'ICABismarck',\n",
       " '0t3mAvZPoDS9RTE',\n",
       " 'Viola_rossa3',\n",
       " 'WarriorofDarkn_',\n",
       " 'zimnmad',\n",
       " 'jinyang930906',\n",
       " 'asog82',\n",
       " 'ReggieW66206273',\n",
       " 'BenhamouJ',\n",
       " 'FatSkinnyGrl',\n",
       " 'CarytheEditor',\n",
       " 'YanYxh',\n",
       " 'gonzalez_naomy',\n",
       " 'oharrypotter',\n",
       " 'howjenaltan',\n",
       " 'Rothko_Bot',\n",
       " 'Ukmehmet34',\n",
       " 'kirilllihachev6',\n",
       " 'HansonMAGOP',\n",
       " 'DFresnaye',\n",
       " 'Holaa63146637',\n",
       " 'NPavankrishna',\n",
       " 'hrdwlby',\n",
       " 'ComSecYouth',\n",
       " 'Nurulxxx_',\n",
       " 'RoseMaryRichar9',\n",
       " 'layla_prince',\n",
       " 'rain706swim',\n",
       " 'LettAutumn',\n",
       " 'raul_CV99',\n",
       " 'ljoei1',\n",
       " 'gabbyteifke',\n",
       " 'ellle_eM_',\n",
       " 'ryfekibaseka',\n",
       " 'mirtillamarino',\n",
       " 'herb0730',\n",
       " 'AlexPoirier4',\n",
       " 'dayofweek_bot',\n",
       " 'kayruhpax',\n",
       " 'jasleen_EGR',\n",
       " 'CBSPittsburgh',\n",
       " 'lanitatrig',\n",
       " 'ivenhua',\n",
       " 'SimplyColorsCom',\n",
       " 'JENNERWalter',\n",
       " 'renbaibai',\n",
       " 'Crypto12_',\n",
       " 'cdaz0032',\n",
       " 'Rafaela53931379',\n",
       " 'Fenamil',\n",
       " 'ClemsonSports',\n",
       " 'TinyAdv',\n",
       " 'daft_stars',\n",
       " 'joeygstatus',\n",
       " 'PlayOnStudios',\n",
       " '12News',\n",
       " 'stafanipr82y02t',\n",
       " 'ExecAutosCars',\n",
       " 'shavond43943282',\n",
       " 'Neoooooooooooox',\n",
       " 'zmil3z',\n",
       " 'alice_fred',\n",
       " 'ughke',\n",
       " 'kariottagr62o48',\n",
       " 'remakable',\n",
       " 'hordak92',\n",
       " 'revel20192',\n",
       " 'nokxhbhcz2859',\n",
       " 'eymzmoka1657',\n",
       " 'y08RfrXsqkeIMFk',\n",
       " 'Stockguy22U',\n",
       " 'T_bone77Uknw',\n",
       " 'Joker12953',\n",
       " 'fagujywidyj',\n",
       " 'KeplerBot',\n",
       " 'thato_mkhebuthi',\n",
       " 'resenhabot',\n",
       " 'poems2go',\n",
       " 'KifO4o5',\n",
       " 'soumatika',\n",
       " 'catlopez',\n",
       " 'Simply_Mattie',\n",
       " 'zafyyussrol',\n",
       " 'allenbonthuis',\n",
       " 'bentoman10',\n",
       " 'soyunhackerr',\n",
       " 'sudusingheMM',\n",
       " 'handelville',\n",
       " 'AWMUasnVf4aH0Ix',\n",
       " 'song6502',\n",
       " 'WuJuun',\n",
       " 'keyeo1',\n",
       " 'Oscar_23184060',\n",
       " 'gorbachevamart4',\n",
       " 'arunvu',\n",
       " 'Hormonalizado',\n",
       " 'fersabal1',\n",
       " '50hexofgrey',\n",
       " 'Lomasdelcarril',\n",
       " 'TonyE047',\n",
       " 'Laycock_Digital',\n",
       " 'SonetatL',\n",
       " 'Abel_Ferreira99',\n",
       " 'itsfino1',\n",
       " 'TEATEA_WORLD',\n",
       " 'JohnMongiovi',\n",
       " 'missblonde4evr',\n",
       " 'SBrennon',\n",
       " 'atlasindustrl',\n",
       " 'AskMenUK',\n",
       " 'SpecsHoward',\n",
       " 'luxxluis',\n",
       " 'Moonsu0401',\n",
       " 'AguiarJus',\n",
       " 'saleemenglish',\n",
       " 'ParkSeulTae',\n",
       " 'CultureShip_bot',\n",
       " 'IamKatPetrova',\n",
       " 'wssgsc',\n",
       " '__Spiderlily__',\n",
       " 'VidalShino',\n",
       " 'DunnGerry',\n",
       " 'talkatshop',\n",
       " 'hln8881',\n",
       " 'akosigrasiya',\n",
       " 'charliebarth3',\n",
       " '48group_love',\n",
       " 'mimosamms',\n",
       " 'twanasingh2521',\n",
       " 'nada_751',\n",
       " 'PlanetarySurvey',\n",
       " 'zangweish',\n",
       " 'alonecomando',\n",
       " 'deleteddddddd5',\n",
       " 'window_scene',\n",
       " 'Health_ksa_1',\n",
       " 'PineappleCrumb',\n",
       " 'funnyquad',\n",
       " 'ESPNFC',\n",
       " 'KnoxvilleDaniel',\n",
       " 'cuiliangping',\n",
       " 'loser171cm',\n",
       " '99iriswang',\n",
       " 'Zachary_Hereygs',\n",
       " 'vadimtosslytkin',\n",
       " 'gessica_bravi',\n",
       " 'Linsuney',\n",
       " 'Guidewire_PandC',\n",
       " 'Asparagas133',\n",
       " 'murthaburke',\n",
       " '92gAsuvbaugekYe',\n",
       " 'TravusSchlenker',\n",
       " 'Yuguang_Chen',\n",
       " 'diamondsgoldem',\n",
       " 'bestscstories',\n",
       " 'kumarmangla',\n",
       " '5llw05',\n",
       " 'joonxuer',\n",
       " 'clorisying',\n",
       " 'moaixiao',\n",
       " 'BooandHazz1',\n",
       " 'ananda_moura',\n",
       " '461358948',\n",
       " '241711403',\n",
       " 'wyattmerrifield',\n",
       " 'xtreme_ninja',\n",
       " 'avksentiybespa1',\n",
       " 'SwordShapedPen',\n",
       " 'FasanikLino',\n",
       " 'ZiaGuerriera',\n",
       " 'justme_thomas',\n",
       " 'zzjekdpnntxqbi1',\n",
       " 'DaaKurlzzz',\n",
       " 'jevbhxno2591',\n",
       " 'SinghLions',\n",
       " 'adrianprecup',\n",
       " 'pdlmoreira',\n",
       " 'shangliway',\n",
       " 'BtwWhitesides',\n",
       " 'samdoherty21',\n",
       " 'MegN_Welch',\n",
       " 'Europe1',\n",
       " 'SimpleLOVEspell',\n",
       " 'AbiRoseHemming',\n",
       " 'Gatesak',\n",
       " 'Walll3',\n",
       " 'Bobby_Grimshaw',\n",
       " 'Anggraeni_1004',\n",
       " 'isaev_zurab',\n",
       " 'IeKalyan',\n",
       " 'fabiolimagente',\n",
       " 'CarreraMOB',\n",
       " 'HakopsHacker',\n",
       " 'palmbeachr',\n",
       " 'BerrimanAJs',\n",
       " 'eydlbsprmlffkq1',\n",
       " 'serenemy94j61g',\n",
       " 'fakefantas',\n",
       " 'margotcheri',\n",
       " 'TASTERSofficial',\n",
       " '287964130',\n",
       " 'Fuzo21',\n",
       " 'KawasakiFans',\n",
       " 'DadaistBot',\n",
       " 'keyondria__',\n",
       " 'BeratzDennis',\n",
       " 'HazimAwad',\n",
       " 'kulakoviulii192',\n",
       " 'pizzar',\n",
       " 'Crazy_Yang_',\n",
       " 'Dzevooo',\n",
       " 'cris_pinochet',\n",
       " 'BartmanPGx',\n",
       " 'prioridad_ser',\n",
       " 'Gabri_Razzoli',\n",
       " 'dndjunkie26',\n",
       " 'leftoverer',\n",
       " 'Dumb1113',\n",
       " 'CHevio_Letrry',\n",
       " 'nsqugfghlr1595',\n",
       " 'Jemartinatt',\n",
       " 'yhwjyrunapv2283',\n",
       " 'BorisovMeletiy',\n",
       " 'kitcatclock56',\n",
       " 'iRohitKulkarni',\n",
       " 'sustainablemrk',\n",
       " 'TheSmexx',\n",
       " 'uvarovtullii1',\n",
       " 'JYo71',\n",
       " 'NatGeo',\n",
       " 'karianlatricesn',\n",
       " '263Chat',\n",
       " 'Camy_Wamy',\n",
       " 'kcbdqixcie1800',\n",
       " 'MarieKNielsen',\n",
       " 'chik___79',\n",
       " 'kh2013aled818',\n",
       " 'dailysicp',\n",
       " 'maebug126',\n",
       " '04LS_nagoya',\n",
       " 'ma343ma',\n",
       " 'elygu14',\n",
       " 'ExieKimura',\n",
       " 'dedyoner',\n",
       " 'Vox304',\n",
       " 'Rafaele_Lessa',\n",
       " 'janahminks',\n",
       " 'gendercakes',\n",
       " 'halaniz2000',\n",
       " 'starjake62',\n",
       " 'littlebubbot',\n",
       " 'Anton_wb88',\n",
       " 'neuralgae',\n",
       " 'windycity_sarah',\n",
       " 'joshwhammond',\n",
       " 'gabrielzinovev4',\n",
       " 'DigitalCuko',\n",
       " 'Cocobidin',\n",
       " 'divangessen',\n",
       " 'kmoney823',\n",
       " 'aliorgun1',\n",
       " 'OrlandoJG314',\n",
       " 'kosaku776',\n",
       " 'DabSalthecat',\n",
       " 'Madhousesa',\n",
       " 'ruslantetozx',\n",
       " 'fangh520',\n",
       " 'nandalindsay',\n",
       " 'mahernandez02',\n",
       " 'Ov3rdryv3',\n",
       " 'goTakeThis',\n",
       " 'Belbracon',\n",
       " 'aizome_jp',\n",
       " '_whatatragedy',\n",
       " 'ce_sou',\n",
       " 'henchthumb',\n",
       " 'Felix_Forte',\n",
       " '4rvFQQkvMZStzPL',\n",
       " 'Kmi_llinha',\n",
       " 'billsmokey1',\n",
       " 'cbvqptvb1024',\n",
       " 'DavidSosland',\n",
       " 'zhuuxelmjvwjov1',\n",
       " 'odhchngleoto981',\n",
       " 'IvvUpfItairwpts',\n",
       " 'IndieGameTrends',\n",
       " 'steelgabriel',\n",
       " 'RockwellToshia',\n",
       " 'lilyprus',\n",
       " 'Yao_Haruna',\n",
       " 'annaliesemack',\n",
       " 'Zivoni_',\n",
       " 'CxleEstrvdv28',\n",
       " 'CurvyLadyProbs',\n",
       " 'xiaonaiyou',\n",
       " 'gold_or_bitcoin',\n",
       " '_Prettymash_',\n",
       " 'pasmarose',\n",
       " 'zztz1994',\n",
       " 'tderincquesen',\n",
       " 'caromurgas',\n",
       " 'Luckyfor222',\n",
       " 'gendisasters',\n",
       " 'mrpickles100',\n",
       " 'dschwa11',\n",
       " 'folkamike',\n",
       " 'gabrielfpviana',\n",
       " 'AndreaGoiburu',\n",
       " 'szzoli98',\n",
       " 'OminousZoom',\n",
       " 'TorfsBot',\n",
       " 'metropologeny',\n",
       " 'serta_mulia',\n",
       " 'Latina4120',\n",
       " 'carlosheitoroo',\n",
       " 'angle198427',\n",
       " 'davydovalvin1',\n",
       " 'MerkushevAggej',\n",
       " 'Hackededededed',\n",
       " 'curehead22',\n",
       " 'TheSabys',\n",
       " 'TinyDungeons',\n",
       " 'nhqtjlkbuxubgx1',\n",
       " 'dahrlan',\n",
       " 'supersaenz',\n",
       " 'be_the_light31',\n",
       " 'alexitodp',\n",
       " 'EdieHolm',\n",
       " 'avinute',\n",
       " 'rushernossa',\n",
       " 'TonyBraine',\n",
       " 'kkmadds',\n",
       " 'FrankMGomelesio',\n",
       " 'ninassao',\n",
       " 'Tavaris16',\n",
       " 'donatellaponom4',\n",
       " 'tudorrose24',\n",
       " 'simona83imperia',\n",
       " 'EmojiMoodBot',\n",
       " 'Cnote442',\n",
       " 'chernovmart1',\n",
       " 'spiderwebb92',\n",
       " 'nstiutiu',\n",
       " 'GvidonRusakov',\n",
       " 'vldmrnbkv',\n",
       " 'TimsLPs',\n",
       " 'pwwduqrqnkzcyd1',\n",
       " 'sangpqbvfsfwc11',\n",
       " 'tiagomarianosi1',\n",
       " 'Jackalonso1964',\n",
       " 'metalband_exe',\n",
       " 'InstallingJava',\n",
       " 'louie200211',\n",
       " 'Deema22',\n",
       " '492942064',\n",
       " 'paraolife',\n",
       " 'Harpreet183',\n",
       " 'brookiee232',\n",
       " 'rich2297',\n",
       " 'ranzoniana1',\n",
       " 'erwiiiiiiiiiiin',\n",
       " 'IbiteTatts',\n",
       " 'Discourse_1',\n",
       " 'gonzapalermo',\n",
       " 'Dominic86565591',\n",
       " 'diedra_hae',\n",
       " 'BhartenduRoy',\n",
       " 'PrimerImpacto',\n",
       " 'EveVRF',\n",
       " 'mxoeqjnahhoq101',\n",
       " 'kreem_lave',\n",
       " 'GoldStuart',\n",
       " 'reml5477',\n",
       " 'bb890525',\n",
       " 'JuniorJoely',\n",
       " 'Rwinzou',\n",
       " 'yuexie',\n",
       " 'vasiliystcz',\n",
       " 'amy__oc',\n",
       " 'Electroartist',\n",
       " 'raoelaqfkdwb161',\n",
       " 'ONECampaign',\n",
       " 'davyhe121',\n",
       " 'AlexisV93054233',\n",
       " 'martens_tiffany',\n",
       " 'HEJ_Xoxo',\n",
       " 'manyakes',\n",
       " 'hipchic332',\n",
       " 'Tudor_Paunas',\n",
       " 'vida__loka_',\n",
       " 'rodrigogrillo2',\n",
       " 'goinghometolou',\n",
       " 'Kurorin715',\n",
       " 'jeorkov',\n",
       " 'GalenTracy',\n",
       " 'SORBmusic',\n",
       " 'caapulcukiz',\n",
       " 'alnukdh141',\n",
       " 'CNNIndonesia',\n",
       " 'uberfunphilly',\n",
       " 'GetGymMotivated',\n",
       " 'IVIinions',\n",
       " 'Esther_Laurita',\n",
       " 'kingjvmvs',\n",
       " 'About_Di',\n",
       " 'gvmpavankumar53',\n",
       " ...]"
      ]
     },
     "execution_count": 57,
     "metadata": {},
     "output_type": "execute_result"
    }
   ],
   "source": [
    "df_train[df_train['target']==1]['screen_name'].unique().tolist()"
   ]
  },
  {
   "cell_type": "code",
   "execution_count": 58,
   "id": "503ea4ff-cce9-44ed-ae0d-6679b20f15c7",
   "metadata": {
    "scrolled": true
   },
   "outputs": [
    {
     "name": "stdout",
     "output_type": "stream",
     "text": [
      "Number of users with 'bot' in screen_name (target == 1): 149\n"
     ]
    },
    {
     "data": {
      "text/plain": [
       "['ActSciBot',\n",
       " 'Gobbobot',\n",
       " 'iembot_tbw',\n",
       " 'WhosThatPokebot',\n",
       " 'aerith_bot_',\n",
       " 'i7promptbot',\n",
       " 'dramadevil_bot',\n",
       " 'botmakingart',\n",
       " 'three_shape_bot',\n",
       " 'PBothnerMusic',\n",
       " 'birdbot4',\n",
       " 'paintnumbersbot',\n",
       " 'Smoothiebot',\n",
       " 'PixelMonsterBot',\n",
       " 'artassignbot',\n",
       " 'WritersBlockBot',\n",
       " 'Sunlight_Bot',\n",
       " 'AndromedaBot',\n",
       " 'Rothko_Bot',\n",
       " 'dayofweek_bot',\n",
       " 'KeplerBot',\n",
       " 'resenhabot',\n",
       " 'CultureShip_bot',\n",
       " 'DadaistBot',\n",
       " 'littlebubbot',\n",
       " 'TorfsBot',\n",
       " 'EmojiMoodBot',\n",
       " 'So_YouBotDetntn',\n",
       " 'botifyouagree',\n",
       " 'botcocktails',\n",
       " 'notyourbot1',\n",
       " 'ReadMeLikeABot',\n",
       " 'NotAWaterBottle',\n",
       " 'newspaperbot',\n",
       " '3DHYoBoTlotMyaG',\n",
       " 'spacetravelbot',\n",
       " 'BrundageBot',\n",
       " 'bot_sisoku',\n",
       " 'Kiba_horse_bot',\n",
       " 'PrettyBirdsBot',\n",
       " 'hypno__bot',\n",
       " 'nhcbot',\n",
       " 'yourwindowbot',\n",
       " 'pico8bot',\n",
       " 'BikeDTLABot',\n",
       " 'anthrobotica',\n",
       " 'TonightWeBot',\n",
       " 'a_painting_bot',\n",
       " 'YouLookNiceBot',\n",
       " 'HalloSpacebot',\n",
       " 'menubot',\n",
       " 'BackToWorkBot',\n",
       " 'bot_teleport',\n",
       " 'insectsbot',\n",
       " 'thelockbot',\n",
       " 'folkloricbot',\n",
       " 'EmojiLoveBot',\n",
       " '_AARON_bot',\n",
       " 'cityatnightbot',\n",
       " 'eecummings_bot',\n",
       " 'wildflowersbot',\n",
       " 'NanceBot',\n",
       " 'ObliqueBot',\n",
       " 'BotEquippedWith',\n",
       " 'hana_kotoba_bot',\n",
       " 'anappleadaybot',\n",
       " 'BracketMemeBot',\n",
       " 'schmuckbot',\n",
       " 'WesAndFilmBot',\n",
       " 'thehoroscopebot',\n",
       " 'JeffGoldblumbot',\n",
       " 'CryptoFeedBot',\n",
       " 'lovebotcraft',\n",
       " 'bot_enough',\n",
       " 'UC_Poesias_Bot',\n",
       " 'fearwantbot',\n",
       " 'AteneumBot',\n",
       " 'alignment_bot',\n",
       " 'ImagesDArtBot',\n",
       " 'SecretHistBot',\n",
       " 'ishipitbot',\n",
       " 'ForTheRecordBot',\n",
       " 'Gureggru_bot',\n",
       " 'SHIRANEbot',\n",
       " 'ANWarriorBot',\n",
       " 'costumebot',\n",
       " 'osspbot',\n",
       " 'tarojibot',\n",
       " 'interfluidibot',\n",
       " 'EmojiGenderBot',\n",
       " 'astrove_bot',\n",
       " 'particlemanbot',\n",
       " 'GoOutsideBot',\n",
       " 'WeRaBot',\n",
       " 'helloworld__bot',\n",
       " 'FixmeBot',\n",
       " 'VergleichBot',\n",
       " 'Mgk8BallBot',\n",
       " 'snurbbotinfo',\n",
       " 'greatartbot',\n",
       " 'HomeMoviesBot',\n",
       " 'happyendingbot',\n",
       " 'LSystemBot',\n",
       " 'DSkinopio_bot',\n",
       " 'botdoesnot',\n",
       " 'PlanMyDayBot',\n",
       " '_ku_bot',\n",
       " 'CarloMarxBot',\n",
       " 'CozinhaBot',\n",
       " 'PoCorGTFOBot',\n",
       " 'subbotin_pamfil',\n",
       " 'Bartlebythebot',\n",
       " 'take_amenbot',\n",
       " 'No_hay_bot',\n",
       " 'astrobot3000',\n",
       " 'sunrisebot',\n",
       " 'JPEGBot',\n",
       " 'haxdbot1',\n",
       " 'ilovethisbot',\n",
       " 'JoyOfBotRoss',\n",
       " 'SpaceJamBot',\n",
       " 'theresamaybot',\n",
       " 'FederalistBot',\n",
       " 'visualrecordbot',\n",
       " 'fallingleafbot',\n",
       " 'FPAdventuresBot',\n",
       " 'bot_the_dickens',\n",
       " 'astrology_bot',\n",
       " 'trendbot',\n",
       " 'hope_bot',\n",
       " 'StoryPremiseBot',\n",
       " 'pleading_bot',\n",
       " 'moon_rise_bot',\n",
       " 'rhymerobot',\n",
       " 'WhyBeBot',\n",
       " 'lycanthrobot',\n",
       " 'AppraisalBot',\n",
       " 'SandpileArtBot',\n",
       " 'BotDuCul',\n",
       " 'vroom_vroom_bot',\n",
       " 'SinebrychoffBot',\n",
       " 'ShitpostBot5000',\n",
       " 'VitaVirginiaBot',\n",
       " 'IndieGameDevBot',\n",
       " 'PermitBot',\n",
       " 'iembot',\n",
       " 'beetlesbot',\n",
       " '_sys_bot_',\n",
       " 'BotSchmot']"
      ]
     },
     "execution_count": 58,
     "metadata": {},
     "output_type": "execute_result"
    }
   ],
   "source": [
    "mask = df_train[df_train['target'] == 1]['screen_name'].str.contains(r'bot', case=False, na=False)\n",
    "count_bot_users = mask.sum()\n",
    "\n",
    "print(f\"Number of users with 'bot' in screen_name (target == 1): {count_bot_users}\")\n",
    "df_train[(df_train['target'] == 1)&(df_train['screen_name'].str.contains(r'bot', case=False, na=False))]['screen_name'].tolist()"
   ]
  },
  {
   "cell_type": "markdown",
   "id": "a19a0922-c711-4cdf-b762-9ad225af86ce",
   "metadata": {},
   "source": [
    "Some of the bot contains the word 'bot' in their `screen_name`"
   ]
  },
  {
   "cell_type": "markdown",
   "id": "c45b5812-4b3e-4d13-a80c-7ae92b336a66",
   "metadata": {},
   "source": [
    "### 15) statuses_count"
   ]
  },
  {
   "cell_type": "code",
   "execution_count": null,
   "id": "aac8e87e-acd6-4fdf-95f3-40c94bb6fcfa",
   "metadata": {},
   "outputs": [],
   "source": []
  },
  {
   "cell_type": "markdown",
   "id": "1ec54259-9240-4594-9d64-093d7f43700a",
   "metadata": {},
   "source": [
    "### 16) verified"
   ]
  },
  {
   "cell_type": "code",
   "execution_count": null,
   "id": "5d7fcb47-45db-41a5-b915-4bdf7d96aa21",
   "metadata": {},
   "outputs": [],
   "source": []
  },
  {
   "cell_type": "markdown",
   "id": "c13cd726-2f34-498b-b1a5-20a0d2496e93",
   "metadata": {},
   "source": [
    "### 17) average_tweets_per_day"
   ]
  },
  {
   "cell_type": "code",
   "execution_count": null,
   "id": "d182e42e-573f-41f7-836f-41cd52d02929",
   "metadata": {},
   "outputs": [],
   "source": []
  },
  {
   "cell_type": "markdown",
   "id": "1a68afcc-6de2-48b3-8300-93d729a71cc1",
   "metadata": {},
   "source": [
    "### 18) account_age_days"
   ]
  },
  {
   "cell_type": "code",
   "execution_count": null,
   "id": "3c5045ea-943b-4ef2-936d-8fee009cfadd",
   "metadata": {},
   "outputs": [],
   "source": []
  },
  {
   "cell_type": "code",
   "execution_count": null,
   "id": "6c0bf42f-0c98-405e-8e2a-5271174d8c79",
   "metadata": {},
   "outputs": [],
   "source": []
  },
  {
   "cell_type": "code",
   "execution_count": null,
   "id": "31fa367d-5495-46e8-a717-ae8ecd31326a",
   "metadata": {},
   "outputs": [],
   "source": []
  }
 ],
 "metadata": {
  "kernelspec": {
   "display_name": "Python 3 (ipykernel)",
   "language": "python",
   "name": "python3"
  },
  "language_info": {
   "codemirror_mode": {
    "name": "ipython",
    "version": 3
   },
   "file_extension": ".py",
   "mimetype": "text/x-python",
   "name": "python",
   "nbconvert_exporter": "python",
   "pygments_lexer": "ipython3",
   "version": "3.12.11"
  }
 },
 "nbformat": 4,
 "nbformat_minor": 5
}
