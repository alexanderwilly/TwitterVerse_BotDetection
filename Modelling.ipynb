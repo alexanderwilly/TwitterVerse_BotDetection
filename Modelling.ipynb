{
 "cells": [
  {
   "cell_type": "code",
   "execution_count": 1,
   "id": "44b39b25-c831-4221-ade5-c3b83c66fd89",
   "metadata": {},
   "outputs": [],
   "source": [
    "import numpy as np\n",
    "import pandas as pd\n",
    "from tqdm import tqdm\n",
    "\n",
    "from sklearn.model_selection import train_test_split"
   ]
  },
  {
   "cell_type": "markdown",
   "id": "ca7dee26-0682-4d33-ba4f-175d403f26db",
   "metadata": {},
   "source": [
    "## Load Data"
   ]
  },
  {
   "cell_type": "code",
   "execution_count": 2,
   "id": "a91a0e1f-1e1c-41ec-9108-ba61a440959a",
   "metadata": {},
   "outputs": [
    {
     "name": "stderr",
     "output_type": "stream",
     "text": [
      "26207it [00:00, 88959.42it/s] \n"
     ]
    },
    {
     "data": {
      "text/html": [
       "<div>\n",
       "<style scoped>\n",
       "    .dataframe tbody tr th:only-of-type {\n",
       "        vertical-align: middle;\n",
       "    }\n",
       "\n",
       "    .dataframe tbody tr th {\n",
       "        vertical-align: top;\n",
       "    }\n",
       "\n",
       "    .dataframe thead th {\n",
       "        text-align: right;\n",
       "    }\n",
       "</style>\n",
       "<table border=\"1\" class=\"dataframe\">\n",
       "  <thead>\n",
       "    <tr style=\"text-align: right;\">\n",
       "      <th></th>\n",
       "      <th>created_at</th>\n",
       "      <th>default_profile</th>\n",
       "      <th>default_profile_image</th>\n",
       "      <th>description</th>\n",
       "      <th>favourites_count</th>\n",
       "      <th>followers_count</th>\n",
       "      <th>friends_count</th>\n",
       "      <th>geo_enabled</th>\n",
       "      <th>id</th>\n",
       "      <th>lang</th>\n",
       "      <th>location</th>\n",
       "      <th>profile_background_image_url</th>\n",
       "      <th>profile_image_url</th>\n",
       "      <th>screen_name</th>\n",
       "      <th>statuses_count</th>\n",
       "      <th>verified</th>\n",
       "      <th>average_tweets_per_day</th>\n",
       "      <th>account_age_days</th>\n",
       "      <th>target</th>\n",
       "    </tr>\n",
       "  </thead>\n",
       "  <tbody>\n",
       "    <tr>\n",
       "      <th>0</th>\n",
       "      <td>2012-01-15 23:40:09</td>\n",
       "      <td>True</td>\n",
       "      <td>False</td>\n",
       "      <td>Cosplayer/Fitness lover. Come to me https://t....</td>\n",
       "      <td>74</td>\n",
       "      <td>7</td>\n",
       "      <td>0</td>\n",
       "      <td>False</td>\n",
       "      <td>465096524</td>\n",
       "      <td>en</td>\n",
       "      <td>unknown</td>\n",
       "      <td>http://abs.twimg.com/images/themes/theme1/bg.png</td>\n",
       "      <td>http://pbs.twimg.com/profile_images/9666745212...</td>\n",
       "      <td>reml5477</td>\n",
       "      <td>20</td>\n",
       "      <td>False</td>\n",
       "      <td>0.006</td>\n",
       "      <td>3138</td>\n",
       "      <td>1</td>\n",
       "    </tr>\n",
       "    <tr>\n",
       "      <th>1</th>\n",
       "      <td>2016-10-04 00:44:39</td>\n",
       "      <td>False</td>\n",
       "      <td>False</td>\n",
       "      <td>pobody’s nerfect</td>\n",
       "      <td>50443</td>\n",
       "      <td>164</td>\n",
       "      <td>590</td>\n",
       "      <td>True</td>\n",
       "      <td>783105517673648132</td>\n",
       "      <td>cy</td>\n",
       "      <td>she/her</td>\n",
       "      <td>http://abs.twimg.com/images/themes/theme1/bg.png</td>\n",
       "      <td>http://pbs.twimg.com/profile_images/1281752126...</td>\n",
       "      <td>kinlibra</td>\n",
       "      <td>6469</td>\n",
       "      <td>False</td>\n",
       "      <td>4.572</td>\n",
       "      <td>1415</td>\n",
       "      <td>0</td>\n",
       "    </tr>\n",
       "    <tr>\n",
       "      <th>2</th>\n",
       "      <td>2009-05-23 04:04:13</td>\n",
       "      <td>False</td>\n",
       "      <td>False</td>\n",
       "      <td>gracias por participar 🏅</td>\n",
       "      <td>9394</td>\n",
       "      <td>208</td>\n",
       "      <td>189</td>\n",
       "      <td>False</td>\n",
       "      <td>41970759</td>\n",
       "      <td>es</td>\n",
       "      <td>La diaspora</td>\n",
       "      <td>http://abs.twimg.com/images/themes/theme17/bg.gif</td>\n",
       "      <td>http://pbs.twimg.com/profile_images/1233811596...</td>\n",
       "      <td>_delaualau</td>\n",
       "      <td>30296</td>\n",
       "      <td>False</td>\n",
       "      <td>7.378</td>\n",
       "      <td>4106</td>\n",
       "      <td>0</td>\n",
       "    </tr>\n",
       "    <tr>\n",
       "      <th>3</th>\n",
       "      <td>2009-05-17 04:31:31</td>\n",
       "      <td>False</td>\n",
       "      <td>False</td>\n",
       "      <td>Stand Up Comedian/Actor from North Philadelphi...</td>\n",
       "      <td>46</td>\n",
       "      <td>66180</td>\n",
       "      <td>1090</td>\n",
       "      <td>True</td>\n",
       "      <td>40607946</td>\n",
       "      <td>en</td>\n",
       "      <td>Calabasas, CA</td>\n",
       "      <td>http://abs.twimg.com/images/themes/theme1/bg.png</td>\n",
       "      <td>http://pbs.twimg.com/profile_images/1184851104...</td>\n",
       "      <td>SpankHorton</td>\n",
       "      <td>164957</td>\n",
       "      <td>False</td>\n",
       "      <td>40.116</td>\n",
       "      <td>4112</td>\n",
       "      <td>0</td>\n",
       "    </tr>\n",
       "    <tr>\n",
       "      <th>4</th>\n",
       "      <td>2009-02-16 13:11:21</td>\n",
       "      <td>True</td>\n",
       "      <td>False</td>\n",
       "      <td>Assignment Editor at NBC10 and President of Ja...</td>\n",
       "      <td>1223</td>\n",
       "      <td>487</td>\n",
       "      <td>867</td>\n",
       "      <td>True</td>\n",
       "      <td>20983433</td>\n",
       "      <td>en</td>\n",
       "      <td>Jenkintown, PA</td>\n",
       "      <td>http://abs.twimg.com/images/themes/theme1/bg.png</td>\n",
       "      <td>http://pbs.twimg.com/profile_images/5234863934...</td>\n",
       "      <td>javelinjt</td>\n",
       "      <td>1752</td>\n",
       "      <td>False</td>\n",
       "      <td>0.417</td>\n",
       "      <td>4201</td>\n",
       "      <td>0</td>\n",
       "    </tr>\n",
       "  </tbody>\n",
       "</table>\n",
       "</div>"
      ],
      "text/plain": [
       "            created_at  default_profile  default_profile_image  \\\n",
       "0  2012-01-15 23:40:09             True                  False   \n",
       "1  2016-10-04 00:44:39            False                  False   \n",
       "2  2009-05-23 04:04:13            False                  False   \n",
       "3  2009-05-17 04:31:31            False                  False   \n",
       "4  2009-02-16 13:11:21             True                  False   \n",
       "\n",
       "                                         description  favourites_count  \\\n",
       "0  Cosplayer/Fitness lover. Come to me https://t....                74   \n",
       "1                                   pobody’s nerfect             50443   \n",
       "2                           gracias por participar 🏅              9394   \n",
       "3  Stand Up Comedian/Actor from North Philadelphi...                46   \n",
       "4  Assignment Editor at NBC10 and President of Ja...              1223   \n",
       "\n",
       "   followers_count  friends_count  geo_enabled                  id lang  \\\n",
       "0                7              0        False           465096524   en   \n",
       "1              164            590         True  783105517673648132   cy   \n",
       "2              208            189        False            41970759   es   \n",
       "3            66180           1090         True            40607946   en   \n",
       "4              487            867         True            20983433   en   \n",
       "\n",
       "         location                       profile_background_image_url  \\\n",
       "0         unknown   http://abs.twimg.com/images/themes/theme1/bg.png   \n",
       "1        she/her    http://abs.twimg.com/images/themes/theme1/bg.png   \n",
       "2     La diaspora  http://abs.twimg.com/images/themes/theme17/bg.gif   \n",
       "3   Calabasas, CA   http://abs.twimg.com/images/themes/theme1/bg.png   \n",
       "4  Jenkintown, PA   http://abs.twimg.com/images/themes/theme1/bg.png   \n",
       "\n",
       "                                   profile_image_url  screen_name  \\\n",
       "0  http://pbs.twimg.com/profile_images/9666745212...     reml5477   \n",
       "1  http://pbs.twimg.com/profile_images/1281752126...     kinlibra   \n",
       "2  http://pbs.twimg.com/profile_images/1233811596...   _delaualau   \n",
       "3  http://pbs.twimg.com/profile_images/1184851104...  SpankHorton   \n",
       "4  http://pbs.twimg.com/profile_images/5234863934...    javelinjt   \n",
       "\n",
       "   statuses_count  verified  average_tweets_per_day  account_age_days  target  \n",
       "0              20     False                   0.006              3138       1  \n",
       "1            6469     False                   4.572              1415       0  \n",
       "2           30296     False                   7.378              4106       0  \n",
       "3          164957     False                  40.116              4112       0  \n",
       "4            1752     False                   0.417              4201       0  "
      ]
     },
     "execution_count": 2,
     "metadata": {},
     "output_type": "execute_result"
    }
   ],
   "source": [
    "with tqdm() as bar:\n",
    "    # do not skip any of the rows, but update the progress bar instead\n",
    "    df = pd.read_csv('data/train.csv', skiprows=lambda x: bar.update(1) and False)\n",
    "\n",
    "df.head()"
   ]
  },
  {
   "cell_type": "markdown",
   "id": "f3b85eb1-affc-4751-9663-52e712ff3ece",
   "metadata": {},
   "source": [
    "## Train/Val/Test Split"
   ]
  },
  {
   "cell_type": "markdown",
   "id": "66261ebd-2b37-4476-a54b-0cbef4cb124f",
   "metadata": {},
   "source": [
    "The proportion of Train/Val/Test Split is:\n",
    "<ul>\n",
    "    <li>\n",
    "        Train: 70%\n",
    "    </li>\n",
    "    <li>\n",
    "        Val: 20%\n",
    "    </li>\n",
    "    <li>\n",
    "        Test: 10%\n",
    "    </li>\n",
    "</ul>"
   ]
  },
  {
   "cell_type": "code",
   "execution_count": 3,
   "id": "c79018f3-91f0-4274-825d-00a3041fc935",
   "metadata": {},
   "outputs": [],
   "source": [
    "X = df.drop('target', axis = 1) \n",
    "y = df['target']"
   ]
  },
  {
   "cell_type": "code",
   "execution_count": 4,
   "id": "3be3b4ce-58f8-4b80-9f9b-fa05834def9d",
   "metadata": {},
   "outputs": [],
   "source": [
    "# Initial split: 80% training, 20% validation & test\n",
    "X_train, X_temp, y_train, y_temp = train_test_split(X, y, test_size=0.2, random_state=1, stratify=y)\n",
    "\n",
    "# Second split: 10% validation, 10% test\n",
    "X_val, X_test, y_val, y_test = train_test_split(X_temp, y_temp, test_size=0.5, random_state=1, stratify=y_temp)"
   ]
  },
  {
   "cell_type": "markdown",
   "id": "c066f2fb-15cc-48e1-bccb-9ae38013393e",
   "metadata": {},
   "source": [
    "## Handling Missing Values and Type Conversion"
   ]
  },
  {
   "cell_type": "code",
   "execution_count": 5,
   "id": "ccbdb8a3-b3f8-4cc9-af93-ce205ce4d5d9",
   "metadata": {},
   "outputs": [
    {
     "data": {
      "text/plain": [
       "created_at                         0\n",
       "default_profile                    0\n",
       "default_profile_image              0\n",
       "description                     5091\n",
       "favourites_count                   0\n",
       "followers_count                    0\n",
       "friends_count                      0\n",
       "geo_enabled                        0\n",
       "id                                 0\n",
       "lang                            5588\n",
       "location                           2\n",
       "profile_background_image_url    3235\n",
       "profile_image_url                  1\n",
       "screen_name                        0\n",
       "statuses_count                     0\n",
       "verified                           0\n",
       "average_tweets_per_day             0\n",
       "account_age_days                   0\n",
       "target                             0\n",
       "dtype: int64"
      ]
     },
     "execution_count": 5,
     "metadata": {},
     "output_type": "execute_result"
    }
   ],
   "source": [
    "df.isnull().sum()"
   ]
  },
  {
   "cell_type": "code",
   "execution_count": 6,
   "id": "8d02cdb6-c750-4274-b1a1-436361182252",
   "metadata": {},
   "outputs": [],
   "source": [
    "# === function definitions ===\n",
    "def handle_missing_values(X): # to handle the missing values\n",
    "    cols = ['description', 'lang', 'location', 'profile_background_image_url', 'profile_image_url']\n",
    "    values = ['', 'unknown', 'unknown', 'unknown', X['profile_image_url'].mode()[0]]\n",
    "\n",
    "    for i in range(len(cols)):\n",
    "        X[ cols[i] ] = X[ cols[i] ].fillna( values[i] )\n",
    "\n",
    "# drop columns that are not needed for predictions\n",
    "def drop_cols(X):\n",
    "    cols = ['created_at', 'id']\n",
    "    return X.drop(cols, axis = 1)\n",
    "\n",
    "def type_conversion(X):\n",
    "    # to bool\n",
    "    cols = ['default_profile','default_profile_image', 'geo_enabled', 'verified']\n",
    "    for col in cols:\n",
    "        X[col] = X[col].astype(bool)\n",
    "\n",
    "    # to int\n",
    "    cols = ['favourites_count','followers_count','friends_count', 'statuses_count', 'account_age_days']\n",
    "    for col in cols:\n",
    "        X[col] = X[col].astype(int)\n",
    "\n",
    "    # to string\n",
    "    cols = ['description', 'location','profile_background_image_url','profile_image_url','screen_name']\n",
    "    for col in cols:\n",
    "        X[col] = X[col].astype(str)\n",
    "\n",
    "    # to category\n",
    "    cols = ['lang'] \n",
    "    for col in cols:\n",
    "        X[col] = X[col].astype('category')\n",
    "\n",
    "    # to float\n",
    "    cols = ['average_tweets_per_day']\n",
    "    for col in cols:\n",
    "        X[col] = X[col].astype(float)"
   ]
  },
  {
   "cell_type": "code",
   "execution_count": 7,
   "id": "5ec97777-9f34-4c6f-a554-ce0036d61949",
   "metadata": {},
   "outputs": [],
   "source": [
    "# handle missing values\n",
    "handle_missing_values(X_train)\n",
    "handle_missing_values(X_val)\n",
    "\n",
    "# drop columns\n",
    "X_train = drop_cols(X_train)\n",
    "X_val = drop_cols(X_val)\n",
    "\n",
    "# type conversion\n",
    "type_conversion(X_train)\n",
    "type_conversion(X_val)"
   ]
  },
  {
   "cell_type": "code",
   "execution_count": 8,
   "id": "46a80c13-a598-42ba-a6b1-808c81640cf3",
   "metadata": {},
   "outputs": [
    {
     "data": {
      "text/plain": [
       "default_profile                 0\n",
       "default_profile_image           0\n",
       "description                     0\n",
       "favourites_count                0\n",
       "followers_count                 0\n",
       "friends_count                   0\n",
       "geo_enabled                     0\n",
       "lang                            0\n",
       "location                        0\n",
       "profile_background_image_url    0\n",
       "profile_image_url               0\n",
       "screen_name                     0\n",
       "statuses_count                  0\n",
       "verified                        0\n",
       "average_tweets_per_day          0\n",
       "account_age_days                0\n",
       "dtype: int64"
      ]
     },
     "execution_count": 8,
     "metadata": {},
     "output_type": "execute_result"
    }
   ],
   "source": [
    "X_train.isnull().sum()"
   ]
  },
  {
   "cell_type": "code",
   "execution_count": 9,
   "id": "24676d33-8f6a-4712-96d9-927f0ceda76a",
   "metadata": {},
   "outputs": [
    {
     "data": {
      "text/plain": [
       "default_profile                 0\n",
       "default_profile_image           0\n",
       "description                     0\n",
       "favourites_count                0\n",
       "followers_count                 0\n",
       "friends_count                   0\n",
       "geo_enabled                     0\n",
       "lang                            0\n",
       "location                        0\n",
       "profile_background_image_url    0\n",
       "profile_image_url               0\n",
       "screen_name                     0\n",
       "statuses_count                  0\n",
       "verified                        0\n",
       "average_tweets_per_day          0\n",
       "account_age_days                0\n",
       "dtype: int64"
      ]
     },
     "execution_count": 9,
     "metadata": {},
     "output_type": "execute_result"
    }
   ],
   "source": [
    "X_val.isnull().sum()"
   ]
  },
  {
   "cell_type": "markdown",
   "id": "4db77e13-c866-41d8-97ff-3f4e02b5258d",
   "metadata": {},
   "source": [
    "## Feature Engineering"
   ]
  },
  {
   "cell_type": "code",
   "execution_count": 10,
   "id": "050a74b2-b093-4f88-97ed-ea4053bba7ff",
   "metadata": {},
   "outputs": [],
   "source": [
    "# ==== function definitions ====\n",
    "# log transform skewed data\n",
    "def normalize(X):\n",
    "    cols = ['favourites_count', 'followers_count', 'friends_count', 'statuses_count', 'average_tweets_per_day']\n",
    "\n",
    "    for col in cols:\n",
    "        X[col] = np.log(X[col] + 1)"
   ]
  },
  {
   "cell_type": "code",
   "execution_count": null,
   "id": "68d7cc60-dfba-498e-ac22-667e501eda90",
   "metadata": {},
   "outputs": [],
   "source": []
  },
  {
   "cell_type": "code",
   "execution_count": null,
   "id": "86e774a3-daf4-47fe-8d3b-81ae1ac7d5a7",
   "metadata": {},
   "outputs": [],
   "source": []
  },
  {
   "cell_type": "code",
   "execution_count": null,
   "id": "ac31dafa-2d8f-4fd7-b59f-76a705a0bc11",
   "metadata": {},
   "outputs": [],
   "source": []
  }
 ],
 "metadata": {
  "kernelspec": {
   "display_name": "Python 3 (ipykernel)",
   "language": "python",
   "name": "python3"
  },
  "language_info": {
   "codemirror_mode": {
    "name": "ipython",
    "version": 3
   },
   "file_extension": ".py",
   "mimetype": "text/x-python",
   "name": "python",
   "nbconvert_exporter": "python",
   "pygments_lexer": "ipython3",
   "version": "3.12.11"
  }
 },
 "nbformat": 4,
 "nbformat_minor": 5
}
